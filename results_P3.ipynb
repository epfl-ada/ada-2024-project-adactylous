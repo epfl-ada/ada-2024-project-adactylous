{
 "cells": [
  {
   "cell_type": "markdown",
   "metadata": {},
   "source": [
    "# ADA Project: Welcome to the final analysis of **Amercian Influence in the Cinema industry**"
   ]
  },
  {
   "cell_type": "markdown",
   "metadata": {},
   "source": [
    "## Authors\n",
    "- Group Name: ADACTYLOUS\n",
    "    - Chloé Bouchiat\n",
    "    - Claire Pinson\n",
    "    - Germana Sergi\n",
    "    - Luca Soravia\n",
    "    - Marlen Stöckli"
   ]
  },
  {
   "cell_type": "markdown",
   "metadata": {},
   "source": [
    "## Notebook's structure A MODIFIER POUR P3\n",
    "- Main librairies and specific functions from the utils folder\n",
    "- Our analysis workflow with a markdown cell explaining each code cell\n",
    "- The notebook reads as follow:\n",
    "    - movie.metadata enriched by IMDB ratings (coming from the IMDb non commercial datasets ([IMDb](https://developer.imdb.com/))\n",
    "        - General information about the dataset (i.e. basic stats, first visualization)\n",
    "        - Exploratory analysis of the dataset according to our research questions\n",
    "    - character.metadata enriched with wikipedia actor's nationality ([DBpedia](https://www.dbpedia.org/about/))\n",
    "        - General information about the dataset (i.e. basic stats, first visualization)\n",
    "        - Exploratory analysis of the dataset according to our research questions\n",
    "\n",
    "#### Recall of the repository structure:\n",
    "```\n",
    "📁 ada-2024-project-adactylous\n",
    "│\n",
    "├── 📄 results.ipynb (where all ours plots and analysis are)\n",
    "├── 📄 .gitignore (what is ignored during push and pull requests)\n",
    "├── 📄 requirements.txt (install into your environment)\n",
    "├── 📄 README.md\n",
    "│\n",
    "├── 📁 data\n",
    "       │── 📄 actor_metadata_CMU.csv\n",
    "       │── 📄 movie_metadata_CMU_IMDB.csv\n",
    "       │── 📄 nationality.csv\n",
    "       │── 📄 personas_metadata_CMU.csv\n",
    "       │── 📄 plot_summaries_CMU.csv\n",
    "├── 📁 src\n",
    "    ├── 📁 data\n",
    "    ├── 📁 models\n",
    "    ├── 📁 scripts\n",
    "        │── 📄 datasets_cleaner.py\n",
    "        │── 📄 nationality_importer.py\n",
    "    ├── 📁 utils\n",
    "└── 📁 tests\n",
    "``` \n",
    "**NOTE**: Other empty folders and .py files will be filled up later on during the project."
   ]
  },
  {
   "cell_type": "code",
   "execution_count": null,
   "metadata": {},
   "outputs": [],
   "source": [
    "# Import the needed libarairies\n",
    "import warnings # to ignore pandas version warning\n",
    "import numpy as np\n",
    "import pandas as pd\n",
    "import seaborn as sns\n",
    "import matplotlib.pyplot as plt\n",
    "import scipy.stats as stats\n",
    "from matplotlib.ticker import MaxNLocator\n",
    "from scipy.stats import ttest_ind, spearmanr # to implement statistical tests\n",
    "from sklearn.metrics import r2_score\n",
    "from sklearn.cluster import KMeans # for actors analysis\n",
    "from sklearn.preprocessing import StandardScaler\n",
    "from sklearn.linear_model import LinearRegression\n",
    "from sklearn.preprocessing import PolynomialFeatures\n",
    "\n",
    "############# Add more libraries if needed"
   ]
  },
  {
   "cell_type": "code",
   "execution_count": null,
   "metadata": {},
   "outputs": [],
   "source": [
    "########################### Read datasets from repository's data folder ############################\n",
    "movie_mtd = pd.read_table('data/movie_metadata_CMU_IMDB.csv', sep=',')\n",
    "actor_mtd = pd.read_table('data/actor_metadata_CMU.csv', sep=',')\n",
    "personas_mtd = pd.read_table('data/personas_metadata_CMU.csv', sep=',')"
   ]
  },
  {
   "cell_type": "code",
   "execution_count": null,
   "metadata": {},
   "outputs": [],
   "source": [
    "# Set a global background theme for all our plots and ignore warnings\n",
    "sns.set_theme(style=\"darkgrid\")\n",
    "warnings.filterwarnings(\"ignore\")"
   ]
  }
 ],
 "metadata": {
  "kernelspec": {
   "display_name": "ada",
   "language": "python",
   "name": "python3"
  },
  "language_info": {
   "name": "python",
   "version": "3.11.9"
  }
 },
 "nbformat": 4,
 "nbformat_minor": 2
}
