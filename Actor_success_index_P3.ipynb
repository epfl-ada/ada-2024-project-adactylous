{
 "cells": [
  {
   "cell_type": "code",
   "execution_count": 25,
   "metadata": {},
   "outputs": [],
   "source": [
    "# Import the needed libarairies\n",
    "\n",
    "import numpy as np\n",
    "import pandas as pd\n",
    "import seaborn as sns\n",
    "import matplotlib.pyplot as plt\n",
    "import scipy.stats as stats\n",
    "import statsmodels.api as sm\n",
    "\n",
    "\n",
    "from sklearn.preprocessing import StandardScaler\n",
    "from statsmodels.miscmodels.ordinal_model import OrderedModel\n",
    "from sklearn.model_selection import train_test_split\n",
    "from sklearn.metrics import accuracy_score"
   ]
  },
  {
   "cell_type": "code",
   "execution_count": 26,
   "metadata": {},
   "outputs": [],
   "source": [
    "movie_mtd = pd.read_table('data/movie_metadata_CMU_IMDB.csv', sep=',')\n",
    "actor_mtd = pd.read_table('data/actor_metadata_CMU.csv', sep=',')\n",
    "globes_index = pd.read_csv('data/globes_award_index.csv', sep=',')\n",
    "oscars_index = pd.read_csv('data/oscars_award_index.csv', sep=',')"
   ]
  },
  {
   "cell_type": "code",
   "execution_count": 27,
   "metadata": {},
   "outputs": [],
   "source": [
    "# Match the dataframes data\n",
    "\n",
    "globes_index = globes_index.rename(columns={\"nominee\":\"actor_name\"})\n",
    "oscars_index = oscars_index.rename(columns={\"nominee\":\"actor_name\"})"
   ]
  },
  {
   "cell_type": "markdown",
   "metadata": {},
   "source": [
    "### Create useful features for the creation of the success index"
   ]
  },
  {
   "cell_type": "code",
   "execution_count": 28,
   "metadata": {},
   "outputs": [],
   "source": [
    "df_actors = actor_mtd[['actor_name', 'birth_date', 'gender', 'height', 'nationality']].drop_duplicates(subset='actor_name').reset_index()\n",
    "\n",
    "min_age = actor_mtd.groupby('actor_name', as_index=False)['age_at_release'].min()\n",
    "min_age.rename(columns={'age_at_release': 'age_first_movie'}, inplace=True)\n",
    "df_actors = df_actors.merge(min_age, on='actor_name', how='left')\n",
    "\n",
    "max_age = actor_mtd.groupby('actor_name', as_index=False)['age_at_release'].max()\n",
    "max_age.rename(columns={'age_at_release': 'age_last_movie'}, inplace=True)\n",
    "df_actors = df_actors.merge(max_age, on='actor_name', how='left')\n",
    "\n",
    "# Number of movies\n",
    "count_movies = actor_mtd.groupby('actor_name', as_index=False)['title'].count()\n",
    "count_movies.rename(columns={'title' : 'number_of_movies'}, inplace=True)\n",
    "df_actors = df_actors.merge(count_movies, on='actor_name', how='left')\n",
    "\n",
    "# Career length\n",
    "df_actors['career_length'] = df_actors['age_last_movie'] - df_actors['age_first_movie']"
   ]
  },
  {
   "cell_type": "code",
   "execution_count": 29,
   "metadata": {},
   "outputs": [],
   "source": [
    "# Famous movies\n",
    "\n",
    "# Names of famous movies (top 10% based on box_office)\n",
    "famous_movie_df = movie_mtd.sort_values('box_office', ascending = False)\n",
    "len_revenue = int(len(famous_movie_df) * 0.1)\n",
    "top_10_percent_movies = famous_movie_df.head(len_revenue)\n",
    "names_fam_movies = top_10_percent_movies['title'].to_list()\n",
    "\n",
    "# Count famous movies per actor\n",
    "df_famous = actor_mtd[actor_mtd['title'].isin(names_fam_movies)]\n",
    "actor_famous_count = df_famous.groupby('actor_name')['title'].nunique().reset_index()\n",
    "\n",
    "# Merge the information with the original dataframe\n",
    "all_actors = pd.DataFrame({'actor_name': actor_mtd['actor_name'].unique()})\n",
    "actor_famous_count_full = pd.merge(all_actors, actor_famous_count, on='actor_name', how='left')\n",
    "actor_famous_count_full['title'] = actor_famous_count_full['title'].fillna(0).astype(int)\n",
    "df_actors['numb_fam_movies'] = actor_famous_count_full['title']"
   ]
  },
  {
   "cell_type": "markdown",
   "metadata": {},
   "source": [
    "## Prepare data for the model: Golden globes ground truth"
   ]
  },
  {
   "cell_type": "code",
   "execution_count": 30,
   "metadata": {},
   "outputs": [
    {
     "data": {
      "text/html": [
       "<div>\n",
       "<style scoped>\n",
       "    .dataframe tbody tr th:only-of-type {\n",
       "        vertical-align: middle;\n",
       "    }\n",
       "\n",
       "    .dataframe tbody tr th {\n",
       "        vertical-align: top;\n",
       "    }\n",
       "\n",
       "    .dataframe thead th {\n",
       "        text-align: right;\n",
       "    }\n",
       "</style>\n",
       "<table border=\"1\" class=\"dataframe\">\n",
       "  <thead>\n",
       "    <tr style=\"text-align: right;\">\n",
       "      <th></th>\n",
       "      <th>index</th>\n",
       "      <th>actor_name</th>\n",
       "      <th>birth_date</th>\n",
       "      <th>gender</th>\n",
       "      <th>height</th>\n",
       "      <th>nationality</th>\n",
       "      <th>age_first_movie</th>\n",
       "      <th>age_last_movie</th>\n",
       "      <th>number_of_movies</th>\n",
       "      <th>career_length</th>\n",
       "      <th>numb_fam_movies</th>\n",
       "      <th>nr_wins</th>\n",
       "      <th>nr_nominations</th>\n",
       "      <th>globes_index</th>\n",
       "    </tr>\n",
       "  </thead>\n",
       "  <tbody>\n",
       "    <tr>\n",
       "      <th>0</th>\n",
       "      <td>0</td>\n",
       "      <td>Wanda De Jesus</td>\n",
       "      <td>1958.0</td>\n",
       "      <td>F</td>\n",
       "      <td>1.620</td>\n",
       "      <td>American</td>\n",
       "      <td>31.0</td>\n",
       "      <td>51.0</td>\n",
       "      <td>8.0</td>\n",
       "      <td>20.0</td>\n",
       "      <td>5</td>\n",
       "      <td>0.0</td>\n",
       "      <td>0.0</td>\n",
       "      <td>0.0</td>\n",
       "    </tr>\n",
       "    <tr>\n",
       "      <th>1</th>\n",
       "      <td>1</td>\n",
       "      <td>Natasha Henstridge</td>\n",
       "      <td>1974.0</td>\n",
       "      <td>F</td>\n",
       "      <td>1.780</td>\n",
       "      <td>Other</td>\n",
       "      <td>20.0</td>\n",
       "      <td>35.0</td>\n",
       "      <td>23.0</td>\n",
       "      <td>15.0</td>\n",
       "      <td>7</td>\n",
       "      <td>0.0</td>\n",
       "      <td>0.0</td>\n",
       "      <td>0.0</td>\n",
       "    </tr>\n",
       "    <tr>\n",
       "      <th>2</th>\n",
       "      <td>2</td>\n",
       "      <td>Ice Cube</td>\n",
       "      <td>1969.0</td>\n",
       "      <td>M</td>\n",
       "      <td>1.727</td>\n",
       "      <td>American</td>\n",
       "      <td>22.0</td>\n",
       "      <td>42.0</td>\n",
       "      <td>33.0</td>\n",
       "      <td>20.0</td>\n",
       "      <td>20</td>\n",
       "      <td>0.0</td>\n",
       "      <td>0.0</td>\n",
       "      <td>0.0</td>\n",
       "    </tr>\n",
       "    <tr>\n",
       "      <th>3</th>\n",
       "      <td>3</td>\n",
       "      <td>Jason Statham</td>\n",
       "      <td>1967.0</td>\n",
       "      <td>M</td>\n",
       "      <td>1.750</td>\n",
       "      <td>Other</td>\n",
       "      <td>30.0</td>\n",
       "      <td>44.0</td>\n",
       "      <td>31.0</td>\n",
       "      <td>14.0</td>\n",
       "      <td>26</td>\n",
       "      <td>0.0</td>\n",
       "      <td>0.0</td>\n",
       "      <td>0.0</td>\n",
       "    </tr>\n",
       "    <tr>\n",
       "      <th>4</th>\n",
       "      <td>4</td>\n",
       "      <td>Clea DuVall</td>\n",
       "      <td>1977.0</td>\n",
       "      <td>F</td>\n",
       "      <td>1.650</td>\n",
       "      <td>American</td>\n",
       "      <td>19.0</td>\n",
       "      <td>34.0</td>\n",
       "      <td>31.0</td>\n",
       "      <td>15.0</td>\n",
       "      <td>15</td>\n",
       "      <td>0.0</td>\n",
       "      <td>0.0</td>\n",
       "      <td>0.0</td>\n",
       "    </tr>\n",
       "  </tbody>\n",
       "</table>\n",
       "</div>"
      ],
      "text/plain": [
       "   index          actor_name  birth_date gender  height nationality  \\\n",
       "0      0      Wanda De Jesus      1958.0      F   1.620    American   \n",
       "1      1  Natasha Henstridge      1974.0      F   1.780       Other   \n",
       "2      2            Ice Cube      1969.0      M   1.727    American   \n",
       "3      3       Jason Statham      1967.0      M   1.750       Other   \n",
       "4      4         Clea DuVall      1977.0      F   1.650    American   \n",
       "\n",
       "   age_first_movie  age_last_movie  number_of_movies  career_length  \\\n",
       "0             31.0            51.0               8.0           20.0   \n",
       "1             20.0            35.0              23.0           15.0   \n",
       "2             22.0            42.0              33.0           20.0   \n",
       "3             30.0            44.0              31.0           14.0   \n",
       "4             19.0            34.0              31.0           15.0   \n",
       "\n",
       "   numb_fam_movies  nr_wins  nr_nominations  globes_index  \n",
       "0                5      0.0             0.0           0.0  \n",
       "1                7      0.0             0.0           0.0  \n",
       "2               20      0.0             0.0           0.0  \n",
       "3               26      0.0             0.0           0.0  \n",
       "4               15      0.0             0.0           0.0  "
      ]
     },
     "execution_count": 30,
     "metadata": {},
     "output_type": "execute_result"
    }
   ],
   "source": [
    "# Merge the golden globe - based index\n",
    "\n",
    "df_actors_merged = df_actors.merge(globes_index, on = 'actor_name', how = 'left')\n",
    "df_actors_merged = df_actors_merged.fillna(0) # We suppose that the actors that are no in the globes_index dataframe have 0 nominees/awards\n",
    "# Problem here -> the dataset will be umbalanced (a lot of 0s)\n",
    "df_actors_merged.head()"
   ]
  },
  {
   "cell_type": "code",
   "execution_count": 31,
   "metadata": {},
   "outputs": [],
   "source": [
    "# Prepare data for the regression\n",
    "\n",
    "features = ['gender','height','age_first_movie','number_of_movies','career_length','numb_fam_movies']\n",
    "\n",
    "X = df_actors_merged[features]\n",
    "X = pd.get_dummies(X)\n",
    "X = X.drop(columns=['gender_0']) # to avoid redundacy (std err, z, P>|z| were all nan)\n",
    "Y = df_actors_merged['globes_index']"
   ]
  },
  {
   "cell_type": "code",
   "execution_count": 32,
   "metadata": {},
   "outputs": [
    {
     "name": "stdout",
     "output_type": "stream",
     "text": [
      "The training set has 107263 samples (and a shape of (107263, 7)).\n",
      "The test set has 26816 samples (and a shape of (26816, 7)).\n",
      "The target variable y for training has the shape (107263,).\n",
      "The target variable y for testing has the shape (26816,).\n"
     ]
    }
   ],
   "source": [
    "# Split to test and train\n",
    "X_train, X_test, y_train, y_test = train_test_split(X, Y, test_size = 0.2, random_state = 42, shuffle = True)\n",
    "\n",
    "# Standardize data\n",
    "scaler = StandardScaler()\n",
    "X_train_std = scaler.fit_transform(X_train)\n",
    "X_test_std = scaler.transform(X_test)\n",
    "\n",
    "# Convert to DataFrame with aligned indices\n",
    "X_train = pd.DataFrame(X_train_std, columns=X.columns, index=X_train.index)\n",
    "X_test = pd.DataFrame(X_test_std, columns=X.columns, index=X_test.index)\n",
    "\n",
    "# Displaying the size of each sets\n",
    "print(f\"The training set has {X_train.shape[0]} samples (and a shape of {X_train.shape}).\")\n",
    "print(f\"The test set has {X_test.shape[0]} samples (and a shape of {X_test.shape}).\")\n",
    "\n",
    "print(f\"The target variable y for training has the shape {y_train.shape}.\")\n",
    "print(f\"The target variable y for testing has the shape {y_test.shape}.\")"
   ]
  },
  {
   "cell_type": "code",
   "execution_count": 33,
   "metadata": {},
   "outputs": [],
   "source": [
    "from sklearn.utils import shuffle\n",
    "# Undersampling to balance the dataset\n",
    "\n",
    "# Combine the training data into a DataFrame\n",
    "df_train = pd.concat([X_train, y_train], axis=1)\n",
    "\n",
    "# Separate the majority and minority classes\n",
    "df_majority = df_train[df_train['globes_index'] == 0.0]\n",
    "df_class_1 = df_train[df_train['globes_index'] == 1]\n",
    "df_class_2 = df_train[df_train['globes_index'] == 2]\n",
    "df_class_3 = df_train[df_train['globes_index'] == 3]\n",
    "\n",
    "# Oversample the minority class\n",
    "df_class_1_oversampled = df_class_1.sample(len(df_majority), replace=True, random_state=42)\n",
    "df_class_2_oversampled = df_class_2.sample(len(df_majority), replace=True, random_state=42)\n",
    "df_class_3_oversampled = df_class_3.sample(len(df_majority), replace=True, random_state=42)\n",
    "\n",
    "# Combine the majority and oversampled minority classes\n",
    "df_balanced = pd.concat([df_majority, df_class_1_oversampled, df_class_2_oversampled, df_class_3_oversampled])\n",
    "\n",
    "# Separate features and target\n",
    "X_train = df_balanced.drop('globes_index', axis=1)\n",
    "y_train = df_balanced['globes_index']\n",
    "\n",
    "# Shuffle the dataset to ensure random distribution\n",
    "X_train, y_train = shuffle(X_train, y_train, random_state=42)"
   ]
  },
  {
   "cell_type": "code",
   "execution_count": 34,
   "metadata": {},
   "outputs": [
    {
     "name": "stdout",
     "output_type": "stream",
     "text": [
      "Train set: globes_index\n",
      "1.0    105960\n",
      "3.0    105960\n",
      "2.0    105960\n",
      "0.0    105960\n",
      "Name: count, dtype: int64\n",
      "Test set: globes_index\n",
      "0.0    26480\n",
      "1.0      206\n",
      "2.0       97\n",
      "3.0       33\n",
      "Name: count, dtype: int64\n"
     ]
    }
   ],
   "source": [
    "print(f'Train set: {y_train.value_counts()}')\n",
    "print(f'Test set: {y_test.value_counts()}')"
   ]
  },
  {
   "cell_type": "markdown",
   "metadata": {},
   "source": [
    "### Ordered regression"
   ]
  },
  {
   "cell_type": "code",
   "execution_count": 35,
   "metadata": {},
   "outputs": [
    {
     "name": "stderr",
     "output_type": "stream",
     "text": [
      "c:\\Users\\gerry\\anaconda3\\envs\\ada\\Lib\\site-packages\\statsmodels\\base\\optimizer.py:737: RuntimeWarning: Maximum number of iterations has been exceeded.\n",
      "  retvals = optimize.fmin(f, start_params, args=fargs, xtol=xtol,\n"
     ]
    },
    {
     "name": "stdout",
     "output_type": "stream",
     "text": [
      "                             OrderedModel Results                             \n",
      "==============================================================================\n",
      "Dep. Variable:           globes_index   Log-Likelihood:            -4.7431e+05\n",
      "Model:                   OrderedModel   AIC:                         9.486e+05\n",
      "Method:            Maximum Likelihood   BIC:                         9.487e+05\n",
      "Date:                Fri, 20 Dec 2024                                         \n",
      "Time:                        21:30:39                                         \n",
      "No. Observations:              423840                                         \n",
      "Df Residuals:                  423830                                         \n",
      "Df Model:                           7                                         \n",
      "====================================================================================\n",
      "                       coef    std err          z      P>|z|      [0.025      0.975]\n",
      "------------------------------------------------------------------------------------\n",
      "height               0.0146      0.003      5.802      0.000       0.010       0.020\n",
      "age_first_movie     -0.2183      0.005    -46.226      0.000      -0.228      -0.209\n",
      "number_of_movies     0.1874      0.002     75.534      0.000       0.182       0.192\n",
      "career_length        0.2773      0.002    126.150      0.000       0.273       0.282\n",
      "numb_fam_movies      0.1639      0.001    116.250      0.000       0.161       0.167\n",
      "gender_F            -0.0197      0.006     -3.223      0.001      -0.032      -0.008\n",
      "gender_M            -0.2435      0.007    -34.990      0.000      -0.257      -0.230\n",
      "0.0/1.0              0.0905      0.005     17.632      0.000       0.080       0.101\n",
      "1.0/2.0              0.4897      0.003    166.240      0.000       0.484       0.496\n",
      "2.0/3.0              0.4466      0.003    156.733      0.000       0.441       0.452\n",
      "====================================================================================\n"
     ]
    },
    {
     "name": "stderr",
     "output_type": "stream",
     "text": [
      "c:\\Users\\gerry\\anaconda3\\envs\\ada\\Lib\\site-packages\\statsmodels\\base\\model.py:607: ConvergenceWarning: Maximum Likelihood optimization failed to converge. Check mle_retvals\n",
      "  warnings.warn(\"Maximum Likelihood optimization failed to \"\n"
     ]
    }
   ],
   "source": [
    "# The used indices are ordered (0<1<2<3)\n",
    "\n",
    "model = OrderedModel(y_train, X_train, distr='logit')  # The model automatically adds a constant\n",
    "result = model.fit()  # Provide appropriate weights for each class)\n",
    "print(result.summary())"
   ]
  },
  {
   "cell_type": "code",
   "execution_count": 36,
   "metadata": {},
   "outputs": [
    {
     "name": "stdout",
     "output_type": "stream",
     "text": [
      "Accuracy on Test Data: 0.9347\n"
     ]
    }
   ],
   "source": [
    "# Predict on test data\n",
    "y_pred_probs = result.predict(X_test)\n",
    "y_pred = y_pred_probs.idxmax(axis=1)  # Take the category with the highest probability\n",
    "\n",
    "# Evaluate model performance\n",
    "accuracy = accuracy_score(y_test, y_pred)\n",
    "print(f'Accuracy on Test Data: {accuracy:.4f}')"
   ]
  },
  {
   "cell_type": "markdown",
   "metadata": {},
   "source": [
    "### Inference"
   ]
  },
  {
   "cell_type": "code",
   "execution_count": 37,
   "metadata": {},
   "outputs": [
    {
     "name": "stderr",
     "output_type": "stream",
     "text": [
      "C:\\Users\\gerry\\AppData\\Local\\Temp\\ipykernel_24840\\3867136764.py:10: FutureWarning: The behavior of DataFrame.idxmax with all-NA values, or any-NA and skipna=False, is deprecated. In a future version this will raise ValueError\n",
      "  y_pred_new = y_pred_probs_new.idxmax(axis=1)\n"
     ]
    }
   ],
   "source": [
    "# Predict on all data\n",
    "\n",
    "X_new = df_actors[features]\n",
    "\n",
    "# Pre process in the same way\n",
    "X_new = pd.get_dummies(X_new)\n",
    "X_new_std = scaler.transform(X_new)\n",
    "X_new = pd.DataFrame(X_new_std, columns=X_new.columns, index=X_new.index)\n",
    "y_pred_probs_new = result.predict(X_new)\n",
    "y_pred_new = y_pred_probs_new.idxmax(axis=1)"
   ]
  },
  {
   "cell_type": "code",
   "execution_count": 38,
   "metadata": {},
   "outputs": [
    {
     "name": "stdout",
     "output_type": "stream",
     "text": [
      "The average success indices are: \n",
      "nationality\n",
      "American    0.718827\n",
      "Other       0.465978\n",
      "Name: predicted, dtype: float64\n"
     ]
    }
   ],
   "source": [
    "# Add the predictions to the dataframe\n",
    "df_actors['predicted'] = y_pred_new\n",
    "\n",
    "# See the average index for American vs. Foreign actors\n",
    "avg_index = df_actors.groupby('nationality')['predicted'].mean()\n",
    "print(f'The average success indices are: \\n{avg_index}')"
   ]
  },
  {
   "cell_type": "code",
   "execution_count": 39,
   "metadata": {},
   "outputs": [
    {
     "data": {
      "text/html": [
       "<div>\n",
       "<style scoped>\n",
       "    .dataframe tbody tr th:only-of-type {\n",
       "        vertical-align: middle;\n",
       "    }\n",
       "\n",
       "    .dataframe tbody tr th {\n",
       "        vertical-align: top;\n",
       "    }\n",
       "\n",
       "    .dataframe thead th {\n",
       "        text-align: right;\n",
       "    }\n",
       "</style>\n",
       "<table border=\"1\" class=\"dataframe\">\n",
       "  <thead>\n",
       "    <tr style=\"text-align: right;\">\n",
       "      <th></th>\n",
       "      <th>count</th>\n",
       "      <th>mean</th>\n",
       "      <th>std</th>\n",
       "      <th>min</th>\n",
       "      <th>25%</th>\n",
       "      <th>50%</th>\n",
       "      <th>75%</th>\n",
       "      <th>max</th>\n",
       "    </tr>\n",
       "    <tr>\n",
       "      <th>nationality</th>\n",
       "      <th></th>\n",
       "      <th></th>\n",
       "      <th></th>\n",
       "      <th></th>\n",
       "      <th></th>\n",
       "      <th></th>\n",
       "      <th></th>\n",
       "      <th></th>\n",
       "    </tr>\n",
       "  </thead>\n",
       "  <tbody>\n",
       "    <tr>\n",
       "      <th>American</th>\n",
       "      <td>6512.0</td>\n",
       "      <td>0.718827</td>\n",
       "      <td>0.940413</td>\n",
       "      <td>0.0</td>\n",
       "      <td>0.0</td>\n",
       "      <td>0.0</td>\n",
       "      <td>1.0</td>\n",
       "      <td>3.0</td>\n",
       "    </tr>\n",
       "    <tr>\n",
       "      <th>Other</th>\n",
       "      <td>3483.0</td>\n",
       "      <td>0.465978</td>\n",
       "      <td>0.785918</td>\n",
       "      <td>0.0</td>\n",
       "      <td>0.0</td>\n",
       "      <td>0.0</td>\n",
       "      <td>1.0</td>\n",
       "      <td>3.0</td>\n",
       "    </tr>\n",
       "  </tbody>\n",
       "</table>\n",
       "</div>"
      ],
      "text/plain": [
       "              count      mean       std  min  25%  50%  75%  max\n",
       "nationality                                                     \n",
       "American     6512.0  0.718827  0.940413  0.0  0.0  0.0  1.0  3.0\n",
       "Other        3483.0  0.465978  0.785918  0.0  0.0  0.0  1.0  3.0"
      ]
     },
     "execution_count": 39,
     "metadata": {},
     "output_type": "execute_result"
    }
   ],
   "source": [
    "# Print descriptive statistics\n",
    "stats = df_actors.groupby('nationality')['predicted'].describe()\n",
    "stats"
   ]
  },
  {
   "cell_type": "code",
   "execution_count": 40,
   "metadata": {},
   "outputs": [
    {
     "name": "stderr",
     "output_type": "stream",
     "text": [
      "C:\\Users\\gerry\\AppData\\Local\\Temp\\ipykernel_24840\\2154095391.py:1: FutureWarning: \n",
      "\n",
      "Passing `palette` without assigning `hue` is deprecated and will be removed in v0.14.0. Assign the `x` variable to `hue` and set `legend=False` for the same effect.\n",
      "\n",
      "  sns.violinplot(x='nationality', y='predicted', data=df_actors, palette = {'American': 'indianred', 'Other': 'mediumseagreen'}, scale='count', inner=\"quart\")\n",
      "C:\\Users\\gerry\\AppData\\Local\\Temp\\ipykernel_24840\\2154095391.py:1: FutureWarning: \n",
      "\n",
      "The `scale` parameter has been renamed and will be removed in v0.15.0. Pass `density_norm='count'` for the same effect.\n",
      "  sns.violinplot(x='nationality', y='predicted', data=df_actors, palette = {'American': 'indianred', 'Other': 'mediumseagreen'}, scale='count', inner=\"quart\")\n"
     ]
    },
    {
     "data": {
      "image/png": "[encoded data removed]",
      "text/plain": [
       "<Figure size 640x480 with 1 Axes>"
      ]
     },
     "metadata": {},
     "output_type": "display_data"
    }
   ],
   "source": [
    "sns.violinplot(x='nationality', y='predicted', data=df_actors, palette = {'American': 'indianred', 'Other': 'mediumseagreen'}, scale='count', inner=\"quart\")\n",
    "\n",
    "plt.xlabel(\"Nationality\")\n",
    "plt.ylabel(\"Prediction\")\n",
    "plt.title(\"Violin Plot of Predictions by Nationality\")\n",
    "plt.show()"
   ]
  },
  {
   "cell_type": "code",
   "execution_count": 41,
   "metadata": {},
   "outputs": [
    {
     "data": {
      "image/png": "[encoded data removed]",
      "text/plain": [
       "<Figure size 640x480 with 1 Axes>"
      ]
     },
     "metadata": {},
     "output_type": "display_data"
    }
   ],
   "source": [
    "cdf_american = df_actors[df_actors['nationality'] == 'American']['predicted'].value_counts(normalize=True).sort_index().cumsum()\n",
    "cdf_other = df_actors[df_actors['nationality'] == 'Other']['predicted'].value_counts(normalize=True).sort_index().cumsum()\n",
    "\n",
    "# Plot CDFs\n",
    "plt.step(cdf_american.index, cdf_american.values, where='post', label='American', color='indianred')\n",
    "plt.step(cdf_other.index, cdf_other.values, where='post', label='Other', color='mediumseagreen')\n",
    "\n",
    "plt.xlabel(\"Prediction Value\")\n",
    "plt.ylabel(\"Cumulative Probability\")\n",
    "plt.title(\"CDF of Predictions by Nationality\")\n",
    "plt.legend()\n",
    "plt.show()"
   ]
  },
  {
   "cell_type": "markdown",
   "metadata": {},
   "source": [
    "## Prepare data for the model: Oscars ground truth"
   ]
  },
  {
   "cell_type": "code",
   "execution_count": 42,
   "metadata": {},
   "outputs": [
    {
     "data": {
      "text/html": [
       "<div>\n",
       "<style scoped>\n",
       "    .dataframe tbody tr th:only-of-type {\n",
       "        vertical-align: middle;\n",
       "    }\n",
       "\n",
       "    .dataframe tbody tr th {\n",
       "        vertical-align: top;\n",
       "    }\n",
       "\n",
       "    .dataframe thead th {\n",
       "        text-align: right;\n",
       "    }\n",
       "</style>\n",
       "<table border=\"1\" class=\"dataframe\">\n",
       "  <thead>\n",
       "    <tr style=\"text-align: right;\">\n",
       "      <th></th>\n",
       "      <th>index</th>\n",
       "      <th>actor_name</th>\n",
       "      <th>birth_date</th>\n",
       "      <th>gender</th>\n",
       "      <th>height</th>\n",
       "      <th>nationality</th>\n",
       "      <th>age_first_movie</th>\n",
       "      <th>age_last_movie</th>\n",
       "      <th>number_of_movies</th>\n",
       "      <th>career_length</th>\n",
       "      <th>numb_fam_movies</th>\n",
       "      <th>predicted</th>\n",
       "      <th>nr_wins</th>\n",
       "      <th>nr_nominations</th>\n",
       "      <th>oscar_index</th>\n",
       "    </tr>\n",
       "  </thead>\n",
       "  <tbody>\n",
       "    <tr>\n",
       "      <th>0</th>\n",
       "      <td>0</td>\n",
       "      <td>Wanda De Jesus</td>\n",
       "      <td>1958.0</td>\n",
       "      <td>F</td>\n",
       "      <td>1.620</td>\n",
       "      <td>American</td>\n",
       "      <td>31.0</td>\n",
       "      <td>51.0</td>\n",
       "      <td>8.0</td>\n",
       "      <td>20.0</td>\n",
       "      <td>5</td>\n",
       "      <td>1.0</td>\n",
       "      <td>0.0</td>\n",
       "      <td>0.0</td>\n",
       "      <td>0.0</td>\n",
       "    </tr>\n",
       "    <tr>\n",
       "      <th>1</th>\n",
       "      <td>1</td>\n",
       "      <td>Natasha Henstridge</td>\n",
       "      <td>1974.0</td>\n",
       "      <td>F</td>\n",
       "      <td>1.780</td>\n",
       "      <td>Other</td>\n",
       "      <td>20.0</td>\n",
       "      <td>35.0</td>\n",
       "      <td>23.0</td>\n",
       "      <td>15.0</td>\n",
       "      <td>7</td>\n",
       "      <td>1.0</td>\n",
       "      <td>0.0</td>\n",
       "      <td>0.0</td>\n",
       "      <td>0.0</td>\n",
       "    </tr>\n",
       "    <tr>\n",
       "      <th>2</th>\n",
       "      <td>2</td>\n",
       "      <td>Ice Cube</td>\n",
       "      <td>1969.0</td>\n",
       "      <td>M</td>\n",
       "      <td>1.727</td>\n",
       "      <td>American</td>\n",
       "      <td>22.0</td>\n",
       "      <td>42.0</td>\n",
       "      <td>33.0</td>\n",
       "      <td>20.0</td>\n",
       "      <td>20</td>\n",
       "      <td>2.0</td>\n",
       "      <td>0.0</td>\n",
       "      <td>0.0</td>\n",
       "      <td>0.0</td>\n",
       "    </tr>\n",
       "    <tr>\n",
       "      <th>3</th>\n",
       "      <td>3</td>\n",
       "      <td>Jason Statham</td>\n",
       "      <td>1967.0</td>\n",
       "      <td>M</td>\n",
       "      <td>1.750</td>\n",
       "      <td>Other</td>\n",
       "      <td>30.0</td>\n",
       "      <td>44.0</td>\n",
       "      <td>31.0</td>\n",
       "      <td>14.0</td>\n",
       "      <td>26</td>\n",
       "      <td>2.0</td>\n",
       "      <td>0.0</td>\n",
       "      <td>0.0</td>\n",
       "      <td>0.0</td>\n",
       "    </tr>\n",
       "    <tr>\n",
       "      <th>4</th>\n",
       "      <td>4</td>\n",
       "      <td>Clea DuVall</td>\n",
       "      <td>1977.0</td>\n",
       "      <td>F</td>\n",
       "      <td>1.650</td>\n",
       "      <td>American</td>\n",
       "      <td>19.0</td>\n",
       "      <td>34.0</td>\n",
       "      <td>31.0</td>\n",
       "      <td>15.0</td>\n",
       "      <td>15</td>\n",
       "      <td>2.0</td>\n",
       "      <td>0.0</td>\n",
       "      <td>0.0</td>\n",
       "      <td>0.0</td>\n",
       "    </tr>\n",
       "  </tbody>\n",
       "</table>\n",
       "</div>"
      ],
      "text/plain": [
       "   index          actor_name  birth_date gender  height nationality  \\\n",
       "0      0      Wanda De Jesus      1958.0      F   1.620    American   \n",
       "1      1  Natasha Henstridge      1974.0      F   1.780       Other   \n",
       "2      2            Ice Cube      1969.0      M   1.727    American   \n",
       "3      3       Jason Statham      1967.0      M   1.750       Other   \n",
       "4      4         Clea DuVall      1977.0      F   1.650    American   \n",
       "\n",
       "   age_first_movie  age_last_movie  number_of_movies  career_length  \\\n",
       "0             31.0            51.0               8.0           20.0   \n",
       "1             20.0            35.0              23.0           15.0   \n",
       "2             22.0            42.0              33.0           20.0   \n",
       "3             30.0            44.0              31.0           14.0   \n",
       "4             19.0            34.0              31.0           15.0   \n",
       "\n",
       "   numb_fam_movies  predicted  nr_wins  nr_nominations  oscar_index  \n",
       "0                5        1.0      0.0             0.0          0.0  \n",
       "1                7        1.0      0.0             0.0          0.0  \n",
       "2               20        2.0      0.0             0.0          0.0  \n",
       "3               26        2.0      0.0             0.0          0.0  \n",
       "4               15        2.0      0.0             0.0          0.0  "
      ]
     },
     "execution_count": 42,
     "metadata": {},
     "output_type": "execute_result"
    }
   ],
   "source": [
    "# Merge the golden globe - based index\n",
    "\n",
    "df_actors_merged_oscar = df_actors.merge(oscars_index, on = 'actor_name', how = 'left')\n",
    "df_actors_merged_oscar = df_actors_merged_oscar.fillna(0) # We suppose that the actors that are no in the globes_index dataframe have 0 nominees/awards\n",
    "# Problem here -> the dataset will be umbalanced (a lot of 0s)\n",
    "df_actors_merged_oscar.head()"
   ]
  },
  {
   "cell_type": "code",
   "execution_count": 43,
   "metadata": {},
   "outputs": [],
   "source": [
    "# Prepare data for the regression\n",
    "\n",
    "X_oscar = df_actors_merged_oscar[features]\n",
    "X_oscar = pd.get_dummies(X_oscar)\n",
    "X_oscar = X_oscar.drop(columns=['gender_0']) # to avoid redundacy (std err, z, P>|z| were all nan)\n",
    "Y_oscar = df_actors_merged_oscar['oscar_index']"
   ]
  },
  {
   "cell_type": "code",
   "execution_count": 44,
   "metadata": {},
   "outputs": [
    {
     "name": "stdout",
     "output_type": "stream",
     "text": [
      "The training set has 107263 samples (and a shape of (107263, 7)).\n",
      "The test set has 26816 samples (and a shape of (26816, 7)).\n",
      "The target variable y for training has the shape (107263,).\n",
      "The target variable y for testing has the shape (26816,).\n"
     ]
    }
   ],
   "source": [
    "# Split to test and train\n",
    "X_train_oscar, X_test_oscar, y_train_oscar, y_test_oscar = train_test_split(X_oscar, Y_oscar, test_size = 0.2, random_state = 42, shuffle = True)\n",
    "\n",
    "# Standardize data\n",
    "scaler = StandardScaler()\n",
    "X_train_std_oscar = scaler.fit_transform(X_train_oscar)\n",
    "X_test_std_oscar = scaler.transform(X_test_oscar)\n",
    "\n",
    "# Convert to DataFrame with aligned indices\n",
    "X_train_oscar = pd.DataFrame(X_train_std_oscar, columns=X_oscar.columns, index=X_train_oscar.index)\n",
    "X_test_oscar = pd.DataFrame(X_test_std_oscar, columns=X_oscar.columns, index=X_test_oscar.index)\n",
    "\n",
    "# Displaying the size of each sets\n",
    "print(f\"The training set has {X_train_oscar.shape[0]} samples (and a shape of {X_train_oscar.shape}).\")\n",
    "print(f\"The test set has {X_test_oscar.shape[0]} samples (and a shape of {X_test_oscar.shape}).\")\n",
    "\n",
    "print(f\"The target variable y for training has the shape {y_train_oscar.shape}.\")\n",
    "print(f\"The target variable y for testing has the shape {y_test_oscar.shape}.\")"
   ]
  },
  {
   "cell_type": "code",
   "execution_count": 45,
   "metadata": {},
   "outputs": [],
   "source": [
    "from sklearn.utils import shuffle\n",
    "# Undersampling to balance the dataset\n",
    "\n",
    "# Combine the training data into a DataFrame\n",
    "df_train_oscar = pd.concat([X_train_oscar, y_train_oscar], axis=1)\n",
    "\n",
    "# Separate the majority and minority classes\n",
    "df_majority_oscar = df_train_oscar[df_train_oscar['oscar_index'] == 0.0]\n",
    "df_class_1_oscar = df_train_oscar[df_train_oscar['oscar_index'] == 1]\n",
    "df_class_2_oscar = df_train_oscar[df_train_oscar['oscar_index'] == 2]\n",
    "df_class_3_oscar = df_train_oscar[df_train_oscar['oscar_index'] == 3]\n",
    "\n",
    "# Oversample the minority class\n",
    "df_class_1_oversampled_oscar = df_class_1_oscar.sample(len(df_majority), replace=True, random_state=42)\n",
    "df_class_2_oversampled_oscar = df_class_2_oscar.sample(len(df_majority), replace=True, random_state=42)\n",
    "df_class_3_oversampled_oscar = df_class_3_oscar.sample(len(df_majority), replace=True, random_state=42)\n",
    "\n",
    "# Combine the majority and oversampled minority classes\n",
    "df_balanced_oscar = pd.concat([df_majority_oscar, df_class_1_oversampled_oscar, df_class_2_oversampled_oscar, df_class_3_oversampled_oscar])\n",
    "\n",
    "# Separate features and target\n",
    "X_train_oscar = df_balanced_oscar.drop('oscar_index', axis=1)\n",
    "y_train_oscar = df_balanced_oscar['oscar_index']\n",
    "\n",
    "# Shuffle the dataset to ensure random distribution\n",
    "X_train_oscar, y_train_oscar = shuffle(X_train_oscar, y_train_oscar, random_state=42)"
   ]
  },
  {
   "cell_type": "code",
   "execution_count": 46,
   "metadata": {},
   "outputs": [
    {
     "name": "stderr",
     "output_type": "stream",
     "text": [
      "c:\\Users\\gerry\\anaconda3\\envs\\ada\\Lib\\site-packages\\statsmodels\\base\\optimizer.py:737: RuntimeWarning: Maximum number of iterations has been exceeded.\n",
      "  retvals = optimize.fmin(f, start_params, args=fargs, xtol=xtol,\n"
     ]
    },
    {
     "name": "stdout",
     "output_type": "stream",
     "text": [
      "                             OrderedModel Results                             \n",
      "==============================================================================\n",
      "Dep. Variable:            oscar_index   Log-Likelihood:            -4.3419e+05\n",
      "Model:                   OrderedModel   AIC:                         8.684e+05\n",
      "Method:            Maximum Likelihood   BIC:                         8.685e+05\n",
      "Date:                Fri, 20 Dec 2024                                         \n",
      "Time:                        21:31:27                                         \n",
      "No. Observations:              424428                                         \n",
      "Df Residuals:                  424418                                         \n",
      "Df Model:                           7                                         \n",
      "====================================================================================\n",
      "                       coef    std err          z      P>|z|      [0.025      0.975]\n",
      "------------------------------------------------------------------------------------\n",
      "height               0.3533      0.003    127.514      0.000       0.348       0.359\n",
      "age_first_movie      0.0447      0.005      9.113      0.000       0.035       0.054\n",
      "number_of_movies     0.3890      0.002    196.391      0.000       0.385       0.393\n",
      "career_length       -0.0821      0.002    -41.478      0.000      -0.086      -0.078\n",
      "numb_fam_movies      0.1009      0.001     89.369      0.000       0.099       0.103\n",
      "gender_F            -0.0723      0.006    -11.563      0.000      -0.085      -0.060\n",
      "gender_M            -0.6302      0.007    -85.434      0.000      -0.645      -0.616\n",
      "0.0/1.0              0.6431      0.006    115.415      0.000       0.632       0.654\n",
      "1.0/2.0              0.6353      0.003    207.159      0.000       0.629       0.641\n",
      "2.0/3.0              0.4857      0.003    165.981      0.000       0.480       0.491\n",
      "====================================================================================\n"
     ]
    },
    {
     "name": "stderr",
     "output_type": "stream",
     "text": [
      "c:\\Users\\gerry\\anaconda3\\envs\\ada\\Lib\\site-packages\\statsmodels\\base\\model.py:607: ConvergenceWarning: Maximum Likelihood optimization failed to converge. Check mle_retvals\n",
      "  warnings.warn(\"Maximum Likelihood optimization failed to \"\n"
     ]
    }
   ],
   "source": [
    "model_oscar = OrderedModel(y_train_oscar, X_train_oscar, distr='logit')  # The model automatically adds a constant\n",
    "result_oscar = model_oscar.fit()  # Provide appropriate weights for each class)\n",
    "print(result_oscar.summary())"
   ]
  },
  {
   "cell_type": "code",
   "execution_count": 47,
   "metadata": {},
   "outputs": [
    {
     "name": "stdout",
     "output_type": "stream",
     "text": [
      "Accuracy on Test Data: 0.9340\n"
     ]
    }
   ],
   "source": [
    "# Predict on test data\n",
    "y_pred_probs_oscar = result_oscar.predict(X_test_oscar)\n",
    "y_pred_oscar = y_pred_probs_oscar.idxmax(axis=1)  # Take the category with the highest probability\n",
    "\n",
    "# Evaluate model performance\n",
    "accuracy_oscar = accuracy_score(y_test_oscar, y_pred_oscar)\n",
    "print(f'Accuracy on Test Data: {accuracy_oscar:.4f}')"
   ]
  },
  {
   "cell_type": "markdown",
   "metadata": {},
   "source": [
    "Comment: accuracy of the model for this dataset is alightly lower so we decide to use the Golden GLobes as target variable"
   ]
  }
 ],
 "metadata": {
  "kernelspec": {
   "display_name": "ada",
   "language": "python",
   "name": "python3"
  },
  "language_info": {
   "codemirror_mode": {
    "name": "ipython",
    "version": 3
   },
   "file_extension": ".py",
   "mimetype": "text/x-python",
   "name": "python",
   "nbconvert_exporter": "python",
   "pygments_lexer": "ipython3",
   "version": "3.11.9"
  }
 },
 "nbformat": 4,
 "nbformat_minor": 2
}
