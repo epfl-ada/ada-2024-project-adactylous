{
 "cells": [
  {
   "cell_type": "markdown",
   "metadata": {},
   "source": [
    "# NLP exploration on plot summaries\n",
    "This notebook implements Natural Language Processing (NLP) on the plots summaries of the CMU Movie Summary Corpus."
   ]
  },
  {
   "cell_type": "code",
   "execution_count": 1,
   "metadata": {},
   "outputs": [],
   "source": [
    "# Import the needed libarairies\n",
    "import re # to use regex pattern to display only some lines of the plot summaries\n",
    "import time # to monitor how long the NLP runs lasts\n",
    "import pickle # in order to open the lexicon of american words\n",
    "import warnings # to ignore pandas version warning\n",
    "import numpy as np\n",
    "import pandas as pd\n",
    "import seaborn as sns\n",
    "import matplotlib.pyplot as plt\n",
    "from matplotlib.ticker import MaxNLocator\n",
    "from collections import Counter # to count tokens in each plot summaries\n",
    "from geopy.geocoders import Nominatim # to only keep the GPE with the highest probabability, i.e London UK and not London Ohio, US\n",
    "from geopy.exc import GeocoderRateLimited # to handle timeout errors while doing too many request on the geopy server\n",
    "from concurrent.futures import ThreadPoolExecutor # to parallelize the use of the geopy\n",
    "from tqdm import tqdm # to print a progress bar to know where the processing is\n",
    "\n",
    "import torch # for fatser NLP processing\n",
    "import spacy # for NLP analysis\n",
    "from spacy.matcher import PhraseMatcher # to implement Multi-word matching\n",
    "\n",
    "# from itertools import zip_longest # to iterate over many lists at the same time"
   ]
  },
  {
   "cell_type": "markdown",
   "metadata": {},
   "source": [
    "### CUDA verification in order to use laptop GPU. \n",
    "The used laptop for this analysis has the following graphic card: **Nvidia GeForce RTX 3050 Ti Laptop GPU**."
   ]
  },
  {
   "cell_type": "code",
   "execution_count": 2,
   "metadata": {},
   "outputs": [
    {
     "name": "stdout",
     "output_type": "stream",
     "text": [
      "PyTorch CUDA available: True\n",
      "Current CUDA device: 0\n",
      "CUDA device name: NVIDIA GeForce RTX 3050 Ti Laptop GPU\n"
     ]
    }
   ],
   "source": [
    "print(\"PyTorch CUDA available:\", torch.cuda.is_available())\n",
    "print(\"Current CUDA device:\", torch.cuda.current_device())\n",
    "print(\"CUDA device name:\", torch.cuda.get_device_name(torch.cuda.current_device()))"
   ]
  },
  {
   "cell_type": "markdown",
   "metadata": {},
   "source": [
    "### Opening the cleaned dataframes created for P2 and P3"
   ]
  },
  {
   "cell_type": "code",
   "execution_count": 3,
   "metadata": {},
   "outputs": [],
   "source": [
    "########################### Read datasets from repository's data folder ############################\n",
    "movie_mtd = pd.read_table('data/movie_metadata_CMU_IMDB.csv', sep=',')\n",
    "plot_summaries_df = pd.read_csv('data/plot_summaries_CMU.csv', sep = ',', usecols= ['ID', 'Summary'])"
   ]
  },
  {
   "cell_type": "code",
   "execution_count": 4,
   "metadata": {},
   "outputs": [],
   "source": [
    "# Set a global background theme for all our plots and ignore warnings\n",
    "sns.set_theme(style=\"darkgrid\")\n",
    "warnings.filterwarnings(\"ignore\")"
   ]
  },
  {
   "cell_type": "markdown",
   "metadata": {},
   "source": [
    "### Subdataset creation to faciliates the analysis"
   ]
  },
  {
   "cell_type": "code",
   "execution_count": 5,
   "metadata": {},
   "outputs": [],
   "source": [
    "# Creating deep copies of original data frame to avoid messing it up\n",
    "all_movies = movie_mtd.copy() # all movies in the dataset, no matter their production country\n",
    "us_movies = movie_mtd.copy() \n",
    "us_partially_movies = movie_mtd.copy()\n",
    "all_us_movies = movie_mtd.copy()\n",
    "rest_world_non_US = movie_mtd.copy()\n",
    "\n",
    "## Filtering the newly created dataframes for the analysis of nox office revenue, IMDb ratings and runtimes\n",
    "# Movies strictly produced in the US\n",
    "us_movies = us_movies[us_movies['countries'] == 'United States of America']\n",
    "# Movies partially produced in the US\n",
    "us_partially_movies = us_partially_movies[(us_partially_movies['countries'].str.contains('United States of America') == True) & (us_partially_movies['countries'] != 'United States of America')]\n",
    "# Contains the movies strictly produced in the US and the ones partially produced in the US\n",
    "all_us_movies = all_us_movies[(all_us_movies['countries'] == 'United States of America') | (all_us_movies['countries'].str.contains('United States of America') == True)]\n",
    "\n",
    "# Non-US movies\n",
    "rest_world_non_US = rest_world_non_US[(rest_world_non_US['countries'].str.contains('United States of America') == False) & (rest_world_non_US['countries'] != 'United States of America')]"
   ]
  },
  {
   "cell_type": "code",
   "execution_count": 6,
   "metadata": {},
   "outputs": [
    {
     "data": {
      "text/html": [
       "<div>\n",
       "<style scoped>\n",
       "    .dataframe tbody tr th:only-of-type {\n",
       "        vertical-align: middle;\n",
       "    }\n",
       "\n",
       "    .dataframe tbody tr th {\n",
       "        vertical-align: top;\n",
       "    }\n",
       "\n",
       "    .dataframe thead th {\n",
       "        text-align: right;\n",
       "    }\n",
       "</style>\n",
       "<table border=\"1\" class=\"dataframe\">\n",
       "  <thead>\n",
       "    <tr style=\"text-align: right;\">\n",
       "      <th></th>\n",
       "      <th>wiki_movie_ID</th>\n",
       "      <th>freebase_movie_ID</th>\n",
       "      <th>title</th>\n",
       "      <th>release_date</th>\n",
       "      <th>box_office</th>\n",
       "      <th>runtime</th>\n",
       "      <th>languages</th>\n",
       "      <th>countries</th>\n",
       "      <th>genres_CMU</th>\n",
       "      <th>release_year</th>\n",
       "      <th>genres_IMDB</th>\n",
       "      <th>averageRating</th>\n",
       "      <th>numVotes</th>\n",
       "    </tr>\n",
       "  </thead>\n",
       "  <tbody>\n",
       "    <tr>\n",
       "      <th>0</th>\n",
       "      <td>975900</td>\n",
       "      <td>/m/03vyhn</td>\n",
       "      <td>Ghosts of Mars</td>\n",
       "      <td>2001-08-24</td>\n",
       "      <td>14010832.0</td>\n",
       "      <td>98.0</td>\n",
       "      <td>English Language</td>\n",
       "      <td>United States of America</td>\n",
       "      <td>Thriller, Science Fiction, Horror, Adventure, ...</td>\n",
       "      <td>2001.0</td>\n",
       "      <td>Action,Horror,Sci-Fi</td>\n",
       "      <td>4.9</td>\n",
       "      <td>58894.0</td>\n",
       "    </tr>\n",
       "    <tr>\n",
       "      <th>1</th>\n",
       "      <td>3196793</td>\n",
       "      <td>/m/08yl5d</td>\n",
       "      <td>Getting Away with Murder: The JonBenet Ramsey ...</td>\n",
       "      <td>2000-02-16</td>\n",
       "      <td>NaN</td>\n",
       "      <td>95.0</td>\n",
       "      <td>English Language</td>\n",
       "      <td>United States of America</td>\n",
       "      <td>Mystery, Biographical film, Drama, Crime Drama</td>\n",
       "      <td>2000.0</td>\n",
       "      <td>NaN</td>\n",
       "      <td>NaN</td>\n",
       "      <td>NaN</td>\n",
       "    </tr>\n",
       "    <tr>\n",
       "      <th>5</th>\n",
       "      <td>13696889</td>\n",
       "      <td>/m/03cfc81</td>\n",
       "      <td>The Gangsters</td>\n",
       "      <td>1913-05-29</td>\n",
       "      <td>NaN</td>\n",
       "      <td>35.0</td>\n",
       "      <td>Silent film, English Language</td>\n",
       "      <td>United States of America</td>\n",
       "      <td>Short Film, Silent film, Indie, Black-and-whit...</td>\n",
       "      <td>1913.0</td>\n",
       "      <td>Comedy,Short</td>\n",
       "      <td>7.2</td>\n",
       "      <td>19.0</td>\n",
       "    </tr>\n",
       "    <tr>\n",
       "      <th>7</th>\n",
       "      <td>10408933</td>\n",
       "      <td>/m/02qc0j7</td>\n",
       "      <td>Alexander's Ragtime Band</td>\n",
       "      <td>1938-08-16</td>\n",
       "      <td>3600000.0</td>\n",
       "      <td>106.0</td>\n",
       "      <td>English Language</td>\n",
       "      <td>United States of America</td>\n",
       "      <td>Musical, Comedy, Black-and-white</td>\n",
       "      <td>1938.0</td>\n",
       "      <td>Drama,Music,Musical</td>\n",
       "      <td>6.8</td>\n",
       "      <td>2357.0</td>\n",
       "    </tr>\n",
       "    <tr>\n",
       "      <th>10</th>\n",
       "      <td>175026</td>\n",
       "      <td>/m/017n1p</td>\n",
       "      <td>Sarah and Son</td>\n",
       "      <td>1930</td>\n",
       "      <td>NaN</td>\n",
       "      <td>86.0</td>\n",
       "      <td>English Language</td>\n",
       "      <td>United States of America</td>\n",
       "      <td>Drama, Black-and-white</td>\n",
       "      <td>1930.0</td>\n",
       "      <td>Drama,Romance</td>\n",
       "      <td>5.4</td>\n",
       "      <td>356.0</td>\n",
       "    </tr>\n",
       "  </tbody>\n",
       "</table>\n",
       "</div>"
      ],
      "text/plain": [
       "    wiki_movie_ID freebase_movie_ID  \\\n",
       "0          975900         /m/03vyhn   \n",
       "1         3196793         /m/08yl5d   \n",
       "5        13696889        /m/03cfc81   \n",
       "7        10408933        /m/02qc0j7   \n",
       "10         175026         /m/017n1p   \n",
       "\n",
       "                                                title release_date  \\\n",
       "0                                      Ghosts of Mars   2001-08-24   \n",
       "1   Getting Away with Murder: The JonBenet Ramsey ...   2000-02-16   \n",
       "5                                       The Gangsters   1913-05-29   \n",
       "7                            Alexander's Ragtime Band   1938-08-16   \n",
       "10                                      Sarah and Son         1930   \n",
       "\n",
       "    box_office  runtime                      languages  \\\n",
       "0   14010832.0     98.0               English Language   \n",
       "1          NaN     95.0               English Language   \n",
       "5          NaN     35.0  Silent film, English Language   \n",
       "7    3600000.0    106.0               English Language   \n",
       "10         NaN     86.0               English Language   \n",
       "\n",
       "                   countries  \\\n",
       "0   United States of America   \n",
       "1   United States of America   \n",
       "5   United States of America   \n",
       "7   United States of America   \n",
       "10  United States of America   \n",
       "\n",
       "                                           genres_CMU  release_year  \\\n",
       "0   Thriller, Science Fiction, Horror, Adventure, ...        2001.0   \n",
       "1      Mystery, Biographical film, Drama, Crime Drama        2000.0   \n",
       "5   Short Film, Silent film, Indie, Black-and-whit...        1913.0   \n",
       "7                    Musical, Comedy, Black-and-white        1938.0   \n",
       "10                             Drama, Black-and-white        1930.0   \n",
       "\n",
       "             genres_IMDB  averageRating  numVotes  \n",
       "0   Action,Horror,Sci-Fi            4.9   58894.0  \n",
       "1                    NaN            NaN       NaN  \n",
       "5           Comedy,Short            7.2      19.0  \n",
       "7    Drama,Music,Musical            6.8    2357.0  \n",
       "10         Drama,Romance            5.4     356.0  "
      ]
     },
     "execution_count": 6,
     "metadata": {},
     "output_type": "execute_result"
    }
   ],
   "source": [
    "us_movies.head()"
   ]
  },
  {
   "cell_type": "markdown",
   "metadata": {},
   "source": [
    "### Opening of the Plot summaries dataset"
   ]
  },
  {
   "cell_type": "code",
   "execution_count": 7,
   "metadata": {},
   "outputs": [
    {
     "name": "stdout",
     "output_type": "stream",
     "text": [
      "The size of the plot summaries dataset is (42303, 3).\n"
     ]
    },
    {
     "data": {
      "text/html": [
       "<div>\n",
       "<style scoped>\n",
       "    .dataframe tbody tr th:only-of-type {\n",
       "        vertical-align: middle;\n",
       "    }\n",
       "\n",
       "    .dataframe tbody tr th {\n",
       "        vertical-align: top;\n",
       "    }\n",
       "\n",
       "    .dataframe thead th {\n",
       "        text-align: right;\n",
       "    }\n",
       "</style>\n",
       "<table border=\"1\" class=\"dataframe\">\n",
       "  <thead>\n",
       "    <tr style=\"text-align: right;\">\n",
       "      <th></th>\n",
       "      <th>ID</th>\n",
       "      <th>Plot Summary Preview</th>\n",
       "    </tr>\n",
       "  </thead>\n",
       "  <tbody>\n",
       "    <tr>\n",
       "      <th>0</th>\n",
       "      <td>23890098</td>\n",
       "      <td>Shlykov, a hard-working taxi driver and Lyosha, a saxophonist, develop a bizarre love-hate relationship, and despite their prejudices, realize they aren't so different after all.</td>\n",
       "    </tr>\n",
       "    <tr>\n",
       "      <th>1</th>\n",
       "      <td>31186339</td>\n",
       "      <td>The nation of Panem consists of a wealthy Capitol and twelve poorer districts. As punishment for a past rebellion, each district must provide a boy and girl  between the ages of 12 and 18 selected by lottery  for the annual Hunger Games. The tributes must fight to the death in an arena; the sole survivor is rewarded with fame and wealth. In her first Reaping, 12-year-old Primrose Everdeen is chosen from District 12.</td>\n",
       "    </tr>\n",
       "    <tr>\n",
       "      <th>2</th>\n",
       "      <td>20663735</td>\n",
       "      <td>Poovalli Induchoodan  is sentenced for six years prison life for murdering his classmate. Induchoodan, the only son of Justice Maranchery Karunakara Menon  was framed in the case by Manapally Madhavan Nambiar  and his crony DYSP Sankaranarayanan  to take revenge on idealist judge Menon who had earlier given jail sentence to Manapally in a corruption case. Induchoodan, who had achieved top rank in Indian Civil Service loses the post and Manapally Sudheeran ([[Saikumar  enters the list of civil service trainees. We learn in flashback that it was Ramakrishnan  the son of Moopil Nair , who had actually killed his classmate.</td>\n",
       "    </tr>\n",
       "    <tr>\n",
       "      <th>3</th>\n",
       "      <td>2231378</td>\n",
       "      <td>The Lemon Drop Kid , a New York City swindler, is illegally touting horses at a Florida racetrack. After several successful hustles, the Kid comes across a beautiful, but gullible, woman intending to bet a lot of money. The Kid convinces her to switch her bet, employing a prefabricated con. Unfortunately for the Kid, the woman \"belongs\" to notorious gangster Moose Moran , as does the money.</td>\n",
       "    </tr>\n",
       "    <tr>\n",
       "      <th>4</th>\n",
       "      <td>595909</td>\n",
       "      <td>Seventh-day Adventist Church pastor Michael Chamberlain, his wife Lindy, their two sons, and their nine-week-old daughter Azaria are on a camping holiday in the Outback. With the baby sleeping in their tent, the family is enjoying a barbecue with their fellow campers when a cry is heard. Lindy returns to the tent to check on Azaria and is certain she sees a dingo with something in its mouth running off as she approaches. When she discovers the infant is missing, everyone joins forces to search for her, without success.</td>\n",
       "    </tr>\n",
       "  </tbody>\n",
       "</table>\n",
       "</div>"
      ],
      "text/plain": [
       "         ID  \\\n",
       "0  23890098   \n",
       "1  31186339   \n",
       "2  20663735   \n",
       "3   2231378   \n",
       "4    595909   \n",
       "\n",
       "                                                                                                                                                                                                                                                                                                                                                                                                                                                                                                                                                                                                                                  Plot Summary Preview  \n",
       "0                                                                                                                                                                                                                                                                                                                                                                                                                                                                   Shlykov, a hard-working taxi driver and Lyosha, a saxophonist, develop a bizarre love-hate relationship, and despite their prejudices, realize they aren't so different after all.  \n",
       "1                                                                                                                                                                                                                  The nation of Panem consists of a wealthy Capitol and twelve poorer districts. As punishment for a past rebellion, each district must provide a boy and girl  between the ages of 12 and 18 selected by lottery  for the annual Hunger Games. The tributes must fight to the death in an arena; the sole survivor is rewarded with fame and wealth. In her first Reaping, 12-year-old Primrose Everdeen is chosen from District 12.  \n",
       "2  Poovalli Induchoodan  is sentenced for six years prison life for murdering his classmate. Induchoodan, the only son of Justice Maranchery Karunakara Menon  was framed in the case by Manapally Madhavan Nambiar  and his crony DYSP Sankaranarayanan  to take revenge on idealist judge Menon who had earlier given jail sentence to Manapally in a corruption case. Induchoodan, who had achieved top rank in Indian Civil Service loses the post and Manapally Sudheeran ([[Saikumar  enters the list of civil service trainees. We learn in flashback that it was Ramakrishnan  the son of Moopil Nair , who had actually killed his classmate.  \n",
       "3                                                                                                                                                                                                                                            The Lemon Drop Kid , a New York City swindler, is illegally touting horses at a Florida racetrack. After several successful hustles, the Kid comes across a beautiful, but gullible, woman intending to bet a lot of money. The Kid convinces her to switch her bet, employing a prefabricated con. Unfortunately for the Kid, the woman \"belongs\" to notorious gangster Moose Moran , as does the money.  \n",
       "4                                                                                                         Seventh-day Adventist Church pastor Michael Chamberlain, his wife Lindy, their two sons, and their nine-week-old daughter Azaria are on a camping holiday in the Outback. With the baby sleeping in their tent, the family is enjoying a barbecue with their fellow campers when a cry is heard. Lindy returns to the tent to check on Azaria and is certain she sees a dingo with something in its mouth running off as she approaches. When she discovers the infant is missing, everyone joins forces to search for her, without success.  "
      ]
     },
     "execution_count": 7,
     "metadata": {},
     "output_type": "execute_result"
    }
   ],
   "source": [
    "# Increase the display width to see more characters per column\n",
    "pd.set_option('display.max_colwidth', None)  # This removes the column width limit\n",
    "\n",
    "plot_summaries_df['Plot Summary Preview'] = plot_summaries_df['Summary'].apply(\n",
    "    lambda x: ' '.join(re.split(r'(?<=[.!?])\\s+', x)[:4]) # the re pattern checks if the sentnec ends with \".!?\" and the '.join' rebuilds the string after the split\n",
    ")\n",
    "\n",
    "# Sort the plot summaries according to the Wikipedia movie ID\n",
    "plot_summaries_df_sorted = plot_summaries_df.sort_values(ascending = True , by= 'ID')\n",
    "\n",
    "print(f\"The size of the plot summaries dataset is {plot_summaries_df.shape}.\")\n",
    "\n",
    "# Show the first 4 sentences in the Preview column\n",
    "plot_summaries_df[['ID', 'Plot Summary Preview']].head()"
   ]
  },
  {
   "cell_type": "markdown",
   "metadata": {},
   "source": [
    "### Merging the plot summaries dataset with the movie_mtd dataset in order to distinguish between US-only, partially US and non US produced (= RoW) movies"
   ]
  },
  {
   "cell_type": "code",
   "execution_count": 8,
   "metadata": {},
   "outputs": [
    {
     "name": "stdout",
     "output_type": "stream",
     "text": [
      "The size of the plot summaries dataframe merged with the dataset containing all the movies metadata is (42208, 7).\n",
      "The size of the plot summaries dataframe merged with the dataset containing US-only produced movies is (17776, 7).\n",
      "The size of the plot summaries dataframe merged with the dataset containing all the partially US-produced movies is (3015, 7).\n",
      "The size of the plot summaries dataframe merged with the dataset containing all Non US-produced movies is (18105, 7).\n"
     ]
    }
   ],
   "source": [
    "# Performing inner joins to be sure each movie kept after the merge has a plot summaries and filtering to keep only useful columnbs for the rest of the analysis\n",
    "# ID column is not useful anymore so one can remove it\n",
    "plot_summaries_all_movies = pd.merge(plot_summaries_df, all_movies, left_on= 'ID', right_on= 'wiki_movie_ID', how = 'inner').filter(items=['title', 'Summary', 'box_office', 'language', 'genres_IMDB', 'release_year', 'averageRating', 'numVotes'], axis = 1)\n",
    "\n",
    "plot_summaries_us_movies = pd.merge(plot_summaries_df, us_movies, left_on= 'ID', right_on= 'wiki_movie_ID', how = 'inner').filter(items=['title','Summary', 'box_office', 'language', 'genres_IMDB', 'release_year', 'averageRating', 'numVotes'], axis = 1)\n",
    "\n",
    "plot_summaries_us_partially_movies = pd.merge(plot_summaries_df, us_partially_movies, left_on= 'ID', right_on= 'wiki_movie_ID', how = 'inner').filter(items=['title', 'Summary', 'box_office', 'language', 'genres_IMDB', 'release_year', 'averageRating', 'numVotes'], axis = 1)\n",
    "\n",
    "plot_summaries_RoW_movies = pd.merge(plot_summaries_df, rest_world_non_US, left_on= 'ID', right_on= 'wiki_movie_ID', how = 'inner').filter(items=['title','Summary', 'box_office', 'language', 'genres_IMDB', 'release_year', 'averageRating', 'numVotes'], axis = 1)\n",
    "\n",
    "print(f\"The size of the plot summaries dataframe merged with the dataset containing all the movies metadata is {plot_summaries_all_movies.shape}.\")\n",
    "print(f\"The size of the plot summaries dataframe merged with the dataset containing US-only produced movies is {plot_summaries_us_movies.shape}.\")\n",
    "print(f\"The size of the plot summaries dataframe merged with the dataset containing all the partially US-produced movies is {plot_summaries_us_partially_movies.shape}.\")\n",
    "print(f\"The size of the plot summaries dataframe merged with the dataset containing all Non US-produced movies is {plot_summaries_RoW_movies.shape}.\")"
   ]
  },
  {
   "cell_type": "markdown",
   "metadata": {},
   "source": [
    "One notices here that the total number of plot summaries has slightly decreased after the merge with the dataset containing movies metadata (from 42'303 plot summaries to 42'208). This is likely due to the fact that the inner join performed has discarded 95 plots where no movie metadata were available."
   ]
  },
  {
   "cell_type": "markdown",
   "metadata": {},
   "source": [
    "### Basics stats on the plot summaries"
   ]
  },
  {
   "cell_type": "code",
   "execution_count": null,
   "metadata": {},
   "outputs": [],
   "source": [
    "# # Calculate the mean number of words per summary\n",
    "# mean_number_words_per_summary = plot_summaries_df['word_count'].mean()\n",
    "\n",
    "# # Count the number of words in each summary using len(x.split()) directly\n",
    "# plot_summaries_df['word_count'] = plot_summaries_df['Summary'].apply(lambda x: len(str(x).split())) # count words in a string by splitting on spaces 8by default)\n",
    "\n",
    "# number_summaries_more_500_words = plot_summaries_df[plot_summaries_df['Summary'].apply(lambda x: len(str(x).split())) >= 500]['Summary'].count()\n",
    "# number_summaries_more_1000_words = plot_summaries_df[plot_summaries_df['Summary'].apply(lambda x: len(str(x).split())) >= 1000]['Summary'].count()\n",
    "# number_summaries_more_3000_words = plot_summaries_df[plot_summaries_df['Summary'].apply(lambda x: len(str(x).split())) > 3000]['Summary'].count()\n",
    "\n",
    "\n",
    "# print(f\"Mean number of words per summary: {mean_number_words_per_summary:.2f}\")\n",
    "\n",
    "# print(f\"The number of plot summaries with more than 500 words is {number_summaries_more_500_words}.\")\n",
    "# print(f\"The number of plot summaries with more than 1000 words is {number_summaries_more_1000_words}.\")\n",
    "# print(f\"The number of plot summaries with more than 3000 words is {number_summaries_more_3000_words}.\")\n",
    "\n",
    "# Whole dataset\n",
    "basic_stats_numwords_plotsSummaries_all_movies = plot_summaries_all_movies['Summary'].apply(lambda x: len(str(x).split()))\n",
    "\n",
    "\n",
    "# df_basic_stat_box_office = pd.DataFrame(dict_results, index = ['median (millions USD)', 'mean (millions USD)', 'std (millions USD)', 'max (millions USD)', 'min (millions USD)'])/1e6\n",
    "# # To display only 2 decimals after the comma taking advantage of the Jupyter notebook environment\n",
    "# df_basic_stat_box_office.style.format(\"{:.2f}\") \n",
    "# Apply the `nlp` function to each summary\n",
    "plot_summaries_all_movies['Processed_Summary'] = plot_summaries_all_movies['Summary'].apply(lambda x: nlp(x))\n",
    "\n",
    "# Extract tokens from the processed summaries (if needed)\n",
    "plot_summaries_all_movies['Tokens'] = plot_summaries_all_movies['Processed_Summary'].apply(lambda doc: [token.text for token in doc])\n",
    "\n",
    "# Example: Access the tokens from a single summary\n",
    "print(plot_summaries_all_movies['Tokens'].iloc[0])\n",
    "plot_summaries_all_movies.head()\n",
    "\n",
    "from collections import Counter\n",
    "# # with stopwords and ponctuation\n",
    "# words = [token.text for token in doc]\n",
    "word_freq = Counter(plot_summaries_all_movies['Tokens'])\n",
    "common_words = word_freq.most_common() # five most common tokens\n",
    "# # without stopwords and ponctuation\n",
    "# words = [token.text for token in doc if token.is_stop != True and token.is_punct != True]\n",
    "# word_freq = Counter(words)\n",
    "# common_words = word_freq.most_common()"
   ]
  },
  {
   "cell_type": "code",
   "execution_count": 8,
   "metadata": {},
   "outputs": [
    {
     "name": "stdout",
     "output_type": "stream",
     "text": [
      "The below table shows the number of plot summaries satisfying the number of word range (rows of the displayed dataframe)\n"
     ]
    },
    {
     "data": {
      "text/html": [
       "<div>\n",
       "<style scoped>\n",
       "    .dataframe tbody tr th:only-of-type {\n",
       "        vertical-align: middle;\n",
       "    }\n",
       "\n",
       "    .dataframe tbody tr th {\n",
       "        vertical-align: top;\n",
       "    }\n",
       "\n",
       "    .dataframe thead th {\n",
       "        text-align: right;\n",
       "    }\n",
       "</style>\n",
       "<table border=\"1\" class=\"dataframe\">\n",
       "  <thead>\n",
       "    <tr style=\"text-align: right;\">\n",
       "      <th></th>\n",
       "      <th>All movies</th>\n",
       "      <th>US-only produced movies</th>\n",
       "      <th>Partially US-produced movies</th>\n",
       "      <th>Non US-produced movies</th>\n",
       "    </tr>\n",
       "    <tr>\n",
       "      <th>Word number Interval</th>\n",
       "      <th></th>\n",
       "      <th></th>\n",
       "      <th></th>\n",
       "      <th></th>\n",
       "    </tr>\n",
       "  </thead>\n",
       "  <tbody>\n",
       "    <tr>\n",
       "      <th>1-20</th>\n",
       "      <td>397</td>\n",
       "      <td>133</td>\n",
       "      <td>11</td>\n",
       "      <td>180</td>\n",
       "    </tr>\n",
       "    <tr>\n",
       "      <th>20-100</th>\n",
       "      <td>12137</td>\n",
       "      <td>4639</td>\n",
       "      <td>531</td>\n",
       "      <td>5662</td>\n",
       "    </tr>\n",
       "    <tr>\n",
       "      <th>100-300</th>\n",
       "      <td>14406</td>\n",
       "      <td>5600</td>\n",
       "      <td>702</td>\n",
       "      <td>6905</td>\n",
       "    </tr>\n",
       "    <tr>\n",
       "      <th>300-500</th>\n",
       "      <td>5933</td>\n",
       "      <td>2745</td>\n",
       "      <td>450</td>\n",
       "      <td>2392</td>\n",
       "    </tr>\n",
       "    <tr>\n",
       "      <th>500-1000</th>\n",
       "      <td>7867</td>\n",
       "      <td>3973</td>\n",
       "      <td>1073</td>\n",
       "      <td>2501</td>\n",
       "    </tr>\n",
       "    <tr>\n",
       "      <th>1000-2000</th>\n",
       "      <td>1381</td>\n",
       "      <td>658</td>\n",
       "      <td>235</td>\n",
       "      <td>428</td>\n",
       "    </tr>\n",
       "    <tr>\n",
       "      <th>2000-3000</th>\n",
       "      <td>69</td>\n",
       "      <td>25</td>\n",
       "      <td>10</td>\n",
       "      <td>29</td>\n",
       "    </tr>\n",
       "    <tr>\n",
       "      <th>Total</th>\n",
       "      <td>42190</td>\n",
       "      <td>17773</td>\n",
       "      <td>3012</td>\n",
       "      <td>18097</td>\n",
       "    </tr>\n",
       "  </tbody>\n",
       "</table>\n",
       "</div>"
      ],
      "text/plain": [
       "                      All movies  US-only produced movies  \\\n",
       "Word number Interval                                        \n",
       "1-20                         397                      133   \n",
       "20-100                     12137                     4639   \n",
       "100-300                    14406                     5600   \n",
       "300-500                     5933                     2745   \n",
       "500-1000                    7867                     3973   \n",
       "1000-2000                   1381                      658   \n",
       "2000-3000                     69                       25   \n",
       "Total                      42190                    17773   \n",
       "\n",
       "                      Partially US-produced movies  Non US-produced movies  \n",
       "Word number Interval                                                        \n",
       "1-20                                            11                     180  \n",
       "20-100                                         531                    5662  \n",
       "100-300                                        702                    6905  \n",
       "300-500                                        450                    2392  \n",
       "500-1000                                      1073                    2501  \n",
       "1000-2000                                      235                     428  \n",
       "2000-3000                                       10                      29  \n",
       "Total                                         3012                   18097  "
      ]
     },
     "execution_count": 8,
     "metadata": {},
     "output_type": "execute_result"
    }
   ],
   "source": [
    "def plot_counter(df, lower_bound=1, upper_bound=20): # setting default lower and upper bounds value\n",
    "    \"\"\"\n",
    "    Function that counts the number of plot summaries containing a given number of words.\n",
    "\n",
    "    Params:\n",
    "        df (pd.DataFrame): DataFrame containing a column 'Summary'.\n",
    "        lower_bound (int, optional): Minimum number of words in a plot summary (exclusive).\n",
    "                                     Use None to apply no lower bound. Default is 1.\n",
    "        upper_bound (int, optional): Maximum number of words in a plot summary (inclusive).\n",
    "                                     Default is 20.\n",
    "    Returns: The count of summaries within the specified word count range (int).\n",
    "    \"\"\"\n",
    "    if 'Summary' not in df.columns:\n",
    "        raise ValueError(\"The dataframe must have a column named 'Summary'.\")\n",
    "\n",
    "    # Compute plots counts once for efficiency\n",
    "    plots_counts = df['Summary'].apply(lambda x: len(str(x).split())) # split words based on white spaces\n",
    "\n",
    "    if lower_bound is None:\n",
    "        # Apply only the upper bound\n",
    "        return plots_counts[plots_counts >= upper_bound].count()\n",
    "    else:\n",
    "        # Apply both lower and upper bounds\n",
    "        return plots_counts[(plots_counts > lower_bound) & (plots_counts <= upper_bound)].count()\n",
    "\n",
    "# Initializing the need lists and dictionnary\n",
    "list_name_df = ['All movies', 'US-only produced movies', 'Partially US-produced movies', 'Non US-produced movies']\n",
    "list_df_plot_summaries = [plot_summaries_all_movies, plot_summaries_us_movies, plot_summaries_us_partially_movies, plot_summaries_RoW_movies]\n",
    "list_set_number_words = [[1, 20], [20, 100], [100, 300], [300,500], [500, 1000], [1000, 2000], [2000, 3000]] # ranges of numbers of words in order to count the number of plots summaries falling in that range\n",
    "dict_plot_count = {'All movies': [], 'US-only produced movies': [], \n",
    "                   'Partially US-produced movies': [], 'Non US-produced movies': [], \n",
    "                   }\n",
    "\n",
    "# Use of \"zip\" will make the loop terminates when the shortest iterable is exhausted so one put it in the second for loop to make sure all the 7 words count interval are processed\n",
    "dict_plot_count = {name: [] for name in list_name_df}\n",
    "interval_names = [f\"{low}-{high}\" for low, high in list_set_number_words]\n",
    "\n",
    "for interval in list_set_number_words:\n",
    "    for df, dico_name in zip(list_df_plot_summaries, list_name_df):\n",
    "        word_count = plot_counter(df, lower_bound = interval[0], upper_bound = interval[1])\n",
    "        dict_plot_count[dico_name].append(word_count)\n",
    "\n",
    "# Create DataFrame with interval names as index and title\n",
    "df_count_plot_summaries = pd.DataFrame(dict_plot_count, index=interval_names)\n",
    "\n",
    "# Add a title for the rows as an index\n",
    "df_count_plot_summaries.index.name = \"Word number Interval\"\n",
    "\n",
    "# Compute the total number of plot summaries for each columns and add it as the last row of the df\n",
    "df_count_plot_summaries.loc[\"Total\"] = df_count_plot_summaries.sum(axis=0)\n",
    "\n",
    "print(\"The below table shows the number of plot summaries satisfying the number of word range (rows of the displayed dataframe)\")\n",
    "df_count_plot_summaries.head(8)\n"
   ]
  },
  {
   "cell_type": "markdown",
   "metadata": {},
   "source": [
    "One notices first that most of the plot summaries show a number of words between 100 and 300. Next, come the plots having 20-100 words intheir summaries. One sees that they are very few plots summaries with more than 2000 words. Finally, one sees that with those word intervals one captures nearly all the movies. Indeed, th column *total* for all the movies shows 42190 movies out of 42208 (see above cell) meaning that only 18 plots summarie shave more than 3000 words. One observe similar behavior for the US-only produced, Partially US-produced and Non Us-produced movies."
   ]
  },
  {
   "cell_type": "markdown",
   "metadata": {},
   "source": [
    "Visualization"
   ]
  },
  {
   "cell_type": "code",
   "execution_count": 9,
   "metadata": {},
   "outputs": [
    {
     "data": {
      "image/png": "[encoded data removed]",
      "text/plain": [
       "<Figure size 2000x800 with 4 Axes>"
      ]
     },
     "metadata": {},
     "output_type": "display_data"
    }
   ],
   "source": [
    "colors = sns.color_palette(\"pastel\", len(df_count_plot_summaries.index))\n",
    "\n",
    "def autopct_threshold(pct):\n",
    "    return f'{pct:.1f}%' if pct > 1 else ''  # Only display if percentage > 1%\n",
    "\n",
    "plots = df_count_plot_summaries.iloc[:-1].plot.pie(\n",
    "    subplots=True,\n",
    "    figsize=(20, 8),\n",
    "    title= False,\n",
    "    legend=False,\n",
    "    autopct=autopct_threshold,\n",
    "    explode=(0, 0, 0, 0, 0, 0, 0.1),\n",
    "    shadow=False,\n",
    "    startangle=90,\n",
    "    textprops={'fontsize': 9},\n",
    "    color = colors\n",
    ")\n",
    "\n",
    "# Manually set the titles above the charts\n",
    "titles = df_count_plot_summaries.columns\n",
    "for ax, title in zip(plots, titles):\n",
    "    ax.set_title(title, fontsize=12, y=1.05)  # Adjust y to move title above\n",
    "    ax.set_ylabel('')  # Remove the default title on the left\n",
    "\n",
    "# Global adjustments\n",
    "plt.suptitle(\"Percentage of Plot Summaries per Word Interval\", fontsize=16)\n",
    "plt.tight_layout(rect=[0, 0.2, 1, 0.99])\n",
    "plt.show()"
   ]
  },
  {
   "cell_type": "markdown",
   "metadata": {},
   "source": [
    "# NLP on plot summaries\n",
    "\n",
    "N.B: **For all the analysis below**, one processes **only the 3 following dataset: plot_summaries_us_movies, plot_summaries_us_partially_movies, plot_summaries_RoW_movies** due to the very lomg running time. The complete plot summaries dataset from the CMU Corpus is not processed. It is not a problem for the purpose of the analysis since one seeks to study the movies depending on if they were produced in the US, partially in the US or completely abroad."
   ]
  },
  {
   "cell_type": "markdown",
   "metadata": {},
   "source": [
    "## Assessing the american culture in plots summaries using GPE (i.e. location only)\n",
    "One recalls that GPE stands for *Geopolitical entity, i.e. countries, cities, states* ([see here](https://spacy.io/usage/linguistic-features/)). The aim is here to assess the \"percentage\" of amercian culture in each plot summaries by only looking at the locations present in the plot. Indeed, if the plot summary, i.e. the summary of the story told by the movie, contains some amercian cities or states name(s), it \"represents\" in a way the amercian culture since the movie director chose the US as a location to tell his story (or part of his story in other locations are present)."
   ]
  },
  {
   "cell_type": "markdown",
   "metadata": {},
   "source": [
    "For this first part, one does not use a set containing all cities, counties and states in the US but rather the python library *GeoPy* that allows to return the most probable location among all possible ones worldwide ([Geopy nominatim](https://geopy.readthedocs.io/en/stable/#nominatim)). For example, the city of *London* exists both in the UK and in the US, in Ohio ([London, Ohio, USA](https://en.wikipedia.org/wiki/London,_Ohio)). The only downside of this approach comes from the requests the code must perfomr to the *Geopy* API. This slows down the computations a bit since one must pause the program to avoid the server to block the request. To partially solve this issue, one implements caching: a caching dictionary stores every scanned locations by the *Nominatim* function to avoid requesting the same locations many time during the processing.\n",
    "\n",
    "Although this approach is slower than just reading a CSV file containing all US cities, counties and states and creating a Python set, it has the big advantage of not counting famous cities as London or Edinburgh as being part of the US. Indeed, many US cities are named from famous cities worldwide. For example the city of Edinburgh located in Scotland, also exists in the US ([Edinburgh, Indiana, USA](https://en.wikipedia.org/wiki/Edinburgh,_Indiana )). To conclude the use of the *Geopy* library and API allows to obtain robust results to assess the precentage of american culture by looking only at locations in the plot summaries."
   ]
  },
  {
   "cell_type": "markdown",
   "metadata": {},
   "source": [
    "#### 1) Processing the partially US-produced movies\n",
    "Each of the 3 \"sub\"-dataframes are processed separately due to the consequent running time due to the use of the `en_core_web_trf` spacy NLP model (see below)."
   ]
  },
  {
   "cell_type": "markdown",
   "metadata": {},
   "source": [
    "Functions used to extract the US GPE freqeuncies and retrieve the american culture \"percentage\" based on locations only"
   ]
  },
  {
   "cell_type": "code",
   "execution_count": 11,
   "metadata": {},
   "outputs": [],
   "source": [
    "# Acknowledement: ChatGPT was used here in order to better understand how to work with CUDA and with the NLP pipeline (https://chatgpt.com/)\n",
    "\n",
    "# Initialize caching dictionary to avoid requesting the same locations many times\n",
    "geocode_cache = {}\n",
    "\n",
    "# Geocode a single location and check if it's in the US\n",
    "def geocode_location(location):\n",
    "    geolocator = Nominatim(user_agent=\"location_disambiguator\", timeout=10)\n",
    "    locate = geolocator.geocode(location)\n",
    "    check = True if locate and 'United States' in str(locate) else False\n",
    "    return location, check\n",
    "\n",
    "# Cached geocoding function tio avoid looking sevarl time for the same location of the geopy API\n",
    "def geocode_location_cached(location):\n",
    "    if location not in geocode_cache:\n",
    "        for attempt in range(3):  # Retry up to 3 times\n",
    "            try:\n",
    "                time.sleep(1)  # Respect API rate limits\n",
    "                geocode_cache[location] = geocode_location(location)\n",
    "                break\n",
    "            except GeocoderRateLimited:\n",
    "                print(f\"Rate-limited for location: {location}. Retrying...\")\n",
    "                time.sleep(10)  # Wait before retrying\n",
    "    return geocode_cache[location]\n",
    "\n",
    "# Geocode multiple locations in parallel\n",
    "def geocode_locations_parallel(locations):\n",
    "    with ThreadPoolExecutor() as executor:\n",
    "        results = list(executor.map(geocode_location_cached, locations))\n",
    "    return results\n",
    "\n",
    "# Extract GPE entities and compute US frequencies with geocoding\n",
    "def extract_GPE_and_compute_US_frequencies_batch(summaries):\n",
    "    results = []\n",
    "    for doc in tqdm(nlp.pipe(summaries, batch_size=500), total=len(summaries), desc=\"Processing Summaries\"):\n",
    "        GPE_entities = [ent.text for ent in doc.ents if ent.label_ == 'GPE']\n",
    "        GPE_frequencies_all = Counter(GPE_entities)\n",
    "        geocoded_results = geocode_locations_parallel(GPE_entities)\n",
    "        GPE_US_frequencies = Counter(location for location, is_in_us in geocoded_results if is_in_us)\n",
    "        Percentage_US_culture = (\n",
    "            sum(GPE_US_frequencies.values()) / sum(GPE_frequencies_all.values())\n",
    "            if sum(GPE_frequencies_all.values()) > 0 else 0\n",
    "        )\n",
    "        results.append((GPE_entities, GPE_US_frequencies, Percentage_US_culture))\n",
    "    return results"
   ]
  },
  {
   "cell_type": "markdown",
   "metadata": {},
   "source": [
    "**Disclaimer**: one must keep in mind that **the three below cells run** in about $\\color{red}{\\text{1 hour and 11 minutes, 4 hours and 10 minutes, 4 hours 20 minutes}}$ with the **Nvidia GeForce RTX 3050 Ti Laptop GPU** used here."
   ]
  },
  {
   "cell_type": "code",
   "execution_count": 10,
   "metadata": {},
   "outputs": [
    {
     "name": "stdout",
     "output_type": "stream",
     "text": [
      "CUDA is available. Using GPU.\n",
      "Using Spacy English transformer pipeline.\n",
      "Processing starting.\n"
     ]
    },
    {
     "name": "stderr",
     "output_type": "stream",
     "text": [
      "Processing Summaries:   1%|          | 20/3015 [04:58<1:36:08,  1.93s/it]  "
     ]
    },
    {
     "name": "stdout",
     "output_type": "stream",
     "text": [
      "Rate-limited for location: Paris. Retrying...Rate-limited for location: Munich. Retrying...\n",
      "\n",
      "Rate-limited for location: Israel. Retrying...\n",
      "Rate-limited for location: Beirut. Retrying...\n"
     ]
    },
    {
     "name": "stderr",
     "output_type": "stream",
     "text": [
      "Processing Summaries:   2%|▏         | 55/3015 [06:23<2:19:12,  2.82s/it]"
     ]
    },
    {
     "name": "stdout",
     "output_type": "stream",
     "text": [
      "Rate-limited for location: Riyadh. Retrying...\n"
     ]
    },
    {
     "name": "stderr",
     "output_type": "stream",
     "text": [
      "Processing Summaries:   2%|▏         | 64/3015 [06:44<1:19:01,  1.61s/it]"
     ]
    },
    {
     "name": "stdout",
     "output_type": "stream",
     "text": [
      "Rate-limited for location: Khartoum. Retrying...\n"
     ]
    },
    {
     "name": "stderr",
     "output_type": "stream",
     "text": [
      "Processing Summaries:  16%|█▌        | 473/3015 [14:55<34:38,  1.22it/s]  "
     ]
    },
    {
     "name": "stdout",
     "output_type": "stream",
     "text": [
      "Rate-limited for location: Quintessa. Retrying...\n"
     ]
    },
    {
     "name": "stderr",
     "output_type": "stream",
     "text": [
      "Processing Summaries:  53%|█████▎    | 1603/3015 [45:40<22:03,  1.07it/s]   "
     ]
    },
    {
     "name": "stdout",
     "output_type": "stream",
     "text": [
      "Rate-limited for location: Nijmegen. Retrying...\n",
      "Rate-limited for location: Arnhem. Retrying...\n",
      "Rate-limited for location: Arnhem. Retrying...\n",
      "Rate-limited for location: Arnhem. Retrying...\n"
     ]
    },
    {
     "name": "stderr",
     "output_type": "stream",
     "text": [
      "Processing Summaries:  67%|██████▋   | 2010/3015 [55:08<3:30:15, 12.55s/it]"
     ]
    },
    {
     "name": "stdout",
     "output_type": "stream",
     "text": [
      "Rate-limited for location: Thornfield. Retrying...\n"
     ]
    },
    {
     "name": "stderr",
     "output_type": "stream",
     "text": [
      "Processing Summaries:  69%|██████▉   | 2075/3015 [56:00<05:46,  2.71it/s]  "
     ]
    },
    {
     "name": "stdout",
     "output_type": "stream",
     "text": [
      "Rate-limited for location: Zangaro. Retrying...\n",
      "Rate-limited for location: Zangaro. Retrying...\n"
     ]
    },
    {
     "name": "stderr",
     "output_type": "stream",
     "text": [
      "Processing Summaries:  70%|███████   | 2112/3015 [56:28<07:18,  2.06it/s]"
     ]
    },
    {
     "name": "stdout",
     "output_type": "stream",
     "text": [
      "Rate-limited for location: Wuzzlewood. Retrying...\n",
      "Rate-limited for location: Wuzzlewood. Retrying...\n",
      "Rate-limited for location: Wuzzlewood. Retrying...\n"
     ]
    },
    {
     "name": "stderr",
     "output_type": "stream",
     "text": [
      "Processing Summaries:  85%|████████▌ | 2573/3015 [1:06:23<03:43,  1.98it/s]  "
     ]
    },
    {
     "name": "stdout",
     "output_type": "stream",
     "text": [
      "Rate-limited for location: Addisford. Retrying...Rate-limited for location: Selmouth. Retrying...\n",
      "\n"
     ]
    },
    {
     "name": "stderr",
     "output_type": "stream",
     "text": [
      "Processing Summaries:  94%|█████████▍| 2829/3015 [1:08:53<00:33,  5.62it/s]"
     ]
    },
    {
     "name": "stdout",
     "output_type": "stream",
     "text": [
      "Rate-limited for location: Avalon. Retrying...\n",
      "Rate-limited for location: Orkney. Retrying...\n",
      "Rate-limited for location: Beltane. Retrying...\n",
      "Rate-limited for location: Orkney. Retrying...\n"
     ]
    },
    {
     "name": "stderr",
     "output_type": "stream",
     "text": [
      "Processing Summaries: 100%|██████████| 3015/3015 [1:11:33<00:00,  1.42s/it]"
     ]
    },
    {
     "name": "stdout",
     "output_type": "stream",
     "text": [
      "Execution time: 71.56 minutes. NLP processing done.\n"
     ]
    },
    {
     "name": "stderr",
     "output_type": "stream",
     "text": [
      "\n"
     ]
    }
   ],
   "source": [
    "# Acknowledement: ChatGPT was used here in order to better understand how to work with CUDA and with the NLP pipeline (https://chatgpt.com/)\n",
    "\n",
    "if torch.cuda.is_available():\n",
    "    print(\"CUDA is available. Using GPU.\")\n",
    "    spacy.require_gpu()  # Enable GPU use for SpaCy\n",
    "    nlp = spacy.load(\"en_core_web_trf\")  # Use a more complex model leveraging transformers (cf. https://spacy.io/models/en/)\n",
    "    print(\"Using Spacy English transformer pipeline.\")\n",
    "else:\n",
    "    print(\"CUDA is NOT available. Using CPU.\")\n",
    "    nlp = spacy.load(\"en_core_web_sm\")\n",
    "    print(\"Using Spacy English pipeline optimized for CPU.\")\n",
    "\n",
    "# Copying the original datframe to avoid messing it up\n",
    "df_plots_us_partially_movies_GPE = plot_summaries_us_partially_movies.copy()\n",
    "\n",
    "start_time = time.time()\n",
    "print(\"Processing starting.\")\n",
    "\n",
    "# Call batch processing function with GPU\n",
    "extracted_results = extract_GPE_and_compute_US_frequencies_batch(df_plots_us_partially_movies_GPE['Summary'].tolist())\n",
    "df_plots_us_partially_movies_GPE['GPE_entities'] = [res[0] for res in extracted_results]\n",
    "df_plots_us_partially_movies_GPE['GPE_US_frequencies'] = [res[1] for res in extracted_results]\n",
    "df_plots_us_partially_movies_GPE['Percentage_american_culture'] = [res[2] for res in extracted_results]\n",
    "\n",
    "# Drop summaries and save results to .csv file\n",
    "df_plots_us_partially_movies_GPE = df_plots_us_partially_movies_GPE.drop(columns=['Summary'])\n",
    "df_plots_us_partially_movies_GPE.to_csv(\"data/NLP_datasets/us_partially_movies_NLP_GPE.csv\", sep=',', encoding='utf-8', index=False, header=True)\n",
    "\n",
    "end_time = time.time()\n",
    "execution_time = end_time - start_time\n",
    "print(f\"Execution time: {execution_time/60:.2f} minutes. NLP processing done.\")"
   ]
  },
  {
   "cell_type": "markdown",
   "metadata": {},
   "source": [
    "Quick visualization of the results"
   ]
  },
  {
   "cell_type": "code",
   "execution_count": 22,
   "metadata": {},
   "outputs": [
    {
     "name": "stdout",
     "output_type": "stream",
     "text": [
      "The mean american culture percentage for partially US-produced movies using only GPE information is 27.61 %.\n",
      "The percentage of zero values on the partially US GPE dataset is: 60.17 %.\n",
      "Shape verification of the US-only GPE dataset: shape: (3015, 9)\n"
     ]
    },
    {
     "data": {
      "text/html": [
       "<div>\n",
       "<style scoped>\n",
       "    .dataframe tbody tr th:only-of-type {\n",
       "        vertical-align: middle;\n",
       "    }\n",
       "\n",
       "    .dataframe tbody tr th {\n",
       "        vertical-align: top;\n",
       "    }\n",
       "\n",
       "    .dataframe thead th {\n",
       "        text-align: right;\n",
       "    }\n",
       "</style>\n",
       "<table border=\"1\" class=\"dataframe\">\n",
       "  <thead>\n",
       "    <tr style=\"text-align: right;\">\n",
       "      <th></th>\n",
       "      <th>title</th>\n",
       "      <th>box_office</th>\n",
       "      <th>genres_IMDB</th>\n",
       "      <th>release_year</th>\n",
       "      <th>averageRating</th>\n",
       "      <th>numVotes</th>\n",
       "      <th>GPE_entities</th>\n",
       "      <th>GPE_US_frequencies</th>\n",
       "      <th>Percentage_american_culture</th>\n",
       "    </tr>\n",
       "  </thead>\n",
       "  <tbody>\n",
       "    <tr>\n",
       "      <th>0</th>\n",
       "      <td>A Cry in the Dark</td>\n",
       "      <td>6908797.0</td>\n",
       "      <td>NaN</td>\n",
       "      <td>1988.0</td>\n",
       "      <td>NaN</td>\n",
       "      <td>NaN</td>\n",
       "      <td>['Azaria', 'Uluru']</td>\n",
       "      <td>Counter()</td>\n",
       "      <td>0.00</td>\n",
       "    </tr>\n",
       "    <tr>\n",
       "      <th>1</th>\n",
       "      <td>End Game</td>\n",
       "      <td>NaN</td>\n",
       "      <td>Action,Thriller</td>\n",
       "      <td>2006.0</td>\n",
       "      <td>5.1</td>\n",
       "      <td>5745.0</td>\n",
       "      <td>[]</td>\n",
       "      <td>Counter()</td>\n",
       "      <td>0.00</td>\n",
       "    </tr>\n",
       "    <tr>\n",
       "      <th>2</th>\n",
       "      <td>Come Back, Africa</td>\n",
       "      <td>NaN</td>\n",
       "      <td>NaN</td>\n",
       "      <td>1960.0</td>\n",
       "      <td>NaN</td>\n",
       "      <td>NaN</td>\n",
       "      <td>['Johannesburg', 'Sophiatown']</td>\n",
       "      <td>Counter()</td>\n",
       "      <td>0.00</td>\n",
       "    </tr>\n",
       "    <tr>\n",
       "      <th>3</th>\n",
       "      <td>Kehtaa Hai Dil Baar Baar</td>\n",
       "      <td>NaN</td>\n",
       "      <td>Comedy,Drama,Romance</td>\n",
       "      <td>2002.0</td>\n",
       "      <td>4.7</td>\n",
       "      <td>204.0</td>\n",
       "      <td>['India', 'New York']</td>\n",
       "      <td>Counter({'New York': 1})</td>\n",
       "      <td>0.50</td>\n",
       "    </tr>\n",
       "    <tr>\n",
       "      <th>4</th>\n",
       "      <td>Pieces</td>\n",
       "      <td>2032311.0</td>\n",
       "      <td>NaN</td>\n",
       "      <td>1982.0</td>\n",
       "      <td>NaN</td>\n",
       "      <td>NaN</td>\n",
       "      <td>['Boston']</td>\n",
       "      <td>Counter({'Boston': 1})</td>\n",
       "      <td>1.00</td>\n",
       "    </tr>\n",
       "    <tr>\n",
       "      <th>5</th>\n",
       "      <td>The Good Life</td>\n",
       "      <td>NaN</td>\n",
       "      <td>Comedy,Drama</td>\n",
       "      <td>2007.0</td>\n",
       "      <td>6.4</td>\n",
       "      <td>2352.0</td>\n",
       "      <td>['Nebraska']</td>\n",
       "      <td>Counter({'Nebraska': 1})</td>\n",
       "      <td>1.00</td>\n",
       "    </tr>\n",
       "    <tr>\n",
       "      <th>6</th>\n",
       "      <td>Eastern Promises</td>\n",
       "      <td>17266000.0</td>\n",
       "      <td>NaN</td>\n",
       "      <td>2007.0</td>\n",
       "      <td>NaN</td>\n",
       "      <td>NaN</td>\n",
       "      <td>['London', 'UK', 'London', 'Edinburgh']</td>\n",
       "      <td>Counter()</td>\n",
       "      <td>0.00</td>\n",
       "    </tr>\n",
       "    <tr>\n",
       "      <th>7</th>\n",
       "      <td>Wait Until Spring, Bandini</td>\n",
       "      <td>NaN</td>\n",
       "      <td>Drama</td>\n",
       "      <td>1989.0</td>\n",
       "      <td>6.2</td>\n",
       "      <td>754.0</td>\n",
       "      <td>['Colorado']</td>\n",
       "      <td>Counter({'Colorado': 1})</td>\n",
       "      <td>1.00</td>\n",
       "    </tr>\n",
       "    <tr>\n",
       "      <th>8</th>\n",
       "      <td>Sophie's Choice</td>\n",
       "      <td>30036000.0</td>\n",
       "      <td>Drama,Romance</td>\n",
       "      <td>1982.0</td>\n",
       "      <td>7.5</td>\n",
       "      <td>53987.0</td>\n",
       "      <td>['Brooklyn', 'U.S.', 'Brooklyn', 'Virginia']</td>\n",
       "      <td>Counter({'Brooklyn': 2, 'Virginia': 1})</td>\n",
       "      <td>0.75</td>\n",
       "    </tr>\n",
       "    <tr>\n",
       "      <th>9</th>\n",
       "      <td>Until Death</td>\n",
       "      <td>NaN</td>\n",
       "      <td>Action,Crime,Drama</td>\n",
       "      <td>2007.0</td>\n",
       "      <td>5.7</td>\n",
       "      <td>10503.0</td>\n",
       "      <td>['New Orleans', 'New Orleans']</td>\n",
       "      <td>Counter({'New Orleans': 2})</td>\n",
       "      <td>1.00</td>\n",
       "    </tr>\n",
       "  </tbody>\n",
       "</table>\n",
       "</div>"
      ],
      "text/plain": [
       "                        title  box_office           genres_IMDB  release_year  \\\n",
       "0           A Cry in the Dark   6908797.0                   NaN        1988.0   \n",
       "1                    End Game         NaN       Action,Thriller        2006.0   \n",
       "2           Come Back, Africa         NaN                   NaN        1960.0   \n",
       "3    Kehtaa Hai Dil Baar Baar         NaN  Comedy,Drama,Romance        2002.0   \n",
       "4                      Pieces   2032311.0                   NaN        1982.0   \n",
       "5               The Good Life         NaN          Comedy,Drama        2007.0   \n",
       "6            Eastern Promises  17266000.0                   NaN        2007.0   \n",
       "7  Wait Until Spring, Bandini         NaN                 Drama        1989.0   \n",
       "8             Sophie's Choice  30036000.0         Drama,Romance        1982.0   \n",
       "9                 Until Death         NaN    Action,Crime,Drama        2007.0   \n",
       "\n",
       "   averageRating  numVotes                                  GPE_entities  \\\n",
       "0            NaN       NaN                           ['Azaria', 'Uluru']   \n",
       "1            5.1    5745.0                                            []   \n",
       "2            NaN       NaN                ['Johannesburg', 'Sophiatown']   \n",
       "3            4.7     204.0                         ['India', 'New York']   \n",
       "4            NaN       NaN                                    ['Boston']   \n",
       "5            6.4    2352.0                                  ['Nebraska']   \n",
       "6            NaN       NaN       ['London', 'UK', 'London', 'Edinburgh']   \n",
       "7            6.2     754.0                                  ['Colorado']   \n",
       "8            7.5   53987.0  ['Brooklyn', 'U.S.', 'Brooklyn', 'Virginia']   \n",
       "9            5.7   10503.0                ['New Orleans', 'New Orleans']   \n",
       "\n",
       "                        GPE_US_frequencies  Percentage_american_culture  \n",
       "0                                Counter()                         0.00  \n",
       "1                                Counter()                         0.00  \n",
       "2                                Counter()                         0.00  \n",
       "3                 Counter({'New York': 1})                         0.50  \n",
       "4                   Counter({'Boston': 1})                         1.00  \n",
       "5                 Counter({'Nebraska': 1})                         1.00  \n",
       "6                                Counter()                         0.00  \n",
       "7                 Counter({'Colorado': 1})                         1.00  \n",
       "8  Counter({'Brooklyn': 2, 'Virginia': 1})                         0.75  \n",
       "9              Counter({'New Orleans': 2})                         1.00  "
      ]
     },
     "execution_count": 22,
     "metadata": {},
     "output_type": "execute_result"
    }
   ],
   "source": [
    "df_GPE_partially_us = pd.read_csv(\"data/NLP_datasets/us_partially_movies_NLP_GPE.csv\", sep=',')\n",
    "\n",
    "\n",
    "mean_american_culture_GPE_partially_us_movies = df_GPE_partially_us['Percentage_american_culture'].mean()*100\n",
    "\n",
    "# count the proportions of zeros\n",
    "df_GPE_partially_us['Percentage_american_culture'] = pd.to_numeric(df_GPE_partially_us['Percentage_american_culture']).astype('float64')\n",
    "proportion_0_percenatge_us_partially = (len(df_GPE_partially_us[df_GPE_partially_us['Percentage_american_culture'] == 0.0])/len(df_GPE_partially_us))*100\n",
    "\n",
    "print(f\"The mean american culture percentage for partially US-produced movies using only GPE information is {mean_american_culture_GPE_partially_us_movies:.2f} %.\")\n",
    "print(f\"The percentage of zero values on the partially US GPE dataset is: {proportion_0_percenatge_us_partially:.2f} %.\")\n",
    "print(f\"Shape verification of the US-only GPE dataset: shape: {df_GPE_partially_us .shape}\")\n",
    "\n",
    "df_GPE_partially_us.head(10)\n",
    "# https://en.wikipedia.org/wiki/London,_Ohio\n",
    "# https://en.wikipedia.org/wiki/Edinburgh,_Indiana "
   ]
  },
  {
   "cell_type": "markdown",
   "metadata": {},
   "source": [
    "First one notices that the *Geopy* library gives some robust results. Indeed, one immediately sees that London and Edinburgh are not counted as US locations because the probability is much higher that the plot summary talks about London UK than about London, Ohio, US. Moreover, for the movie *Come Back, Africa* that takes place in South Africa ([see here](https://en.wikipedia.org/wiki/Come_Back,_Africa)), one notices that the city of Johannesburg is not treated as being part of the State of California which is the desired output ([Johannesburg, California, USA](https://en.wikipedia.org/wiki/Come_Back,_Africa)). The US states such as Nebraska and Colorado are also perfectly recognised. One analyses the percentage of American culture in the plot, 5 cells below."
   ]
  },
  {
   "cell_type": "markdown",
   "metadata": {},
   "source": [
    "#### 2) Processing the US-only produced movies"
   ]
  },
  {
   "cell_type": "code",
   "execution_count": 12,
   "metadata": {},
   "outputs": [
    {
     "name": "stdout",
     "output_type": "stream",
     "text": [
      "CUDA is available. Using GPU.\n",
      "Using Spacy English transformer pipeline.\n",
      "Processing starting.\n"
     ]
    },
    {
     "name": "stderr",
     "output_type": "stream",
     "text": [
      "Processing Summaries:   0%|          | 6/17776 [03:53<72:10:39, 14.62s/it]   "
     ]
    },
    {
     "name": "stdout",
     "output_type": "stream",
     "text": [
      "Rate-limited for location: Cyprus. Retrying...Rate-limited for location: Gan Dafna. Retrying...\n",
      "\n"
     ]
    },
    {
     "name": "stderr",
     "output_type": "stream",
     "text": [
      "Processing Summaries:   1%|          | 140/17776 [06:02<7:07:18,  1.45s/it]"
     ]
    },
    {
     "name": "stdout",
     "output_type": "stream",
     "text": [
      "Rate-limited for location: Corinth. Retrying...\n",
      "Rate-limited for location: Antioch. Retrying...\n"
     ]
    },
    {
     "name": "stderr",
     "output_type": "stream",
     "text": [
      "Processing Summaries:   5%|▌         | 909/17776 [17:59<2:53:37,  1.62it/s]  "
     ]
    },
    {
     "name": "stdout",
     "output_type": "stream",
     "text": [
      "Rate-limited for location: Kotor. Retrying...\n",
      "Rate-limited for location: Montenegro. Retrying...\n"
     ]
    },
    {
     "name": "stderr",
     "output_type": "stream",
     "text": [
      "Processing Summaries:   5%|▌         | 961/17776 [18:33<1:33:06,  3.01it/s]"
     ]
    },
    {
     "name": "stdout",
     "output_type": "stream",
     "text": [
      "Rate-limited for location: Panama. Retrying...\n",
      "Rate-limited for location: Binghampton. Retrying...\n"
     ]
    },
    {
     "name": "stderr",
     "output_type": "stream",
     "text": [
      "Processing Summaries:   6%|▌         | 1053/17776 [23:19<3:29:53,  1.33it/s]  "
     ]
    },
    {
     "name": "stdout",
     "output_type": "stream",
     "text": [
      "Rate-limited for location: Little Rock's. Retrying...\n",
      "Rate-limited for location: Columbus. Retrying...\n",
      "Rate-limited for location: Columbus. Retrying...\n",
      "Rate-limited for location: Wichita. Retrying...\n"
     ]
    },
    {
     "name": "stderr",
     "output_type": "stream",
     "text": [
      "Processing Summaries:  11%|█         | 1933/17776 [34:21<1:07:30,  3.91it/s] "
     ]
    },
    {
     "name": "stdout",
     "output_type": "stream",
     "text": [
      "Rate-limited for location: Santa Ana. Retrying...\n"
     ]
    },
    {
     "name": "stderr",
     "output_type": "stream",
     "text": [
      "Processing Summaries:  23%|██▎       | 4047/17776 [1:11:41<5:17:47,  1.39s/it]  "
     ]
    },
    {
     "name": "stdout",
     "output_type": "stream",
     "text": [
      "Rate-limited for location: Guinea-Bissau. Retrying...Rate-limited for location: the Republic of the Marshall Islands. Retrying...\n",
      "\n"
     ]
    },
    {
     "name": "stderr",
     "output_type": "stream",
     "text": [
      "Processing Summaries:  31%|███▏      | 5586/17776 [1:34:01<1:32:16,  2.20it/s] "
     ]
    },
    {
     "name": "stdout",
     "output_type": "stream",
     "text": [
      "Rate-limited for location: West Chester. Retrying...\n",
      "Rate-limited for location: Finland. Retrying...\n"
     ]
    },
    {
     "name": "stderr",
     "output_type": "stream",
     "text": [
      "Processing Summaries:  32%|███▏      | 5770/17776 [1:35:31<2:06:33,  1.58it/s]"
     ]
    },
    {
     "name": "stdout",
     "output_type": "stream",
     "text": [
      "Rate-limited for location: Valdez. Retrying...\n",
      "Rate-limited for location: Whitehorse. Retrying...\n",
      "Rate-limited for location: Valdez. Retrying...\n"
     ]
    },
    {
     "name": "stderr",
     "output_type": "stream",
     "text": [
      "Processing Summaries:  35%|███▌      | 6235/17776 [1:42:32<54:35,  3.52it/s]   "
     ]
    },
    {
     "name": "stdout",
     "output_type": "stream",
     "text": [
      "Rate-limited for location: Ambleve. Retrying...\n",
      "Rate-limited for location: Ambleve. Retrying...\n",
      "Rate-limited for location: Ambleve. Retrying...\n",
      "Rate-limited for location: Ambleve. Retrying...\n"
     ]
    },
    {
     "name": "stderr",
     "output_type": "stream",
     "text": [
      "Processing Summaries:  37%|███▋      | 6533/17776 [1:48:39<7:16:37,  2.33s/it] "
     ]
    },
    {
     "name": "stdout",
     "output_type": "stream",
     "text": [
      "Rate-limited for location: Eatonville. Retrying...\n"
     ]
    },
    {
     "name": "stderr",
     "output_type": "stream",
     "text": [
      "Processing Summaries:  39%|███▉      | 6922/17776 [1:51:19<2:04:15,  1.46it/s]"
     ]
    },
    {
     "name": "stdout",
     "output_type": "stream",
     "text": [
      "Rate-limited for location: Moria. Retrying...\n",
      "Rate-limited for location: Rivendell. Retrying...\n",
      "Rate-limited for location: Gondor. Retrying...\n",
      "Rate-limited for location: Lothlórien. Retrying...\n"
     ]
    },
    {
     "name": "stderr",
     "output_type": "stream",
     "text": [
      "Processing Summaries:  42%|████▏     | 7388/17776 [1:57:57<21:08,  8.19it/s]   "
     ]
    },
    {
     "name": "stdout",
     "output_type": "stream",
     "text": [
      "Rate-limited for location: Halloweentown. Retrying...\n"
     ]
    },
    {
     "name": "stderr",
     "output_type": "stream",
     "text": [
      "Processing Summaries:  51%|█████     | 9038/17776 [2:23:08<3:46:01,  1.55s/it] "
     ]
    },
    {
     "name": "stdout",
     "output_type": "stream",
     "text": [
      "Rate-limited for location: Krynn. Retrying...\n"
     ]
    },
    {
     "name": "stderr",
     "output_type": "stream",
     "text": [
      "Processing Summaries:  61%|██████    | 10812/17776 [2:44:53<34:02,  3.41it/s]   "
     ]
    },
    {
     "name": "stdout",
     "output_type": "stream",
     "text": [
      "Rate-limited for location: Bluesville. Retrying...\n",
      "Rate-limited for location: Joyville. Retrying...\n",
      "Rate-limited for location: Bluesville. Retrying...\n",
      "Rate-limited for location: Bluesville. Retrying...\n"
     ]
    },
    {
     "name": "stderr",
     "output_type": "stream",
     "text": [
      "Processing Summaries:  96%|█████████▌| 16995/17776 [4:01:41<04:43,  2.75it/s]   "
     ]
    },
    {
     "name": "stdout",
     "output_type": "stream",
     "text": [
      "Rate-limited for location: Denton. Retrying...\n",
      "Rate-limited for location: Denton. Retrying...\n"
     ]
    },
    {
     "name": "stderr",
     "output_type": "stream",
     "text": [
      "Processing Summaries:  98%|█████████▊| 17462/17776 [4:07:00<01:07,  4.67it/s]  "
     ]
    },
    {
     "name": "stdout",
     "output_type": "stream",
     "text": [
      "Rate-limited for location: Ta-Koro. Retrying...Rate-limited for location: Ko-Koro. Retrying...\n",
      "\n"
     ]
    },
    {
     "name": "stderr",
     "output_type": "stream",
     "text": [
      "Processing Summaries: 100%|██████████| 17776/17776 [4:10:37<00:00,  1.18it/s]\n"
     ]
    },
    {
     "name": "stdout",
     "output_type": "stream",
     "text": [
      "Execution time: 250.64 minutes. NLP processing done.\n"
     ]
    },
    {
     "ename": "NameError",
     "evalue": "name 'df_plots_us_partially_movies_GPE' is not defined",
     "output_type": "error",
     "traceback": [
      "\u001b[1;31m---------------------------------------------------------------------------\u001b[0m",
      "\u001b[1;31mNameError\u001b[0m                                 Traceback (most recent call last)",
      "Cell \u001b[1;32mIn[12], line 34\u001b[0m\n\u001b[0;32m     31\u001b[0m execution_time \u001b[38;5;241m=\u001b[39m end_time \u001b[38;5;241m-\u001b[39m start_time\n\u001b[0;32m     32\u001b[0m \u001b[38;5;28mprint\u001b[39m(\u001b[38;5;124mf\u001b[39m\u001b[38;5;124m\"\u001b[39m\u001b[38;5;124mExecution time: \u001b[39m\u001b[38;5;132;01m{\u001b[39;00mexecution_time\u001b[38;5;241m/\u001b[39m\u001b[38;5;241m60\u001b[39m\u001b[38;5;132;01m:\u001b[39;00m\u001b[38;5;124m.2f\u001b[39m\u001b[38;5;132;01m}\u001b[39;00m\u001b[38;5;124m minutes. NLP processing done.\u001b[39m\u001b[38;5;124m\"\u001b[39m)\n\u001b[1;32m---> 34\u001b[0m \u001b[43mdf_plots_us_partially_movies_GPE\u001b[49m\u001b[38;5;241m.\u001b[39mhead()\n",
      "\u001b[1;31mNameError\u001b[0m: name 'df_plots_us_partially_movies_GPE' is not defined"
     ]
    }
   ],
   "source": [
    "# Acknowledement: ChatGPT was used here in order to better understand how to work with CUDA and with the NLP pipeline (https://chatgpt.com/)\n",
    "\n",
    "if torch.cuda.is_available():\n",
    "    print(\"CUDA is available. Using GPU.\")\n",
    "    spacy.require_gpu()  # Enable GPU use for SpaCy\n",
    "    nlp = spacy.load(\"en_core_web_trf\")  # Use a more complex model leveraging transformers (cf. https://spacy.io/models/en/)\n",
    "    print(\"Using Spacy English transformer pipeline.\")\n",
    "else:\n",
    "    print(\"CUDA is NOT available. Using CPU.\")\n",
    "    nlp = spacy.load(\"en_core_web_sm\")\n",
    "    print(\"Using Spacy English pipeline optimized for CPU.\")\n",
    "\n",
    "# Copying the original datframe to avoid messing it up\n",
    "df_plots_us_only_movies_GPE = plot_summaries_us_movies.copy()\n",
    "\n",
    "start_time = time.time()\n",
    "print(\"Processing starting.\")\n",
    "\n",
    "# Call batch processing function with GPU\n",
    "extracted_results = extract_GPE_and_compute_US_frequencies_batch(df_plots_us_only_movies_GPE['Summary'].tolist())\n",
    "df_plots_us_only_movies_GPE['GPE_entities'] = [res[0] for res in extracted_results]\n",
    "df_plots_us_only_movies_GPE['GPE_US_frequencies'] = [res[1] for res in extracted_results]\n",
    "df_plots_us_only_movies_GPE['Percentage_american_culture'] = [res[2] for res in extracted_results]\n",
    "\n",
    "# Drop summaries and save results\n",
    "df_plots_us_only_movies_GPE = df_plots_us_only_movies_GPE.drop(columns=['Summary'])\n",
    "# filtered_df.drop(columns=['Summary'], inplace=True)\n",
    "df_plots_us_only_movies_GPE.to_csv(\"data/NLP_datasets/us_only_movies_NLP_GPE.csv\", sep=',', encoding='utf-8', index=False, header=True)\n",
    "\n",
    "end_time = time.time()\n",
    "execution_time = end_time - start_time\n",
    "print(f\"Execution time: {execution_time/60:.2f} minutes. NLP processing done.\")\n",
    "\n",
    "df_plots_us_only_movies_GPE.head()"
   ]
  },
  {
   "cell_type": "markdown",
   "metadata": {},
   "source": [
    "**Disclaimer**: please ignore the *NameError* at the end of this cell. It was a small mistake one forgot to remove before running the cell. One leaves the cell like that due to its very long running time."
   ]
  },
  {
   "cell_type": "markdown",
   "metadata": {},
   "source": [
    "Quick visualization of the results"
   ]
  },
  {
   "cell_type": "code",
   "execution_count": 23,
   "metadata": {},
   "outputs": [
    {
     "name": "stdout",
     "output_type": "stream",
     "text": [
      "The mean american culture percentage for US-only produced movies using only GPE information is 36.72 %.\n",
      "The percentage of zero values on the US-only GPE dataset is: 57.02 %.\n",
      "Shape verification of the US-only GPE dataset: shape: (17776, 9)\n"
     ]
    },
    {
     "data": {
      "text/html": [
       "<div>\n",
       "<style scoped>\n",
       "    .dataframe tbody tr th:only-of-type {\n",
       "        vertical-align: middle;\n",
       "    }\n",
       "\n",
       "    .dataframe tbody tr th {\n",
       "        vertical-align: top;\n",
       "    }\n",
       "\n",
       "    .dataframe thead th {\n",
       "        text-align: right;\n",
       "    }\n",
       "</style>\n",
       "<table border=\"1\" class=\"dataframe\">\n",
       "  <thead>\n",
       "    <tr style=\"text-align: right;\">\n",
       "      <th></th>\n",
       "      <th>title</th>\n",
       "      <th>box_office</th>\n",
       "      <th>genres_IMDB</th>\n",
       "      <th>release_year</th>\n",
       "      <th>averageRating</th>\n",
       "      <th>numVotes</th>\n",
       "      <th>GPE_entities</th>\n",
       "      <th>GPE_US_frequencies</th>\n",
       "      <th>Percentage_american_culture</th>\n",
       "    </tr>\n",
       "  </thead>\n",
       "  <tbody>\n",
       "    <tr>\n",
       "      <th>0</th>\n",
       "      <td>The Hunger Games</td>\n",
       "      <td>686533290.0</td>\n",
       "      <td>Action,Adventure,Sci-Fi</td>\n",
       "      <td>2012.0</td>\n",
       "      <td>7.2</td>\n",
       "      <td>1022897.0</td>\n",
       "      <td>['Panem']</td>\n",
       "      <td>Counter()</td>\n",
       "      <td>0.000000</td>\n",
       "    </tr>\n",
       "    <tr>\n",
       "      <th>1</th>\n",
       "      <td>The Lemon Drop Kid</td>\n",
       "      <td>2300000.0</td>\n",
       "      <td>Comedy,Crime,Music</td>\n",
       "      <td>1951.0</td>\n",
       "      <td>7.0</td>\n",
       "      <td>2303.0</td>\n",
       "      <td>['New York City', 'Florida', 'New York', 'New York', 'Manhattan', 'Nyack', 'Nellie']</td>\n",
       "      <td>Counter({'New York': 2, 'New York City': 1, 'Florida': 1, 'Manhattan': 1, 'Nyack': 1, 'Nellie': 1})</td>\n",
       "      <td>1.000000</td>\n",
       "    </tr>\n",
       "    <tr>\n",
       "      <th>2</th>\n",
       "      <td>Dark Water</td>\n",
       "      <td>49483352.0</td>\n",
       "      <td>Drama,Horror,Mystery</td>\n",
       "      <td>2005.0</td>\n",
       "      <td>5.6</td>\n",
       "      <td>66164.0</td>\n",
       "      <td>['Jersey City', 'Roosevelt Island', 'Jersey City']</td>\n",
       "      <td>Counter({'Jersey City': 2, 'Roosevelt Island': 1})</td>\n",
       "      <td>1.000000</td>\n",
       "    </tr>\n",
       "    <tr>\n",
       "      <th>3</th>\n",
       "      <td>Sing</td>\n",
       "      <td>2260616.0</td>\n",
       "      <td>Drama,Musical</td>\n",
       "      <td>1989.0</td>\n",
       "      <td>6.7</td>\n",
       "      <td>974.0</td>\n",
       "      <td>['Brooklyn']</td>\n",
       "      <td>Counter({'Brooklyn': 1})</td>\n",
       "      <td>1.000000</td>\n",
       "    </tr>\n",
       "    <tr>\n",
       "      <th>4</th>\n",
       "      <td>Meet John Doe</td>\n",
       "      <td>NaN</td>\n",
       "      <td>Comedy,Drama,Romance</td>\n",
       "      <td>1941.0</td>\n",
       "      <td>7.6</td>\n",
       "      <td>15255.0</td>\n",
       "      <td>['Millsville']</td>\n",
       "      <td>Counter()</td>\n",
       "      <td>0.000000</td>\n",
       "    </tr>\n",
       "    <tr>\n",
       "      <th>5</th>\n",
       "      <td>Husband for Hire</td>\n",
       "      <td>NaN</td>\n",
       "      <td>NaN</td>\n",
       "      <td>2008.0</td>\n",
       "      <td>NaN</td>\n",
       "      <td>NaN</td>\n",
       "      <td>['Texas', 'New Mexico']</td>\n",
       "      <td>Counter({'Texas': 1, 'New Mexico': 1})</td>\n",
       "      <td>1.000000</td>\n",
       "    </tr>\n",
       "    <tr>\n",
       "      <th>6</th>\n",
       "      <td>Exodus</td>\n",
       "      <td>NaN</td>\n",
       "      <td>NaN</td>\n",
       "      <td>1960.0</td>\n",
       "      <td>NaN</td>\n",
       "      <td>NaN</td>\n",
       "      <td>['Israel', 'Cyprus', 'Palestine', 'Mandate Palestine', 'Famagusta', 'America', 'Palestine', 'Jerusalem', 'Abu Yesha', 'Gan Dafna', 'Israel', 'Jerusalem', 'Gan Dafna', 'Gan Dafna']</td>\n",
       "      <td>Counter({'Palestine': 2, 'America': 1})</td>\n",
       "      <td>0.214286</td>\n",
       "    </tr>\n",
       "    <tr>\n",
       "      <th>7</th>\n",
       "      <td>House Party 2</td>\n",
       "      <td>19438638.0</td>\n",
       "      <td>Comedy,Drama,Music</td>\n",
       "      <td>1991.0</td>\n",
       "      <td>5.3</td>\n",
       "      <td>7205.0</td>\n",
       "      <td>[]</td>\n",
       "      <td>Counter()</td>\n",
       "      <td>0.000000</td>\n",
       "    </tr>\n",
       "    <tr>\n",
       "      <th>8</th>\n",
       "      <td>Charlie Chan's Secret</td>\n",
       "      <td>NaN</td>\n",
       "      <td>NaN</td>\n",
       "      <td>1936.0</td>\n",
       "      <td>NaN</td>\n",
       "      <td>NaN</td>\n",
       "      <td>[]</td>\n",
       "      <td>Counter()</td>\n",
       "      <td>0.000000</td>\n",
       "    </tr>\n",
       "    <tr>\n",
       "      <th>9</th>\n",
       "      <td>The Biggest Fan</td>\n",
       "      <td>NaN</td>\n",
       "      <td>NaN</td>\n",
       "      <td>2002.0</td>\n",
       "      <td>NaN</td>\n",
       "      <td>NaN</td>\n",
       "      <td>[]</td>\n",
       "      <td>Counter()</td>\n",
       "      <td>0.000000</td>\n",
       "    </tr>\n",
       "  </tbody>\n",
       "</table>\n",
       "</div>"
      ],
      "text/plain": [
       "                   title   box_office              genres_IMDB  release_year  \\\n",
       "0       The Hunger Games  686533290.0  Action,Adventure,Sci-Fi        2012.0   \n",
       "1     The Lemon Drop Kid    2300000.0       Comedy,Crime,Music        1951.0   \n",
       "2             Dark Water   49483352.0     Drama,Horror,Mystery        2005.0   \n",
       "3                   Sing    2260616.0            Drama,Musical        1989.0   \n",
       "4          Meet John Doe          NaN     Comedy,Drama,Romance        1941.0   \n",
       "5       Husband for Hire          NaN                      NaN        2008.0   \n",
       "6                 Exodus          NaN                      NaN        1960.0   \n",
       "7          House Party 2   19438638.0       Comedy,Drama,Music        1991.0   \n",
       "8  Charlie Chan's Secret          NaN                      NaN        1936.0   \n",
       "9        The Biggest Fan          NaN                      NaN        2002.0   \n",
       "\n",
       "   averageRating   numVotes  \\\n",
       "0            7.2  1022897.0   \n",
       "1            7.0     2303.0   \n",
       "2            5.6    66164.0   \n",
       "3            6.7      974.0   \n",
       "4            7.6    15255.0   \n",
       "5            NaN        NaN   \n",
       "6            NaN        NaN   \n",
       "7            5.3     7205.0   \n",
       "8            NaN        NaN   \n",
       "9            NaN        NaN   \n",
       "\n",
       "                                                                                                                                                                          GPE_entities  \\\n",
       "0                                                                                                                                                                            ['Panem']   \n",
       "1                                                                                                 ['New York City', 'Florida', 'New York', 'New York', 'Manhattan', 'Nyack', 'Nellie']   \n",
       "2                                                                                                                                   ['Jersey City', 'Roosevelt Island', 'Jersey City']   \n",
       "3                                                                                                                                                                         ['Brooklyn']   \n",
       "4                                                                                                                                                                       ['Millsville']   \n",
       "5                                                                                                                                                              ['Texas', 'New Mexico']   \n",
       "6  ['Israel', 'Cyprus', 'Palestine', 'Mandate Palestine', 'Famagusta', 'America', 'Palestine', 'Jerusalem', 'Abu Yesha', 'Gan Dafna', 'Israel', 'Jerusalem', 'Gan Dafna', 'Gan Dafna']   \n",
       "7                                                                                                                                                                                   []   \n",
       "8                                                                                                                                                                                   []   \n",
       "9                                                                                                                                                                                   []   \n",
       "\n",
       "                                                                                    GPE_US_frequencies  \\\n",
       "0                                                                                            Counter()   \n",
       "1  Counter({'New York': 2, 'New York City': 1, 'Florida': 1, 'Manhattan': 1, 'Nyack': 1, 'Nellie': 1})   \n",
       "2                                                   Counter({'Jersey City': 2, 'Roosevelt Island': 1})   \n",
       "3                                                                             Counter({'Brooklyn': 1})   \n",
       "4                                                                                            Counter()   \n",
       "5                                                               Counter({'Texas': 1, 'New Mexico': 1})   \n",
       "6                                                              Counter({'Palestine': 2, 'America': 1})   \n",
       "7                                                                                            Counter()   \n",
       "8                                                                                            Counter()   \n",
       "9                                                                                            Counter()   \n",
       "\n",
       "   Percentage_american_culture  \n",
       "0                     0.000000  \n",
       "1                     1.000000  \n",
       "2                     1.000000  \n",
       "3                     1.000000  \n",
       "4                     0.000000  \n",
       "5                     1.000000  \n",
       "6                     0.214286  \n",
       "7                     0.000000  \n",
       "8                     0.000000  \n",
       "9                     0.000000  "
      ]
     },
     "execution_count": 23,
     "metadata": {},
     "output_type": "execute_result"
    }
   ],
   "source": [
    "# Visualization of the result:\n",
    "df_GPE_us_only = pd.read_csv(\"data/NLP_datasets/us_only_movies_NLP_GPE.csv\", sep=',')\n",
    "\n",
    "# Percentages of american culture using GPE\n",
    "mean_american_culture_GPE_us_only_movies = df_GPE_us_only['Percentage_american_culture'].mean()*100\n",
    "\n",
    "# count the proportions of zeros\n",
    "df_GPE_us_only['Percentage_american_culture'] = pd.to_numeric(df_GPE_us_only['Percentage_american_culture']).astype('float64')\n",
    "proportion_0_percenatge_us = (len(df_GPE_us_only[df_GPE_us_only['Percentage_american_culture'] == 0.0])/len(df_GPE_us_only))*100\n",
    "\n",
    "print(f\"The mean american culture percentage for US-only produced movies using only GPE information is {mean_american_culture_GPE_us_only_movies:.2f} %.\")\n",
    "print(f\"The percentage of zero values on the US-only GPE dataset is: {proportion_0_percenatge_us:.2f} %.\")\n",
    "print(f\"Shape verification of the US-only GPE dataset: shape: {df_GPE_us_only.shape}\")\n",
    "\n",
    "df_GPE_us_only.head(10)\n",
    "# https://en.wikipedia.org/wiki/Palestine,_Texas"
   ]
  },
  {
   "cell_type": "markdown",
   "metadata": {},
   "source": [
    "#### 3) Processing the partially Non-US (RoW) produced movies"
   ]
  },
  {
   "cell_type": "code",
   "execution_count": 12,
   "metadata": {},
   "outputs": [
    {
     "name": "stdout",
     "output_type": "stream",
     "text": [
      "CUDA is available. Using GPU.\n",
      "Using Spacy English transformer pipeline.\n",
      "Processing starting.\n"
     ]
    },
    {
     "name": "stderr",
     "output_type": "stream",
     "text": [
      "Processing Summaries:   0%|          | 38/18105 [03:16<8:00:12,  1.59s/it]  "
     ]
    },
    {
     "name": "stdout",
     "output_type": "stream",
     "text": [
      "Rate-limited for location: Tokugawa. Retrying...\n"
     ]
    },
    {
     "name": "stderr",
     "output_type": "stream",
     "text": [
      "Processing Summaries:   0%|          | 75/18105 [04:13<4:22:48,  1.14it/s] "
     ]
    },
    {
     "name": "stdout",
     "output_type": "stream",
     "text": [
      "Rate-limited for location: Marakkesh. Retrying...Rate-limited for location: Latvia. Retrying...\n",
      "Rate-limited for location: New Delhi. Retrying...\n",
      "\n",
      "Rate-limited for location: Karachi. Retrying...\n"
     ]
    },
    {
     "name": "stderr",
     "output_type": "stream",
     "text": [
      "Processing Summaries:   6%|▌         | 1106/18105 [23:40<3:01:58,  1.56it/s]  "
     ]
    },
    {
     "name": "stdout",
     "output_type": "stream",
     "text": [
      "Rate-limited for location: Rusty Angel. Retrying...\n",
      "Rate-limited for location: Zalem. Retrying...\n",
      "Rate-limited for location: Zalem. Retrying...\n",
      "Rate-limited for location: Zalem. Retrying...\n"
     ]
    },
    {
     "name": "stderr",
     "output_type": "stream",
     "text": [
      "Processing Summaries:   7%|▋         | 1217/18105 [25:05<1:45:57,  2.66it/s] "
     ]
    },
    {
     "name": "stdout",
     "output_type": "stream",
     "text": [
      "Rate-limited for location: Drawerland. Retrying...\n"
     ]
    },
    {
     "name": "stderr",
     "output_type": "stream",
     "text": [
      "Processing Summaries:  19%|█▉        | 3520/18105 [1:05:36<16:24:14,  4.05s/it]"
     ]
    },
    {
     "name": "stdout",
     "output_type": "stream",
     "text": [
      "Rate-limited for location: Cape Colony. Retrying...Rate-limited for location: the Zulu Empire. Retrying...\n",
      "\n",
      "Rate-limited for location: Ulundi. Retrying...\n",
      "Rate-limited for location: Zululand. Retrying...\n"
     ]
    },
    {
     "name": "stderr",
     "output_type": "stream",
     "text": [
      "Processing Summaries:  26%|██▋       | 4771/18105 [1:22:54<1:14:52,  2.97it/s] "
     ]
    },
    {
     "name": "stdout",
     "output_type": "stream",
     "text": [
      "Rate-limited for location: Chirakkal. Retrying...\n",
      "Rate-limited for location: Chirakkal. Retrying...\n",
      "Rate-limited for location: Chirakkal. Retrying...\n",
      "Rate-limited for location: Chirakkal. Retrying...\n"
     ]
    },
    {
     "name": "stderr",
     "output_type": "stream",
     "text": [
      "Processing Summaries:  32%|███▏      | 5771/18105 [1:36:51<43:49,  4.69it/s]   "
     ]
    },
    {
     "name": "stdout",
     "output_type": "stream",
     "text": [
      "Rate-limited for location: Noto. Retrying...\n",
      "Rate-limited for location: Corrado. Retrying...\n",
      "Rate-limited for location: Messina. Retrying...\n",
      "Rate-limited for location: Noto. Retrying...\n"
     ]
    },
    {
     "name": "stderr",
     "output_type": "stream",
     "text": [
      "Processing Summaries:  32%|███▏      | 5815/18105 [1:37:27<1:43:57,  1.97it/s]"
     ]
    },
    {
     "name": "stdout",
     "output_type": "stream",
     "text": [
      "Rate-limited for location: Avaricum. Retrying...\n"
     ]
    },
    {
     "name": "stderr",
     "output_type": "stream",
     "text": [
      "Processing Summaries:  33%|███▎      | 5914/18105 [1:38:28<1:16:57,  2.64it/s]"
     ]
    },
    {
     "name": "stdout",
     "output_type": "stream",
     "text": [
      "Rate-limited for location: Kanimangalam. Retrying...\n"
     ]
    },
    {
     "name": "stderr",
     "output_type": "stream",
     "text": [
      "Processing Summaries:  33%|███▎      | 6023/18105 [1:42:59<8:01:19,  2.39s/it] "
     ]
    },
    {
     "name": "stdout",
     "output_type": "stream",
     "text": [
      "Rate-limited for location: Kaliniec. Retrying...\n",
      "Rate-limited for location: Kaliniec. Retrying...\n",
      "Rate-limited for location: Serbinow. Retrying...\n",
      "Rate-limited for location: Serbinow. Retrying...\n"
     ]
    },
    {
     "name": "stderr",
     "output_type": "stream",
     "text": [
      "Processing Summaries:  34%|███▍      | 6167/18105 [1:44:08<1:10:45,  2.81it/s] "
     ]
    },
    {
     "name": "stdout",
     "output_type": "stream",
     "text": [
      "Rate-limited for location: Mayah. Retrying...\n",
      "Rate-limited for location: Jilutia. Retrying...\n",
      "Rate-limited for location: Jelutia. Retrying...\n",
      "Rate-limited for location: Milazeria. Retrying...\n"
     ]
    },
    {
     "name": "stderr",
     "output_type": "stream",
     "text": [
      "Processing Summaries:  34%|███▍      | 6220/18105 [1:44:42<52:48,  3.75it/s]  "
     ]
    },
    {
     "name": "stdout",
     "output_type": "stream",
     "text": [
      "Rate-limited for location: Liang. Retrying...\n",
      "Rate-limited for location: Liang. Retrying...\n",
      "Rate-limited for location: Liang. Retrying...\n",
      "Rate-limited for location: Liang. Retrying...\n",
      "Rate-limited for location: Liang. Retrying...\n"
     ]
    },
    {
     "name": "stderr",
     "output_type": "stream",
     "text": [
      "Processing Summaries:  38%|███▊      | 6888/18105 [1:53:05<2:05:33,  1.49it/s] "
     ]
    },
    {
     "name": "stdout",
     "output_type": "stream",
     "text": [
      "Rate-limited for location: Pohjola. Retrying...\n",
      "Rate-limited for location: Louhi. Retrying...\n",
      "Rate-limited for location: Kalevala. Retrying...\n",
      "Rate-limited for location: Kalevala. Retrying...\n"
     ]
    },
    {
     "name": "stderr",
     "output_type": "stream",
     "text": [
      "Processing Summaries:  41%|████      | 7357/18105 [2:00:15<1:54:46,  1.56it/s] "
     ]
    },
    {
     "name": "stdout",
     "output_type": "stream",
     "text": [
      "Rate-limited for location: Dzau. Retrying...\n",
      "Rate-limited for location: Vladikavkaz. Retrying...\n",
      "Rate-limited for location: Dzau. Retrying...\n"
     ]
    },
    {
     "name": "stderr",
     "output_type": "stream",
     "text": [
      "Processing Summaries:  48%|████▊     | 8633/18105 [2:19:59<51:22,  3.07it/s]   "
     ]
    },
    {
     "name": "stdout",
     "output_type": "stream",
     "text": [
      "Rate-limited for location: Amare. Retrying...\n"
     ]
    },
    {
     "name": "stderr",
     "output_type": "stream",
     "text": [
      "Processing Summaries:  50%|████▉     | 8996/18105 [2:22:09<39:29,  3.84it/s]  "
     ]
    },
    {
     "name": "stdout",
     "output_type": "stream",
     "text": [
      "Rate-limited for location: Senji. Retrying...\n",
      "Rate-limited for location: Senji. Retrying...\n"
     ]
    },
    {
     "name": "stderr",
     "output_type": "stream",
     "text": [
      "Processing Summaries:  70%|███████   | 12748/18105 [3:12:54<30:15,  2.95it/s]   "
     ]
    },
    {
     "name": "stdout",
     "output_type": "stream",
     "text": [
      "Rate-limited for location: Waikato. Retrying...\n",
      "Rate-limited for location: Cromwell. Retrying...\n",
      "Rate-limited for location: Wanganui. Retrying...\n",
      "Rate-limited for location: Invercargill. Retrying...\n"
     ]
    },
    {
     "name": "stderr",
     "output_type": "stream",
     "text": [
      "Processing Summaries:  76%|███████▌  | 13723/18105 [3:25:39<35:45,  2.04it/s]   "
     ]
    },
    {
     "name": "stdout",
     "output_type": "stream",
     "text": [
      "Rate-limited for location: Guilala. Retrying...\n",
      "Rate-limited for location: Guilala. Retrying...\n",
      "Rate-limited for location: Guilala. Retrying...\n",
      "Rate-limited for location: Guilala. Retrying...\n"
     ]
    },
    {
     "name": "stderr",
     "output_type": "stream",
     "text": [
      "Processing Summaries:  83%|████████▎ | 15075/18105 [3:44:38<26:30,  1.91it/s]   "
     ]
    },
    {
     "name": "stdout",
     "output_type": "stream",
     "text": [
      "Rate-limited for location: Barugon. Retrying...\n",
      "Rate-limited for location: Barugon. Retrying...\n",
      "Rate-limited for location: Barugon. Retrying...\n",
      "Rate-limited for location: Barugon. Retrying...\n"
     ]
    },
    {
     "name": "stderr",
     "output_type": "stream",
     "text": [
      "Processing Summaries: 100%|██████████| 18105/18105 [4:20:46<00:00,  1.16it/s]  \n"
     ]
    },
    {
     "name": "stdout",
     "output_type": "stream",
     "text": [
      "Execution time: 260.79 minutes. NLP processing done.\n"
     ]
    }
   ],
   "source": [
    "if torch.cuda.is_available():\n",
    "    print(\"CUDA is available. Using GPU.\")\n",
    "    spacy.require_gpu()  # Enable GPU use for SpaCy\n",
    "    nlp = spacy.load(\"en_core_web_trf\")  # Use a more complex model leveraging transformers (cf. https://spacy.io/models/en/)\n",
    "    print(\"Using Spacy English transformer pipeline.\")\n",
    "else:\n",
    "    print(\"CUDA is NOT available. Using CPU.\")\n",
    "    nlp = spacy.load(\"en_core_web_sm\")\n",
    "    print(\"Using Spacy English pipeline optimized for CPU.\")\n",
    "\n",
    "# Copying the original datframe to avoid messing it up\n",
    "df_plots_RoW_movies_GPE = plot_summaries_RoW_movies.copy()\n",
    "\n",
    "start_time = time.time()\n",
    "print(\"Processing starting.\")\n",
    "\n",
    "# Call batch processing function with GPU\n",
    "extracted_results = extract_GPE_and_compute_US_frequencies_batch(df_plots_RoW_movies_GPE['Summary'].tolist())\n",
    "df_plots_RoW_movies_GPE['GPE_entities'] = [res[0] for res in extracted_results]\n",
    "df_plots_RoW_movies_GPE['GPE_US_frequencies'] = [res[1] for res in extracted_results]\n",
    "df_plots_RoW_movies_GPE['Percentage_american_culture'] = [res[2] for res in extracted_results]\n",
    "\n",
    "# Drop summaries and save results\n",
    "df_plots_RoW_movies_GPE = df_plots_RoW_movies_GPE.drop(columns=['Summary'])\n",
    "# filtered_df.drop(columns=['Summary'], inplace=True)\n",
    "df_plots_RoW_movies_GPE.to_csv(\"data/NLP_datasets/Row_movies_NLP_GPE.csv\", sep=',', encoding='utf-8', index=False, header=True)\n",
    "\n",
    "end_time = time.time()\n",
    "execution_time = end_time - start_time\n",
    "print(f\"Execution time: {execution_time/60:.2f} minutes. NLP processing done.\")"
   ]
  },
  {
   "cell_type": "markdown",
   "metadata": {},
   "source": [
    "Quick visualization of the results for Non-US produced movies"
   ]
  },
  {
   "cell_type": "code",
   "execution_count": 24,
   "metadata": {},
   "outputs": [
    {
     "name": "stdout",
     "output_type": "stream",
     "text": [
      "The mean american culture percentage for Non-US produced movies using only GPE information is 4.80 %.\n",
      "The percentage of zero values on the Non US-produced GPE dataset is: 91.42 %.\n"
     ]
    },
    {
     "data": {
      "text/html": [
       "<div>\n",
       "<style scoped>\n",
       "    .dataframe tbody tr th:only-of-type {\n",
       "        vertical-align: middle;\n",
       "    }\n",
       "\n",
       "    .dataframe tbody tr th {\n",
       "        vertical-align: top;\n",
       "    }\n",
       "\n",
       "    .dataframe thead th {\n",
       "        text-align: right;\n",
       "    }\n",
       "</style>\n",
       "<table border=\"1\" class=\"dataframe\">\n",
       "  <thead>\n",
       "    <tr style=\"text-align: right;\">\n",
       "      <th></th>\n",
       "      <th>title</th>\n",
       "      <th>box_office</th>\n",
       "      <th>genres_IMDB</th>\n",
       "      <th>release_year</th>\n",
       "      <th>averageRating</th>\n",
       "      <th>numVotes</th>\n",
       "      <th>GPE_entities</th>\n",
       "      <th>GPE_US_frequencies</th>\n",
       "      <th>Percentage_american_culture</th>\n",
       "    </tr>\n",
       "  </thead>\n",
       "  <tbody>\n",
       "    <tr>\n",
       "      <th>0</th>\n",
       "      <td>Taxi Blues</td>\n",
       "      <td>NaN</td>\n",
       "      <td>NaN</td>\n",
       "      <td>1990.0</td>\n",
       "      <td>NaN</td>\n",
       "      <td>NaN</td>\n",
       "      <td>[]</td>\n",
       "      <td>Counter()</td>\n",
       "      <td>0.0</td>\n",
       "    </tr>\n",
       "    <tr>\n",
       "      <th>1</th>\n",
       "      <td>Narasimham</td>\n",
       "      <td>NaN</td>\n",
       "      <td>Action,Drama</td>\n",
       "      <td>2000.0</td>\n",
       "      <td>7.6</td>\n",
       "      <td>2012.0</td>\n",
       "      <td>['Bharathapuzha', 'Kerala', 'Poovally']</td>\n",
       "      <td>Counter()</td>\n",
       "      <td>0.0</td>\n",
       "    </tr>\n",
       "    <tr>\n",
       "      <th>2</th>\n",
       "      <td>Up and Down</td>\n",
       "      <td>2705163.0</td>\n",
       "      <td>NaN</td>\n",
       "      <td>2004.0</td>\n",
       "      <td>NaN</td>\n",
       "      <td>NaN</td>\n",
       "      <td>[]</td>\n",
       "      <td>Counter()</td>\n",
       "      <td>0.0</td>\n",
       "    </tr>\n",
       "    <tr>\n",
       "      <th>3</th>\n",
       "      <td>Ghost In The Noonday Sun</td>\n",
       "      <td>NaN</td>\n",
       "      <td>NaN</td>\n",
       "      <td>1973.0</td>\n",
       "      <td>NaN</td>\n",
       "      <td>NaN</td>\n",
       "      <td>[]</td>\n",
       "      <td>Counter()</td>\n",
       "      <td>0.0</td>\n",
       "    </tr>\n",
       "    <tr>\n",
       "      <th>4</th>\n",
       "      <td>Ashes to Ashes</td>\n",
       "      <td>NaN</td>\n",
       "      <td>Thriller</td>\n",
       "      <td>1999.0</td>\n",
       "      <td>7.1</td>\n",
       "      <td>23.0</td>\n",
       "      <td>['London', 'England', 'London', 'France']</td>\n",
       "      <td>Counter()</td>\n",
       "      <td>0.0</td>\n",
       "    </tr>\n",
       "    <tr>\n",
       "      <th>5</th>\n",
       "      <td>The Rats of Tobruk</td>\n",
       "      <td>NaN</td>\n",
       "      <td>Action,Drama,War</td>\n",
       "      <td>1944.0</td>\n",
       "      <td>5.4</td>\n",
       "      <td>316.0</td>\n",
       "      <td>['Australia', 'Tobruk', 'New Guinea', 'Australia']</td>\n",
       "      <td>Counter()</td>\n",
       "      <td>0.0</td>\n",
       "    </tr>\n",
       "    <tr>\n",
       "      <th>6</th>\n",
       "      <td>Nee Sneham</td>\n",
       "      <td>NaN</td>\n",
       "      <td>NaN</td>\n",
       "      <td>2002.0</td>\n",
       "      <td>NaN</td>\n",
       "      <td>NaN</td>\n",
       "      <td>['Kolkata', 'Goa', 'Goa', 'Delhi', 'Delhi', 'Mumbai', 'Mumbai']</td>\n",
       "      <td>Counter()</td>\n",
       "      <td>0.0</td>\n",
       "    </tr>\n",
       "    <tr>\n",
       "      <th>7</th>\n",
       "      <td>Bhagwan Dada</td>\n",
       "      <td>NaN</td>\n",
       "      <td>NaN</td>\n",
       "      <td>1986.0</td>\n",
       "      <td>NaN</td>\n",
       "      <td>NaN</td>\n",
       "      <td>['Bhagwaan', 'Shantinagar', 'Shambu Dada’s', 'Shantinagar', 'Shantinagar', 'Bijli', 'Shantinagar', 'Shantinagar', 'Bhagwaan', 'Shantinagar', 'Shantinagar']</td>\n",
       "      <td>Counter()</td>\n",
       "      <td>0.0</td>\n",
       "    </tr>\n",
       "    <tr>\n",
       "      <th>8</th>\n",
       "      <td>Mr. &amp; Mrs. '55</td>\n",
       "      <td>NaN</td>\n",
       "      <td>Comedy,Musical,Romance</td>\n",
       "      <td>1955.0</td>\n",
       "      <td>7.1</td>\n",
       "      <td>688.0</td>\n",
       "      <td>['mumbai']</td>\n",
       "      <td>Counter()</td>\n",
       "      <td>0.0</td>\n",
       "    </tr>\n",
       "    <tr>\n",
       "      <th>9</th>\n",
       "      <td>Amici miei</td>\n",
       "      <td>NaN</td>\n",
       "      <td>Comedy,Drama</td>\n",
       "      <td>1975.0</td>\n",
       "      <td>7.9</td>\n",
       "      <td>8171.0</td>\n",
       "      <td>['Florence']</td>\n",
       "      <td>Counter()</td>\n",
       "      <td>0.0</td>\n",
       "    </tr>\n",
       "  </tbody>\n",
       "</table>\n",
       "</div>"
      ],
      "text/plain": [
       "                      title  box_office             genres_IMDB  release_year  \\\n",
       "0                Taxi Blues         NaN                     NaN        1990.0   \n",
       "1                Narasimham         NaN            Action,Drama        2000.0   \n",
       "2               Up and Down   2705163.0                     NaN        2004.0   \n",
       "3  Ghost In The Noonday Sun         NaN                     NaN        1973.0   \n",
       "4            Ashes to Ashes         NaN                Thriller        1999.0   \n",
       "5        The Rats of Tobruk         NaN        Action,Drama,War        1944.0   \n",
       "6                Nee Sneham         NaN                     NaN        2002.0   \n",
       "7              Bhagwan Dada         NaN                     NaN        1986.0   \n",
       "8            Mr. & Mrs. '55         NaN  Comedy,Musical,Romance        1955.0   \n",
       "9                Amici miei         NaN            Comedy,Drama        1975.0   \n",
       "\n",
       "   averageRating  numVotes  \\\n",
       "0            NaN       NaN   \n",
       "1            7.6    2012.0   \n",
       "2            NaN       NaN   \n",
       "3            NaN       NaN   \n",
       "4            7.1      23.0   \n",
       "5            5.4     316.0   \n",
       "6            NaN       NaN   \n",
       "7            NaN       NaN   \n",
       "8            7.1     688.0   \n",
       "9            7.9    8171.0   \n",
       "\n",
       "                                                                                                                                                  GPE_entities  \\\n",
       "0                                                                                                                                                           []   \n",
       "1                                                                                                                      ['Bharathapuzha', 'Kerala', 'Poovally']   \n",
       "2                                                                                                                                                           []   \n",
       "3                                                                                                                                                           []   \n",
       "4                                                                                                                    ['London', 'England', 'London', 'France']   \n",
       "5                                                                                                           ['Australia', 'Tobruk', 'New Guinea', 'Australia']   \n",
       "6                                                                                              ['Kolkata', 'Goa', 'Goa', 'Delhi', 'Delhi', 'Mumbai', 'Mumbai']   \n",
       "7  ['Bhagwaan', 'Shantinagar', 'Shambu Dada’s', 'Shantinagar', 'Shantinagar', 'Bijli', 'Shantinagar', 'Shantinagar', 'Bhagwaan', 'Shantinagar', 'Shantinagar']   \n",
       "8                                                                                                                                                   ['mumbai']   \n",
       "9                                                                                                                                                 ['Florence']   \n",
       "\n",
       "  GPE_US_frequencies  Percentage_american_culture  \n",
       "0          Counter()                          0.0  \n",
       "1          Counter()                          0.0  \n",
       "2          Counter()                          0.0  \n",
       "3          Counter()                          0.0  \n",
       "4          Counter()                          0.0  \n",
       "5          Counter()                          0.0  \n",
       "6          Counter()                          0.0  \n",
       "7          Counter()                          0.0  \n",
       "8          Counter()                          0.0  \n",
       "9          Counter()                          0.0  "
      ]
     },
     "execution_count": 24,
     "metadata": {},
     "output_type": "execute_result"
    }
   ],
   "source": [
    "df_GPE_RoW = pd.read_csv(\"data/NLP_datasets/Row_movies_NLP_GPE.csv\", sep=',') \n",
    "\n",
    "# Percentages of american culture using GPE\n",
    "mean_american_culture_GPE_RoW_movies = df_GPE_RoW['Percentage_american_culture'].mean()*100\n",
    "\n",
    "# count the proportions of zeros\n",
    "df_GPE_RoW['Percentage_american_culture'] = pd.to_numeric(df_GPE_RoW['Percentage_american_culture']).astype('float64')\n",
    "proportion_0_percenatge_RoW = (len(df_GPE_RoW[df_GPE_RoW['Percentage_american_culture'] == 0.0])/len(df_GPE_RoW))*100\n",
    "\n",
    "print(f\"The mean american culture percentage for Non-US produced movies using only GPE information is {mean_american_culture_GPE_RoW_movies:.2f} %.\")\n",
    "print(f\"The percentage of zero values on the Non US-produced GPE dataset is: {proportion_0_percenatge_RoW:.2f} %.\")\n",
    "\n",
    "df_GPE_RoW.head(10)"
   ]
  },
  {
   "cell_type": "markdown",
   "metadata": {},
   "source": [
    "#### Visualization of the mean american culture in each of the 3 datasets"
   ]
  },
  {
   "cell_type": "code",
   "execution_count": 25,
   "metadata": {},
   "outputs": [
    {
     "data": {
      "image/png": "[encoded data removed]",
      "text/plain": [
       "<Figure size 1200x800 with 1 Axes>"
      ]
     },
     "metadata": {},
     "output_type": "display_data"
    }
   ],
   "source": [
    "list_df_names = ['US-only produced movies', 'Partially US-produced movies' , 'Non-US produced movies (RoW)']\n",
    "list_df_GPE_results = [df_GPE_us_only, df_GPE_partially_us, df_GPE_RoW]\n",
    "mean_american_culture_GPE_results = []\n",
    "\n",
    "for name, df in zip(list_df_names, list_df_GPE_results):\n",
    "    mean_american_culture_GPE_results.append(df['Percentage_american_culture'].mean()*100)\n",
    "\n",
    "# plt.figure(figsize=(12,8))\n",
    "# plt.bar(list_df_names, mean_american_culture_GPE_results, edgecolor ='black', color = {'darkcyan', 'sandybrown', 'lightpink'})\n",
    "# plt.ylabel(\"Mean american culture using GPE [%]\")\n",
    "# plt.title(\"Mean amercian culture percentage in plots summaries using GPE only for producing movie country\")\n",
    "# plt.tight_layout()\n",
    "# # plt.savefig(\"data/plots_best/mean_american_culture_GPE.png\", dpi = 300, bbox_inches = 'tight')\n",
    "# plt.show()\n",
    "\n",
    "# Creation of a pandas dataframe in order to plot with Seaborn\n",
    "df_plotting_GPE_results = pd.DataFrame({\n",
    "    'Production Type': list_df_names,\n",
    "    'Mean American Culture [%]': mean_american_culture_GPE_results\n",
    "})\n",
    "\n",
    "# Plotting\n",
    "plt.figure(figsize=(12,8))\n",
    "sns.barplot(\n",
    "    data= df_plotting_GPE_results, \n",
    "    x='Production Type', \n",
    "    y='Mean American Culture [%]', \n",
    "    palette=['darkcyan', 'sandybrown', 'lightpink'], \n",
    "    errorbar= 'sd'\n",
    ")\n",
    "plt.ylabel(\"Mean American Culture [%]\")\n",
    "plt.title(\"Mean American Culture Percentage in plots summaries using GPE only for producing movie country\")\n",
    "plt.tight_layout()\n",
    "# plt.savefig(\"data/plots_best/mean_american_culture_GPE.png\", dpi = 300, bbox_inches = 'tight')\n",
    "plt.show()"
   ]
  },
  {
   "cell_type": "markdown",
   "metadata": {},
   "source": [
    "The above barplot illustrates the mean percentage of American culture using location only (i.e. GPE) depending on the movie's country of production. First, one notices that US-only produced movies show the highest percentage of American culture with 36.7 %. This means that movies produced in the US tends **on average** to tell a story that takes place at least partially in the US. Indeed, during the creation of this American percentage culture, the NLP pipeline implemented considers all locations present in the plot summary's text. Next, the partially US-produced show  **on average** a percentage of american culture of about 27 %, correponding to a 9 % decrease compared to US-only produced movies. One thus observes that films not strictly produced in the US tends to less put into spotlight the American culture (**voir si je m'emballe pas trop**). Finally, movies produced outside of the US show **on average** 4.8 % of american culture, a 22.2 % decrease compared to partially US-produced movies. Once again, movies produced outside of the US tends to tells stories that are nearly not happening in the US.\n",
    "\n",
    "Finally, these results must be interpreted with a critical perspective. First, many movies in the dataset do not contain any GPE (Geopolitical Entities) because they are purely fictional works. For example, *Star Wars*, *The Lord of the Rings*, and *Hunger Games* feature only imaginary locations that the NLP pipeline cannot and should not recognize. This limitation tends to lower the calculated average percentage of American cultural references. Indeed, the mean is sensitive to outliers and overrepresented values. Additionally, movies with plots spanning both real and fictional locations are considered as containing targeted references. A final limitation stems from the Geopy library itself. Some locations, such as Palestine, are incorrectly identified as being more likely in the US than in the Middle East ([Palestine, Texas, US](https://en.wikipedia.org/wiki/Palestine,_Texas)). Thus, while the Nominatim function of Geopy produces generally robust results, they are not entirely accurate.\n",
    "\n",
    "**implémenter en seaborn pour avoir les errors bars et les interpréter**"
   ]
  },
  {
   "cell_type": "markdown",
   "metadata": {},
   "source": [
    "## Assessing the american culture in plots summaries using the crafted amercian words lexicon\n",
    "The goal is here to scan once again the plot summaries of US-only, partially US- and Non-US produced movies but this time with a **handcrafted lexicon representing a realistic and robust sample of the american culture**. For more details about how this lexicon was created, please look at the notebook called *American_vocab.ipynb* (**pas oublier de modifer le nom au cas où on change le nom du notebook**).\n",
    "\n",
    "Once again, each of the 3 \"sub\"-dataframes are processed separately due to the consequent running time due to the use of the `en_core_web_trf` spacy NLP model (see below)."
   ]
  },
  {
   "cell_type": "markdown",
   "metadata": {},
   "source": [
    "Load the set of american words representing the lexicon created from Wikipedia data (see notebook *american_vocab.ipynb*) for more details"
   ]
  },
  {
   "cell_type": "code",
   "execution_count": 9,
   "metadata": {},
   "outputs": [
    {
     "name": "stdout",
     "output_type": "stream",
     "text": [
      "The lexicon of American words contains 200 words.\n",
      "The first 15 words of the lexicon are:\n",
      " ['route 66', 'bluegrass', 'hamburger', 'bald eagle', 'surfboard', 'country music', 'hillbilly', 'dodge', 'democrat', 'nascar', 'dugout', 'motor mouth', 'college football', 'donut', 'white house']\n"
     ]
    }
   ],
   "source": [
    "with open('data/NLP_datasets/NLP_US_lexicon/unique_us_words_set.pkl', 'rb') as f:\n",
    "    unique_us_words_set = pickle.load(f)\n",
    "\n",
    "print(f\"The lexicon of American words contains {len(unique_us_words_set)} words.\")\n",
    "print(f\"The first 15 words of the lexicon are:\\n {list(unique_us_words_set)[:15]}\") # transform the us lexicon into a list to allow for indexing operation"
   ]
  },
  {
   "cell_type": "markdown",
   "metadata": {},
   "source": [
    "Creating the function that will process all the data along with the lexicon"
   ]
  },
  {
   "cell_type": "code",
   "execution_count": 10,
   "metadata": {},
   "outputs": [],
   "source": [
    "def compute_US_lexicon_frequencies_batch(summaries, us_lexicon):\n",
    "    \"\"\"\n",
    "    Function that implement batch processing of plot summaries and extract typical american words frequencies using a pre-defined lexicon of typical american words. \n",
    "    If available on the machine running the notebook, CUDA is enabled for faster processing.\n",
    "    params: texts called 'summaries' and a set of US words containing the typical american words\n",
    "    returns: all the token entities and all the US token frequencies detected in the summary as a list\n",
    "    \"\"\"\n",
    "\n",
    "    # Verify if laptop running the script has a GPU and CUDA enabled\n",
    "    if torch.cuda.is_available():\n",
    "        print(\"CUDA is available. Using GPU.\")\n",
    "        spacy.require_gpu() # enable GPU use for Spacy, taken from: https://stackoverflow.com/questions/75355264/how-to-enable-cuda-gpu-acceleration-for-spacy-on-windows \n",
    "        nlp = spacy.load(\"en_core_web_trf\") # uses a more complex model leveraging transformers\n",
    "        print(\"Using Spacy English transformer pipeline.\")\n",
    "    else:\n",
    "        print(\"CUDA is NOT available. Using CPU.\")\n",
    "        nlp = spacy.load(\"en_core_web_sm\")\n",
    "        print(\"Using Spacy English pipeline optimized for CPU.\")\n",
    "\n",
    "    # Create PhraseMatcher for multi-word expressions\n",
    "    matcher = PhraseMatcher(nlp.vocab, attr=\"LOWER\")\n",
    "    patterns = [nlp.make_doc(phrase) for phrase in us_lexicon]\n",
    "    matcher.add(\"US_Culture\", patterns)\n",
    "\n",
    "    results = []\n",
    "    for doc in tqdm(nlp.pipe(summaries, batch_size=500), total=len(summaries), desc=\"Processing Summaries\"):\n",
    "        # Tokenize and filter tokens\n",
    "        summary_tokens = [\n",
    "            token.lemma_.lower() for token in doc\n",
    "            if not token.is_stop and token.is_alpha\n",
    "        ]\n",
    "\n",
    "        # Count total token frequencies\n",
    "        Tokens_frequencies_all = Counter(summary_tokens)\n",
    "\n",
    "        # Find matches for US lexicon terms\n",
    "        matches = matcher(doc)\n",
    "        matched_terms = [doc[start:end].text.lower() for _, start, end in matches]\n",
    "\n",
    "        # Count US lexicon term frequencies\n",
    "        Tokens_US_frequencies = Counter(matched_terms)\n",
    "\n",
    "        # Calculate percentage of US culture terms\n",
    "        total_tokens = sum(Tokens_frequencies_all.values())\n",
    "        Percentage_US_culture_lexicon = (\n",
    "            sum(Tokens_US_frequencies.values()) / total_tokens if total_tokens > 0 else 0\n",
    "        )\n",
    "\n",
    "        results.append((total_tokens, Tokens_US_frequencies, Percentage_US_culture_lexicon))\n",
    "    \n",
    "    return results"
   ]
  },
  {
   "cell_type": "markdown",
   "metadata": {},
   "source": [
    "**Disclaimer**: one must keep in mind that **the three below cells run** in about $\\color{red}{\\text{ 28 minutes, 2 hours and 23 minutes, 2 hours 07 minutes}}$ with the **Nvidia GeForce RTX 3050 Ti Laptop GPU** used here."
   ]
  },
  {
   "cell_type": "markdown",
   "metadata": {},
   "source": [
    "#### 1) Processing the partially US-produced movies"
   ]
  },
  {
   "cell_type": "code",
   "execution_count": 11,
   "metadata": {},
   "outputs": [
    {
     "name": "stdout",
     "output_type": "stream",
     "text": [
      "Processing starting.\n",
      "CUDA is available. Using GPU.\n",
      "Using Spacy English transformer pipeline.\n"
     ]
    },
    {
     "name": "stderr",
     "output_type": "stream",
     "text": [
      "Processing Summaries: 100%|██████████| 3015/3015 [27:58<00:00,  1.80it/s]  "
     ]
    },
    {
     "name": "stdout",
     "output_type": "stream",
     "text": [
      "Execution time: 28.04 minutes. NLP processing done.\n"
     ]
    },
    {
     "name": "stderr",
     "output_type": "stream",
     "text": [
      "\n"
     ]
    }
   ],
   "source": [
    "df_plots_us_partially_movies_US_lexicon = plot_summaries_us_partially_movies.copy()\n",
    "\n",
    "# Monitor the running time of this cell\n",
    "start_time = time.time()\n",
    "print(\"Processing starting.\")\n",
    "\n",
    "extracted_results = compute_US_lexicon_frequencies_batch(df_plots_us_partially_movies_US_lexicon['Summary'].tolist(), unique_us_words_set)\n",
    "df_plots_us_partially_movies_US_lexicon['Total_tokens'] = [res[0] for res in extracted_results]\n",
    "df_plots_us_partially_movies_US_lexicon['Tokens_US_frequencies'] = [res[1] for res in extracted_results]\n",
    "df_plots_us_partially_movies_US_lexicon['Percentage_american_culture_lexicon'] = [res[2] for res in extracted_results]\n",
    "\n",
    "df_us_partially_movies_NLP_lexicon = df_plots_us_partially_movies_US_lexicon.drop(columns=['Summary']) # keeping all the info of the original df, the new GPE columns and dropping the summaries for more clarity and later use\n",
    "\n",
    "df_us_partially_movies_NLP_lexicon.to_csv(\"data/NLP_datasets/NLP_US_lexicon/us_partially_movies_NLP_US_lexicon.csv\", sep=',', encoding='utf-8', index=False, header = True)# hard code the encoding to avoid anay problems as seen in the lecture\n",
    "\n",
    "end_time = time.time()\n",
    "execution_time = end_time - start_time\n",
    "print(f\"Execution time: {execution_time/60:.2f} minutes. NLP processing done.\")"
   ]
  },
  {
   "cell_type": "markdown",
   "metadata": {},
   "source": [
    "Quick visualization of the results for the partially US-produced movies"
   ]
  },
  {
   "cell_type": "code",
   "execution_count": 12,
   "metadata": {},
   "outputs": [
    {
     "name": "stdout",
     "output_type": "stream",
     "text": [
      "The mean american culture percentage for Non-US produced movies using only GPE information is 0.41 %.\n",
      "The percentage of zero values on the Non US-produced GPE dataset is: 63.85 %.\n"
     ]
    },
    {
     "data": {
      "text/html": [
       "<div>\n",
       "<style scoped>\n",
       "    .dataframe tbody tr th:only-of-type {\n",
       "        vertical-align: middle;\n",
       "    }\n",
       "\n",
       "    .dataframe tbody tr th {\n",
       "        vertical-align: top;\n",
       "    }\n",
       "\n",
       "    .dataframe thead th {\n",
       "        text-align: right;\n",
       "    }\n",
       "</style>\n",
       "<table border=\"1\" class=\"dataframe\">\n",
       "  <thead>\n",
       "    <tr style=\"text-align: right;\">\n",
       "      <th></th>\n",
       "      <th>title</th>\n",
       "      <th>box_office</th>\n",
       "      <th>genres_IMDB</th>\n",
       "      <th>release_year</th>\n",
       "      <th>averageRating</th>\n",
       "      <th>numVotes</th>\n",
       "      <th>Total_tokens</th>\n",
       "      <th>Tokens_US_frequencies</th>\n",
       "      <th>Percentage_american_culture_lexicon</th>\n",
       "    </tr>\n",
       "  </thead>\n",
       "  <tbody>\n",
       "    <tr>\n",
       "      <th>0</th>\n",
       "      <td>A Cry in the Dark</td>\n",
       "      <td>6908797.0</td>\n",
       "      <td>NaN</td>\n",
       "      <td>1988.0</td>\n",
       "      <td>NaN</td>\n",
       "      <td>NaN</td>\n",
       "      <td>206</td>\n",
       "      <td>Counter({'barbecue': 1})</td>\n",
       "      <td>0.004854</td>\n",
       "    </tr>\n",
       "    <tr>\n",
       "      <th>1</th>\n",
       "      <td>End Game</td>\n",
       "      <td>NaN</td>\n",
       "      <td>Action,Thriller</td>\n",
       "      <td>2006.0</td>\n",
       "      <td>5.1</td>\n",
       "      <td>5745.0</td>\n",
       "      <td>177</td>\n",
       "      <td>Counter({'president': 8})</td>\n",
       "      <td>0.045198</td>\n",
       "    </tr>\n",
       "    <tr>\n",
       "      <th>2</th>\n",
       "      <td>Come Back, Africa</td>\n",
       "      <td>NaN</td>\n",
       "      <td>NaN</td>\n",
       "      <td>1960.0</td>\n",
       "      <td>NaN</td>\n",
       "      <td>NaN</td>\n",
       "      <td>206</td>\n",
       "      <td>Counter()</td>\n",
       "      <td>0.000000</td>\n",
       "    </tr>\n",
       "    <tr>\n",
       "      <th>3</th>\n",
       "      <td>Kehtaa Hai Dil Baar Baar</td>\n",
       "      <td>NaN</td>\n",
       "      <td>Comedy,Drama,Romance</td>\n",
       "      <td>2002.0</td>\n",
       "      <td>4.7</td>\n",
       "      <td>204.0</td>\n",
       "      <td>86</td>\n",
       "      <td>Counter()</td>\n",
       "      <td>0.000000</td>\n",
       "    </tr>\n",
       "    <tr>\n",
       "      <th>4</th>\n",
       "      <td>Pieces</td>\n",
       "      <td>2032311.0</td>\n",
       "      <td>NaN</td>\n",
       "      <td>1982.0</td>\n",
       "      <td>NaN</td>\n",
       "      <td>NaN</td>\n",
       "      <td>295</td>\n",
       "      <td>Counter({'skateboard': 1, 'campus': 1})</td>\n",
       "      <td>0.006780</td>\n",
       "    </tr>\n",
       "    <tr>\n",
       "      <th>5</th>\n",
       "      <td>The Good Life</td>\n",
       "      <td>NaN</td>\n",
       "      <td>Comedy,Drama</td>\n",
       "      <td>2007.0</td>\n",
       "      <td>6.4</td>\n",
       "      <td>2352.0</td>\n",
       "      <td>24</td>\n",
       "      <td>Counter()</td>\n",
       "      <td>0.000000</td>\n",
       "    </tr>\n",
       "    <tr>\n",
       "      <th>6</th>\n",
       "      <td>Eastern Promises</td>\n",
       "      <td>17266000.0</td>\n",
       "      <td>NaN</td>\n",
       "      <td>2007.0</td>\n",
       "      <td>NaN</td>\n",
       "      <td>NaN</td>\n",
       "      <td>287</td>\n",
       "      <td>Counter()</td>\n",
       "      <td>0.000000</td>\n",
       "    </tr>\n",
       "    <tr>\n",
       "      <th>7</th>\n",
       "      <td>Wait Until Spring, Bandini</td>\n",
       "      <td>NaN</td>\n",
       "      <td>Drama</td>\n",
       "      <td>1989.0</td>\n",
       "      <td>6.2</td>\n",
       "      <td>754.0</td>\n",
       "      <td>28</td>\n",
       "      <td>Counter()</td>\n",
       "      <td>0.000000</td>\n",
       "    </tr>\n",
       "    <tr>\n",
       "      <th>8</th>\n",
       "      <td>Sophie's Choice</td>\n",
       "      <td>30036000.0</td>\n",
       "      <td>Drama,Romance</td>\n",
       "      <td>1982.0</td>\n",
       "      <td>7.5</td>\n",
       "      <td>53987.0</td>\n",
       "      <td>196</td>\n",
       "      <td>Counter()</td>\n",
       "      <td>0.000000</td>\n",
       "    </tr>\n",
       "    <tr>\n",
       "      <th>9</th>\n",
       "      <td>Until Death</td>\n",
       "      <td>NaN</td>\n",
       "      <td>Action,Crime,Drama</td>\n",
       "      <td>2007.0</td>\n",
       "      <td>5.7</td>\n",
       "      <td>10503.0</td>\n",
       "      <td>325</td>\n",
       "      <td>Counter()</td>\n",
       "      <td>0.000000</td>\n",
       "    </tr>\n",
       "  </tbody>\n",
       "</table>\n",
       "</div>"
      ],
      "text/plain": [
       "                        title  box_office           genres_IMDB  release_year  \\\n",
       "0           A Cry in the Dark   6908797.0                   NaN        1988.0   \n",
       "1                    End Game         NaN       Action,Thriller        2006.0   \n",
       "2           Come Back, Africa         NaN                   NaN        1960.0   \n",
       "3    Kehtaa Hai Dil Baar Baar         NaN  Comedy,Drama,Romance        2002.0   \n",
       "4                      Pieces   2032311.0                   NaN        1982.0   \n",
       "5               The Good Life         NaN          Comedy,Drama        2007.0   \n",
       "6            Eastern Promises  17266000.0                   NaN        2007.0   \n",
       "7  Wait Until Spring, Bandini         NaN                 Drama        1989.0   \n",
       "8             Sophie's Choice  30036000.0         Drama,Romance        1982.0   \n",
       "9                 Until Death         NaN    Action,Crime,Drama        2007.0   \n",
       "\n",
       "   averageRating  numVotes  Total_tokens  \\\n",
       "0            NaN       NaN           206   \n",
       "1            5.1    5745.0           177   \n",
       "2            NaN       NaN           206   \n",
       "3            4.7     204.0            86   \n",
       "4            NaN       NaN           295   \n",
       "5            6.4    2352.0            24   \n",
       "6            NaN       NaN           287   \n",
       "7            6.2     754.0            28   \n",
       "8            7.5   53987.0           196   \n",
       "9            5.7   10503.0           325   \n",
       "\n",
       "                     Tokens_US_frequencies  \\\n",
       "0                 Counter({'barbecue': 1})   \n",
       "1                Counter({'president': 8})   \n",
       "2                                Counter()   \n",
       "3                                Counter()   \n",
       "4  Counter({'skateboard': 1, 'campus': 1})   \n",
       "5                                Counter()   \n",
       "6                                Counter()   \n",
       "7                                Counter()   \n",
       "8                                Counter()   \n",
       "9                                Counter()   \n",
       "\n",
       "   Percentage_american_culture_lexicon  \n",
       "0                             0.004854  \n",
       "1                             0.045198  \n",
       "2                             0.000000  \n",
       "3                             0.000000  \n",
       "4                             0.006780  \n",
       "5                             0.000000  \n",
       "6                             0.000000  \n",
       "7                             0.000000  \n",
       "8                             0.000000  \n",
       "9                             0.000000  "
      ]
     },
     "execution_count": 12,
     "metadata": {},
     "output_type": "execute_result"
    }
   ],
   "source": [
    "df_US_lexicon_us_partially = pd.read_csv(\"data/NLP_datasets/NLP_US_lexicon/us_partially_movies_NLP_US_lexicon.csv\", sep=',') \n",
    "\n",
    "# Percentages of american culture using GPE\n",
    "mean_american_culture_US_lexicon_us_partially_movies = df_US_lexicon_us_partially ['Percentage_american_culture_lexicon'].mean()*100\n",
    "\n",
    "# count the proportions of zeros\n",
    "df_US_lexicon_us_partially['Percentage_american_culture_lexicon'] = pd.to_numeric(df_US_lexicon_us_partially['Percentage_american_culture_lexicon']).astype('float64')\n",
    "proportion_0_percentage_us_partially_US_lexicon = (len(df_US_lexicon_us_partially [df_US_lexicon_us_partially['Percentage_american_culture_lexicon'] == 0.0])/len(df_US_lexicon_us_partially )*100)\n",
    "\n",
    "print(f\"The mean american culture percentage for Non-US produced movies using only GPE information is {mean_american_culture_US_lexicon_us_partially_movies:.2f} %.\")\n",
    "print(f\"The percentage of zero values on the Non US-produced GPE dataset is: {proportion_0_percentage_us_partially_US_lexicon:.2f} %.\")\n",
    "\n",
    "df_US_lexicon_us_partially.head(10)"
   ]
  },
  {
   "cell_type": "markdown",
   "metadata": {},
   "source": [
    "#### 2) Processing the US-only produced movies"
   ]
  },
  {
   "cell_type": "code",
   "execution_count": 13,
   "metadata": {},
   "outputs": [
    {
     "name": "stdout",
     "output_type": "stream",
     "text": [
      "Processing starting.\n",
      "CUDA is available. Using GPU.\n",
      "Using Spacy English transformer pipeline.\n"
     ]
    },
    {
     "name": "stderr",
     "output_type": "stream",
     "text": [
      "Processing Summaries: 100%|██████████| 17776/17776 [2:23:50<00:00,  2.06it/s]  \n"
     ]
    },
    {
     "name": "stdout",
     "output_type": "stream",
     "text": [
      "Execution time: 143.92 minutes. NLP processing done.\n"
     ]
    }
   ],
   "source": [
    "df_plots_us_only_movies_US_lexicon = plot_summaries_us_movies.copy()\n",
    "\n",
    "# Monitor the running time of this cell\n",
    "start_time = time.time()\n",
    "print(\"Processing starting.\")\n",
    "\n",
    "extracted_results = compute_US_lexicon_frequencies_batch(df_plots_us_only_movies_US_lexicon['Summary'].tolist(), unique_us_words_set)\n",
    "df_plots_us_only_movies_US_lexicon['Total_tokens']= [res[0] for res in extracted_results]\n",
    "df_plots_us_only_movies_US_lexicon['Tokens_US_frequencies'] = [res[1] for res in extracted_results]\n",
    "df_plots_us_only_movies_US_lexicon['Percentage_american_culture_lexicon'] = [res[2] for res in extracted_results]\n",
    "\n",
    "df_plots_us_only_movies_US_lexicon = df_plots_us_only_movies_US_lexicon.drop(columns=['Summary']) # keeping all the info of the original df, the new GPE columns and dropping the summaries for more clarity and later use\n",
    "\n",
    "df_plots_us_only_movies_US_lexicon.to_csv(\"data/NLP_datasets/NLP_US_lexicon/us_only_movies_NLP_US_lexicon.csv\", sep=',', encoding='utf-8', index=False, header = True)# hard code the encoding to avoid anay problems as seen in the lecture\n",
    "\n",
    "end_time = time.time()\n",
    "execution_time = end_time - start_time\n",
    "print(f\"Execution time: {execution_time/60:.2f} minutes. NLP processing done.\")"
   ]
  },
  {
   "cell_type": "markdown",
   "metadata": {},
   "source": [
    "Quick visualization of the results for the US-only produced movies"
   ]
  },
  {
   "cell_type": "code",
   "execution_count": 13,
   "metadata": {},
   "outputs": [
    {
     "name": "stdout",
     "output_type": "stream",
     "text": [
      "The mean american culture percentage for Non-US produced movies using only GPE information is 0.59 %.\n",
      "The percentage of zero values on the Non US-produced GPE dataset is: 63.84 %.\n"
     ]
    },
    {
     "data": {
      "text/html": [
       "<div>\n",
       "<style scoped>\n",
       "    .dataframe tbody tr th:only-of-type {\n",
       "        vertical-align: middle;\n",
       "    }\n",
       "\n",
       "    .dataframe tbody tr th {\n",
       "        vertical-align: top;\n",
       "    }\n",
       "\n",
       "    .dataframe thead th {\n",
       "        text-align: right;\n",
       "    }\n",
       "</style>\n",
       "<table border=\"1\" class=\"dataframe\">\n",
       "  <thead>\n",
       "    <tr style=\"text-align: right;\">\n",
       "      <th></th>\n",
       "      <th>title</th>\n",
       "      <th>box_office</th>\n",
       "      <th>genres_IMDB</th>\n",
       "      <th>release_year</th>\n",
       "      <th>averageRating</th>\n",
       "      <th>numVotes</th>\n",
       "      <th>Total_tokens</th>\n",
       "      <th>Tokens_US_frequencies</th>\n",
       "      <th>Percentage_american_culture_lexicon</th>\n",
       "    </tr>\n",
       "  </thead>\n",
       "  <tbody>\n",
       "    <tr>\n",
       "      <th>0</th>\n",
       "      <td>The Hunger Games</td>\n",
       "      <td>686533290.0</td>\n",
       "      <td>Action,Adventure,Sci-Fi</td>\n",
       "      <td>2012.0</td>\n",
       "      <td>7.2</td>\n",
       "      <td>1022897.0</td>\n",
       "      <td>410</td>\n",
       "      <td>Counter({'president': 2})</td>\n",
       "      <td>0.004878</td>\n",
       "    </tr>\n",
       "    <tr>\n",
       "      <th>1</th>\n",
       "      <td>The Lemon Drop Kid</td>\n",
       "      <td>2300000.0</td>\n",
       "      <td>Comedy,Crime,Music</td>\n",
       "      <td>1951.0</td>\n",
       "      <td>7.0</td>\n",
       "      <td>2303.0</td>\n",
       "      <td>438</td>\n",
       "      <td>Counter()</td>\n",
       "      <td>0.000000</td>\n",
       "    </tr>\n",
       "    <tr>\n",
       "      <th>2</th>\n",
       "      <td>Dark Water</td>\n",
       "      <td>49483352.0</td>\n",
       "      <td>Drama,Horror,Mystery</td>\n",
       "      <td>2005.0</td>\n",
       "      <td>5.6</td>\n",
       "      <td>66164.0</td>\n",
       "      <td>375</td>\n",
       "      <td>Counter()</td>\n",
       "      <td>0.000000</td>\n",
       "    </tr>\n",
       "    <tr>\n",
       "      <th>3</th>\n",
       "      <td>Sing</td>\n",
       "      <td>2260616.0</td>\n",
       "      <td>Drama,Musical</td>\n",
       "      <td>1989.0</td>\n",
       "      <td>6.7</td>\n",
       "      <td>974.0</td>\n",
       "      <td>296</td>\n",
       "      <td>Counter({'diner': 3, 'high school': 1})</td>\n",
       "      <td>0.013514</td>\n",
       "    </tr>\n",
       "    <tr>\n",
       "      <th>4</th>\n",
       "      <td>Meet John Doe</td>\n",
       "      <td>NaN</td>\n",
       "      <td>Comedy,Drama,Romance</td>\n",
       "      <td>1941.0</td>\n",
       "      <td>7.6</td>\n",
       "      <td>15255.0</td>\n",
       "      <td>290</td>\n",
       "      <td>Counter({'baseball': 1, 'diner': 1})</td>\n",
       "      <td>0.006897</td>\n",
       "    </tr>\n",
       "    <tr>\n",
       "      <th>5</th>\n",
       "      <td>Husband for Hire</td>\n",
       "      <td>NaN</td>\n",
       "      <td>NaN</td>\n",
       "      <td>2008.0</td>\n",
       "      <td>NaN</td>\n",
       "      <td>NaN</td>\n",
       "      <td>182</td>\n",
       "      <td>Counter()</td>\n",
       "      <td>0.000000</td>\n",
       "    </tr>\n",
       "    <tr>\n",
       "      <th>6</th>\n",
       "      <td>Exodus</td>\n",
       "      <td>NaN</td>\n",
       "      <td>NaN</td>\n",
       "      <td>1960.0</td>\n",
       "      <td>NaN</td>\n",
       "      <td>NaN</td>\n",
       "      <td>409</td>\n",
       "      <td>Counter()</td>\n",
       "      <td>0.000000</td>\n",
       "    </tr>\n",
       "    <tr>\n",
       "      <th>7</th>\n",
       "      <td>House Party 2</td>\n",
       "      <td>19438638.0</td>\n",
       "      <td>Comedy,Drama,Music</td>\n",
       "      <td>1991.0</td>\n",
       "      <td>5.3</td>\n",
       "      <td>7205.0</td>\n",
       "      <td>683</td>\n",
       "      <td>Counter({'campus': 5})</td>\n",
       "      <td>0.007321</td>\n",
       "    </tr>\n",
       "    <tr>\n",
       "      <th>8</th>\n",
       "      <td>Charlie Chan's Secret</td>\n",
       "      <td>NaN</td>\n",
       "      <td>NaN</td>\n",
       "      <td>1936.0</td>\n",
       "      <td>NaN</td>\n",
       "      <td>NaN</td>\n",
       "      <td>56</td>\n",
       "      <td>Counter()</td>\n",
       "      <td>0.000000</td>\n",
       "    </tr>\n",
       "    <tr>\n",
       "      <th>9</th>\n",
       "      <td>The Biggest Fan</td>\n",
       "      <td>NaN</td>\n",
       "      <td>NaN</td>\n",
       "      <td>2002.0</td>\n",
       "      <td>NaN</td>\n",
       "      <td>NaN</td>\n",
       "      <td>88</td>\n",
       "      <td>Counter({'high school': 2, 'prom': 1})</td>\n",
       "      <td>0.034091</td>\n",
       "    </tr>\n",
       "  </tbody>\n",
       "</table>\n",
       "</div>"
      ],
      "text/plain": [
       "                   title   box_office              genres_IMDB  release_year  \\\n",
       "0       The Hunger Games  686533290.0  Action,Adventure,Sci-Fi        2012.0   \n",
       "1     The Lemon Drop Kid    2300000.0       Comedy,Crime,Music        1951.0   \n",
       "2             Dark Water   49483352.0     Drama,Horror,Mystery        2005.0   \n",
       "3                   Sing    2260616.0            Drama,Musical        1989.0   \n",
       "4          Meet John Doe          NaN     Comedy,Drama,Romance        1941.0   \n",
       "5       Husband for Hire          NaN                      NaN        2008.0   \n",
       "6                 Exodus          NaN                      NaN        1960.0   \n",
       "7          House Party 2   19438638.0       Comedy,Drama,Music        1991.0   \n",
       "8  Charlie Chan's Secret          NaN                      NaN        1936.0   \n",
       "9        The Biggest Fan          NaN                      NaN        2002.0   \n",
       "\n",
       "   averageRating   numVotes  Total_tokens  \\\n",
       "0            7.2  1022897.0           410   \n",
       "1            7.0     2303.0           438   \n",
       "2            5.6    66164.0           375   \n",
       "3            6.7      974.0           296   \n",
       "4            7.6    15255.0           290   \n",
       "5            NaN        NaN           182   \n",
       "6            NaN        NaN           409   \n",
       "7            5.3     7205.0           683   \n",
       "8            NaN        NaN            56   \n",
       "9            NaN        NaN            88   \n",
       "\n",
       "                     Tokens_US_frequencies  \\\n",
       "0                Counter({'president': 2})   \n",
       "1                                Counter()   \n",
       "2                                Counter()   \n",
       "3  Counter({'diner': 3, 'high school': 1})   \n",
       "4     Counter({'baseball': 1, 'diner': 1})   \n",
       "5                                Counter()   \n",
       "6                                Counter()   \n",
       "7                   Counter({'campus': 5})   \n",
       "8                                Counter()   \n",
       "9   Counter({'high school': 2, 'prom': 1})   \n",
       "\n",
       "   Percentage_american_culture_lexicon  \n",
       "0                             0.004878  \n",
       "1                             0.000000  \n",
       "2                             0.000000  \n",
       "3                             0.013514  \n",
       "4                             0.006897  \n",
       "5                             0.000000  \n",
       "6                             0.000000  \n",
       "7                             0.007321  \n",
       "8                             0.000000  \n",
       "9                             0.034091  "
      ]
     },
     "execution_count": 13,
     "metadata": {},
     "output_type": "execute_result"
    }
   ],
   "source": [
    "df_US_lexicon_us_only = pd.read_csv(\"data/NLP_datasets/NLP_US_lexicon/us_only_movies_NLP_US_lexicon.csv\", sep=',') \n",
    "\n",
    "# Percentages of american culture using GPE\n",
    "mean_american_culture_US_lexicon_us_only_movies = df_US_lexicon_us_only['Percentage_american_culture_lexicon'].mean()*100\n",
    "\n",
    "# count the proportions of zeros\n",
    "df_US_lexicon_us_only['Percentage_american_culture_lexicon'] = pd.to_numeric(df_US_lexicon_us_only['Percentage_american_culture_lexicon']).astype('float64')\n",
    "proportion_0_percentage_us_only_US_lexicon = (len(df_US_lexicon_us_only[df_US_lexicon_us_only['Percentage_american_culture_lexicon'] == 0.0])/len(df_US_lexicon_us_only)*100)\n",
    "\n",
    "print(f\"The mean american culture percentage for Non-US produced movies using only GPE information is {mean_american_culture_US_lexicon_us_only_movies:.2f} %.\")\n",
    "print(f\"The percentage of zero values on the Non US-produced GPE dataset is: {proportion_0_percentage_us_only_US_lexicon:.2f} %.\")\n",
    "\n",
    "df_US_lexicon_us_only.head(10)"
   ]
  },
  {
   "cell_type": "markdown",
   "metadata": {},
   "source": [
    "#### 3) Processing the Non US-produced movies (RoW)"
   ]
  },
  {
   "cell_type": "code",
   "execution_count": 12,
   "metadata": {},
   "outputs": [
    {
     "name": "stdout",
     "output_type": "stream",
     "text": [
      "Processing starting.\n",
      "CUDA is available. Using GPU.\n",
      "Using Spacy English transformer pipeline.\n"
     ]
    },
    {
     "name": "stderr",
     "output_type": "stream",
     "text": [
      "Processing Summaries: 100%|██████████| 18105/18105 [2:07:07<00:00,  2.37it/s]  \n"
     ]
    },
    {
     "name": "stdout",
     "output_type": "stream",
     "text": [
      "Execution time: 127.21 minutes. NLP processing done.\n"
     ]
    }
   ],
   "source": [
    "df_plots_RoW_movies_US_lexicon = plot_summaries_RoW_movies.copy()\n",
    "\n",
    "# Monitor the running time of this cell\n",
    "start_time = time.time()\n",
    "print(\"Processing starting.\")\n",
    "\n",
    "extracted_results = compute_US_lexicon_frequencies_batch(df_plots_RoW_movies_US_lexicon['Summary'].tolist(), unique_us_words_set)\n",
    "df_plots_RoW_movies_US_lexicon['Total_tokens'] = [res[0] for res in extracted_results]\n",
    "df_plots_RoW_movies_US_lexicon['Tokens_US_frequencies'] = [res[1] for res in extracted_results]\n",
    "df_plots_RoW_movies_US_lexicon['Percentage_american_culture_lexicon'] = [res[2] for res in extracted_results]\n",
    "\n",
    "df_plots_RoW_movies_US_lexicon = df_plots_RoW_movies_US_lexicon.drop(columns=['Summary']) # keeping all the info of the original df, the new GPE columns and dropping the summaries for more clarity and later use\n",
    "\n",
    "df_plots_RoW_movies_US_lexicon.to_csv(\"data/NLP_datasets/NLP_US_lexicon/RoW_movies_NLP_US_lexicon.csv\", sep=',', encoding='utf-8', index=False, header = True)# hard code the encoding to avoid anay problems as seen in the lecture\n",
    "\n",
    "end_time = time.time()\n",
    "execution_time = end_time - start_time\n",
    "print(f\"Execution time: {execution_time/60:.2f} minutes. NLP processing done.\")"
   ]
  },
  {
   "cell_type": "markdown",
   "metadata": {},
   "source": [
    "Quick visualization of the results for the Non-US produced movies"
   ]
  },
  {
   "cell_type": "code",
   "execution_count": 14,
   "metadata": {},
   "outputs": [
    {
     "name": "stdout",
     "output_type": "stream",
     "text": [
      "The mean american culture percentage for Non-US produced movies using only GPE information is 0.25 %.\n",
      "The percentage of zero values on the Non US-produced GPE dataset is: 82.79 %.\n"
     ]
    },
    {
     "data": {
      "text/html": [
       "<div>\n",
       "<style scoped>\n",
       "    .dataframe tbody tr th:only-of-type {\n",
       "        vertical-align: middle;\n",
       "    }\n",
       "\n",
       "    .dataframe tbody tr th {\n",
       "        vertical-align: top;\n",
       "    }\n",
       "\n",
       "    .dataframe thead th {\n",
       "        text-align: right;\n",
       "    }\n",
       "</style>\n",
       "<table border=\"1\" class=\"dataframe\">\n",
       "  <thead>\n",
       "    <tr style=\"text-align: right;\">\n",
       "      <th></th>\n",
       "      <th>title</th>\n",
       "      <th>box_office</th>\n",
       "      <th>genres_IMDB</th>\n",
       "      <th>release_year</th>\n",
       "      <th>averageRating</th>\n",
       "      <th>numVotes</th>\n",
       "      <th>Total_tokens</th>\n",
       "      <th>Tokens_US_frequencies</th>\n",
       "      <th>Percentage_american_culture_lexicon</th>\n",
       "    </tr>\n",
       "  </thead>\n",
       "  <tbody>\n",
       "    <tr>\n",
       "      <th>0</th>\n",
       "      <td>Taxi Blues</td>\n",
       "      <td>NaN</td>\n",
       "      <td>NaN</td>\n",
       "      <td>1990.0</td>\n",
       "      <td>NaN</td>\n",
       "      <td>NaN</td>\n",
       "      <td>16</td>\n",
       "      <td>Counter()</td>\n",
       "      <td>0.000000</td>\n",
       "    </tr>\n",
       "    <tr>\n",
       "      <th>1</th>\n",
       "      <td>Narasimham</td>\n",
       "      <td>NaN</td>\n",
       "      <td>Action,Drama</td>\n",
       "      <td>2000.0</td>\n",
       "      <td>7.6</td>\n",
       "      <td>2012.0</td>\n",
       "      <td>270</td>\n",
       "      <td>Counter({'supreme court': 1})</td>\n",
       "      <td>0.003704</td>\n",
       "    </tr>\n",
       "    <tr>\n",
       "      <th>2</th>\n",
       "      <td>Up and Down</td>\n",
       "      <td>2705163.0</td>\n",
       "      <td>NaN</td>\n",
       "      <td>2004.0</td>\n",
       "      <td>NaN</td>\n",
       "      <td>NaN</td>\n",
       "      <td>50</td>\n",
       "      <td>Counter()</td>\n",
       "      <td>0.000000</td>\n",
       "    </tr>\n",
       "    <tr>\n",
       "      <th>3</th>\n",
       "      <td>Ghost In The Noonday Sun</td>\n",
       "      <td>NaN</td>\n",
       "      <td>NaN</td>\n",
       "      <td>1973.0</td>\n",
       "      <td>NaN</td>\n",
       "      <td>NaN</td>\n",
       "      <td>32</td>\n",
       "      <td>Counter()</td>\n",
       "      <td>0.000000</td>\n",
       "    </tr>\n",
       "    <tr>\n",
       "      <th>4</th>\n",
       "      <td>Ashes to Ashes</td>\n",
       "      <td>NaN</td>\n",
       "      <td>Thriller</td>\n",
       "      <td>1999.0</td>\n",
       "      <td>7.1</td>\n",
       "      <td>23.0</td>\n",
       "      <td>217</td>\n",
       "      <td>Counter({'independence': 1})</td>\n",
       "      <td>0.004608</td>\n",
       "    </tr>\n",
       "    <tr>\n",
       "      <th>5</th>\n",
       "      <td>The Rats of Tobruk</td>\n",
       "      <td>NaN</td>\n",
       "      <td>Action,Drama,War</td>\n",
       "      <td>1944.0</td>\n",
       "      <td>5.4</td>\n",
       "      <td>316.0</td>\n",
       "      <td>82</td>\n",
       "      <td>Counter()</td>\n",
       "      <td>0.000000</td>\n",
       "    </tr>\n",
       "    <tr>\n",
       "      <th>6</th>\n",
       "      <td>Nee Sneham</td>\n",
       "      <td>NaN</td>\n",
       "      <td>NaN</td>\n",
       "      <td>2002.0</td>\n",
       "      <td>NaN</td>\n",
       "      <td>NaN</td>\n",
       "      <td>212</td>\n",
       "      <td>Counter()</td>\n",
       "      <td>0.000000</td>\n",
       "    </tr>\n",
       "    <tr>\n",
       "      <th>7</th>\n",
       "      <td>Bhagwan Dada</td>\n",
       "      <td>NaN</td>\n",
       "      <td>NaN</td>\n",
       "      <td>1986.0</td>\n",
       "      <td>NaN</td>\n",
       "      <td>NaN</td>\n",
       "      <td>808</td>\n",
       "      <td>Counter({'pledge': 1})</td>\n",
       "      <td>0.001238</td>\n",
       "    </tr>\n",
       "    <tr>\n",
       "      <th>8</th>\n",
       "      <td>Mr. &amp; Mrs. '55</td>\n",
       "      <td>NaN</td>\n",
       "      <td>Comedy,Musical,Romance</td>\n",
       "      <td>1955.0</td>\n",
       "      <td>7.1</td>\n",
       "      <td>688.0</td>\n",
       "      <td>101</td>\n",
       "      <td>Counter({'freedom': 1})</td>\n",
       "      <td>0.009901</td>\n",
       "    </tr>\n",
       "    <tr>\n",
       "      <th>9</th>\n",
       "      <td>Amici miei</td>\n",
       "      <td>NaN</td>\n",
       "      <td>Comedy,Drama</td>\n",
       "      <td>1975.0</td>\n",
       "      <td>7.9</td>\n",
       "      <td>8171.0</td>\n",
       "      <td>163</td>\n",
       "      <td>Counter()</td>\n",
       "      <td>0.000000</td>\n",
       "    </tr>\n",
       "  </tbody>\n",
       "</table>\n",
       "</div>"
      ],
      "text/plain": [
       "                      title  box_office             genres_IMDB  release_year  \\\n",
       "0                Taxi Blues         NaN                     NaN        1990.0   \n",
       "1                Narasimham         NaN            Action,Drama        2000.0   \n",
       "2               Up and Down   2705163.0                     NaN        2004.0   \n",
       "3  Ghost In The Noonday Sun         NaN                     NaN        1973.0   \n",
       "4            Ashes to Ashes         NaN                Thriller        1999.0   \n",
       "5        The Rats of Tobruk         NaN        Action,Drama,War        1944.0   \n",
       "6                Nee Sneham         NaN                     NaN        2002.0   \n",
       "7              Bhagwan Dada         NaN                     NaN        1986.0   \n",
       "8            Mr. & Mrs. '55         NaN  Comedy,Musical,Romance        1955.0   \n",
       "9                Amici miei         NaN            Comedy,Drama        1975.0   \n",
       "\n",
       "   averageRating  numVotes  Total_tokens          Tokens_US_frequencies  \\\n",
       "0            NaN       NaN            16                      Counter()   \n",
       "1            7.6    2012.0           270  Counter({'supreme court': 1})   \n",
       "2            NaN       NaN            50                      Counter()   \n",
       "3            NaN       NaN            32                      Counter()   \n",
       "4            7.1      23.0           217   Counter({'independence': 1})   \n",
       "5            5.4     316.0            82                      Counter()   \n",
       "6            NaN       NaN           212                      Counter()   \n",
       "7            NaN       NaN           808         Counter({'pledge': 1})   \n",
       "8            7.1     688.0           101        Counter({'freedom': 1})   \n",
       "9            7.9    8171.0           163                      Counter()   \n",
       "\n",
       "   Percentage_american_culture_lexicon  \n",
       "0                             0.000000  \n",
       "1                             0.003704  \n",
       "2                             0.000000  \n",
       "3                             0.000000  \n",
       "4                             0.004608  \n",
       "5                             0.000000  \n",
       "6                             0.000000  \n",
       "7                             0.001238  \n",
       "8                             0.009901  \n",
       "9                             0.000000  "
      ]
     },
     "execution_count": 14,
     "metadata": {},
     "output_type": "execute_result"
    }
   ],
   "source": [
    "df_US_lexicon_RoW = pd.read_csv(\"data/NLP_datasets/NLP_US_lexicon/RoW_movies_NLP_US_lexicon.csv\", sep=',') \n",
    "\n",
    "# Percentages of american culture using GPE\n",
    "mean_american_culture_US_lexicon_RoW_movies = df_US_lexicon_RoW['Percentage_american_culture_lexicon'].mean()*100\n",
    "\n",
    "# count the proportions of zeros\n",
    "df_US_lexicon_RoW['Percentage_american_culture_lexicon'] = pd.to_numeric(df_US_lexicon_RoW['Percentage_american_culture_lexicon']).astype('float64')\n",
    "proportion_0_percenatge_RoW_US_lexicon = (len(df_US_lexicon_RoW[df_US_lexicon_RoW['Percentage_american_culture_lexicon'] == 0.0])/len(df_US_lexicon_RoW)*100)\n",
    "\n",
    "print(f\"The mean american culture percentage for Non-US produced movies using only GPE information is {mean_american_culture_US_lexicon_RoW_movies:.2f} %.\")\n",
    "print(f\"The percentage of zero values on the Non US-produced GPE dataset is: {proportion_0_percenatge_RoW_US_lexicon:.2f} %.\")\n",
    "\n",
    "df_US_lexicon_RoW.head(10)"
   ]
  },
  {
   "cell_type": "markdown",
   "metadata": {},
   "source": [
    "#### Visualization of the mean percentage of american culture using the US words lexicon"
   ]
  },
  {
   "cell_type": "code",
   "execution_count": 21,
   "metadata": {},
   "outputs": [
    {
     "name": "stdout",
     "output_type": "stream",
     "text": [
      "<class 'numpy.float64'>\n"
     ]
    },
    {
     "data": {
      "image/png": "[encoded data removed]",
      "text/plain": [
       "<Figure size 1200x800 with 1 Axes>"
      ]
     },
     "metadata": {},
     "output_type": "display_data"
    }
   ],
   "source": [
    "list_df_names = ['US-only produced movies', 'Partially US-produced movies' , 'Non-US produced movies (RoW)']\n",
    "list_df_US_lexicon_results = [df_US_lexicon_us_only, df_US_lexicon_us_partially, df_US_lexicon_RoW]\n",
    "mean_american_culture_US_lexicon_results = []\n",
    "\n",
    "for name, df in zip(list_df_names, list_df_US_lexicon_results):\n",
    "    mean_american_culture_US_lexicon_results.append(df['Percentage_american_culture_lexicon'].mean()*100)\n",
    "\n",
    "# Creation of a pandas dataframe in order to plot with Seaborn\n",
    "df_plotting_US_lexicon_results = pd.DataFrame({\n",
    "    'Production Type': list_df_names,\n",
    "    'Mean American Culture [%]': mean_american_culture_US_lexicon_results\n",
    "})\n",
    "\n",
    "print(type(mean_american_culture_US_lexicon_results[0]))\n",
    "\n",
    "# Plotting\n",
    "plt.figure(figsize=(12,8))\n",
    "sns.barplot(\n",
    "    data= df_plotting_US_lexicon_results, \n",
    "    x='Production Type', \n",
    "    y='Mean American Culture [%]', \n",
    "    palette=['darkcyan', 'sandybrown', 'lightpink'], \n",
    "    errorbar= 'sd'\n",
    ")\n",
    "plt.ylabel(\"Mean American Culture [%]\")\n",
    "plt.title(\"Mean American Culture Percentage in Plot Summaries Using Lexicon of US Words for Producing Movie Country\")\n",
    "plt.tight_layout()\n",
    "plt.show()\n",
    "\n",
    "# plt.figure(figsize=(12,8))\n",
    "# #plt.bar(list_df_names, mean_american_culture_US_lexicon_results, edgecolor ='black')\n",
    "# sns.barplot(list_df_names, mean_american_culture_US_lexicon_results,errorbar=('ci', 95))\n",
    "# plt.ylabel(\"Mean american culture [%]\")\n",
    "# plt.title(\"Mean amercian culture percentage in plots summaries using lexicon of US words for producing movie country\")\n",
    "# plt.tight_layout()\n",
    "# # plt.savefig(\"data/plots_best/mean_american_culture_GPE.png\", dpi = 300, bbox_inches = 'tight')\n",
    "# plt.show()"
   ]
  },
  {
   "cell_type": "markdown",
   "metadata": {},
   "source": [
    "#### Comparison of the two NLP methods: GPE vs US lexicon"
   ]
  },
  {
   "cell_type": "code",
   "execution_count": 30,
   "metadata": {},
   "outputs": [
    {
     "name": "stdout",
     "output_type": "stream",
     "text": [
      "The below dataset shows the mean percentage of American culture for the tow implemented methods.\n"
     ]
    },
    {
     "data": {
      "text/html": [
       "<style type=\"text/css\">\n",
       "</style>\n",
       "<table id=\"T_1a847\">\n",
       "  <thead>\n",
       "    <tr>\n",
       "      <th class=\"blank level0\" >&nbsp;</th>\n",
       "      <th id=\"T_1a847_level0_col0\" class=\"col_heading level0 col0\" >US-only produced movies</th>\n",
       "      <th id=\"T_1a847_level0_col1\" class=\"col_heading level0 col1\" >Partially US-produced movies</th>\n",
       "      <th id=\"T_1a847_level0_col2\" class=\"col_heading level0 col2\" >Non US-produced movies</th>\n",
       "    </tr>\n",
       "    <tr>\n",
       "      <th class=\"index_name level0\" >Method</th>\n",
       "      <th class=\"blank col0\" >&nbsp;</th>\n",
       "      <th class=\"blank col1\" >&nbsp;</th>\n",
       "      <th class=\"blank col2\" >&nbsp;</th>\n",
       "    </tr>\n",
       "  </thead>\n",
       "  <tbody>\n",
       "    <tr>\n",
       "      <th id=\"T_1a847_level0_row0\" class=\"row_heading level0 row0\" >GPE</th>\n",
       "      <td id=\"T_1a847_row0_col0\" class=\"data row0 col0\" >36.72</td>\n",
       "      <td id=\"T_1a847_row0_col1\" class=\"data row0 col1\" >27.61</td>\n",
       "      <td id=\"T_1a847_row0_col2\" class=\"data row0 col2\" >4.80</td>\n",
       "    </tr>\n",
       "    <tr>\n",
       "      <th id=\"T_1a847_level0_row1\" class=\"row_heading level0 row1\" >US lexicon</th>\n",
       "      <td id=\"T_1a847_row1_col0\" class=\"data row1 col0\" >0.59</td>\n",
       "      <td id=\"T_1a847_row1_col1\" class=\"data row1 col1\" >0.41</td>\n",
       "      <td id=\"T_1a847_row1_col2\" class=\"data row1 col2\" >0.25</td>\n",
       "    </tr>\n",
       "  </tbody>\n",
       "</table>\n"
      ],
      "text/plain": [
       "<pandas.io.formats.style.Styler at 0x1d920624c90>"
      ]
     },
     "execution_count": 30,
     "metadata": {},
     "output_type": "execute_result"
    }
   ],
   "source": [
    "# Dataframe summarizing the findings.\n",
    "\n",
    "dict_NLP_american_culture = {'US-only produced movies': [mean_american_culture_GPE_results[0], mean_american_culture_US_lexicon_results[0]], \n",
    "                   'Partially US-produced movies': [mean_american_culture_GPE_results[1], mean_american_culture_US_lexicon_results[1]], \n",
    "                   'Non US-produced movies': [mean_american_culture_GPE_results[2], mean_american_culture_US_lexicon_results[2]] \n",
    "                   }\n",
    "\n",
    "index_names = [\"GPE\", \"US lexicon\"]\n",
    "\n",
    "df_summary_NLP_results = pd.DataFrame(dict_NLP_american_culture, index = index_names)\n",
    "df_summary_NLP_results.index.name = \"Method\"\n",
    "\n",
    "print(\"The below dataset shows the mean percentage of American culture for the tow implemented methods.\")\n",
    "df_summary_NLP_results.style.format(\"{:.2f}\") # to display only 2 decimals after the comma taking advantage of the Jupyter notebook environment"
   ]
  }
 ],
 "metadata": {
  "kernelspec": {
   "display_name": "ada",
   "language": "python",
   "name": "python3"
  },
  "language_info": {
   "codemirror_mode": {
    "name": "ipython",
    "version": 3
   },
   "file_extension": ".py",
   "mimetype": "text/x-python",
   "name": "python",
   "nbconvert_exporter": "python",
   "pygments_lexer": "ipython3",
   "version": "3.11.9"
  }
 },
 "nbformat": 4,
 "nbformat_minor": 2
}
