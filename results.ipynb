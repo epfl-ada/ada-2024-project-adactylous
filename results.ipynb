{
 "cells": [
  {
   "cell_type": "markdown",
   "metadata": {},
   "source": [
    "# ADA Project: Welcome to the analysis of **Amercian Influence in the Cinema industry**"
   ]
  },
  {
   "cell_type": "markdown",
   "metadata": {},
   "source": [
    "## Quick abstract ? and authors\n",
    "- Chloé Bouchiat\n",
    "- Claire Pinson\n",
    "- Germana Sergi\n",
    "- Luca Soravia\n",
    "- Marlène Stöckli"
   ]
  },
  {
   "cell_type": "markdown",
   "metadata": {},
   "source": [
    "## This notebook presents our results in clear and concise manner and is organised as follow\n",
    "- main librairies and specific functions from the utils folder\n",
    "- our analysis workflow with a markdown cell explaining each code cell"
   ]
  },
  {
   "cell_type": "code",
   "execution_count": null,
   "metadata": {},
   "outputs": [],
   "source": [
    "# import the needed libarairies\n",
    "# retire / ajouter des librairies si besoin\n",
    "import os\n",
    "import time\n",
    "import math\n",
    "import numpy as np\n",
    "import pandas as pd\n",
    "import matplotlib.pyplot as plt"
   ]
  }
 ],
 "metadata": {
  "kernelspec": {
   "display_name": "ada",
   "language": "python",
   "name": "python3"
  },
  "language_info": {
   "name": "python",
   "version": "3.11.9"
  }
 },
 "nbformat": 4,
 "nbformat_minor": 2
}
