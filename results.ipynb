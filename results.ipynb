{
 "cells": [
  {
   "cell_type": "markdown",
   "metadata": {},
   "source": [
    "# ADA Project: Welcome to the analysis of **Amercian Influence in the Cinema industry**"
   ]
  },
  {
   "cell_type": "markdown",
   "metadata": {},
   "source": [
    "## Quick abstract ? and authors\n",
    "- Chloé Bouchiat\n",
    "- Claire Pinson\n",
    "- Germana Sergi\n",
    "- Luca Soravia\n",
    "- Marlène Stöckli"
   ]
  },
  {
   "cell_type": "markdown",
   "metadata": {},
   "source": [
    "## This notebook presents our results in clear and concise manner and is organised as follow\n",
    "- main librairies and specific functions from the utils folder\n",
    "- our analysis workflow with a markdown cell explaining each code cell\n",
    "- The notebook reads as follow:\n",
    "    - movie.metadata enriched by IMDB ratings\n",
    "        - General information about the dataset\n",
    "        - Exploratory analysis of the dataset according to our research questions\n",
    "    - character.metadata enriched with wikipedia actor's nationality\n",
    "        - General information about the dataset\n",
    "        - Exploratory analysis of the dataset according to our research questions"
   ]
  },
  {
   "cell_type": "code",
   "execution_count": null,
   "metadata": {},
   "outputs": [],
   "source": [
    "# import the needed libarairies\n",
    "# retire / ajouter des librairies si besoin\n",
    "import os\n",
    "import time\n",
    "import math\n",
    "import numpy as np\n",
    "import pandas as pd\n",
    "import seaborn as sns\n",
    "import matplotlib.pyplot as plt"
   ]
  },
  {
   "cell_type": "markdown",
   "metadata": {},
   "source": [
    "# 1. Movie metadata enriched with IMDB ratings"
   ]
  },
  {
   "cell_type": "markdown",
   "metadata": {},
   "source": [
    "### 1.1 General information about the dataset\n",
    "- pie charts and print statements + basics stats"
   ]
  },
  {
   "cell_type": "markdown",
   "metadata": {},
   "source": [
    "### 1.2 Exploratory analysis of the dataset according to our research questions\n",
    "- main plots \n",
    "- organiser en sous section suivnat les research questions (à voir)\n",
    "- rajouter des cells en markdown qui expliquent nos plots\n",
    "- **essayer de faire des liens avec nos recherches questions dans nos textes pour voir la cohérence de l'ensemble**"
   ]
  },
  {
   "cell_type": "markdown",
   "metadata": {},
   "source": [
    "# 2. Character metadata enriched with wikipedia actor's nationality"
   ]
  },
  {
   "cell_type": "markdown",
   "metadata": {},
   "source": [
    "### 2.1 General information about the dataset\n",
    "- pie charts and print statements + basics stats"
   ]
  },
  {
   "cell_type": "markdown",
   "metadata": {},
   "source": [
    "### 2.2 Exploratory analysis of the dataset according to our research questions\n",
    "- main plots \n",
    "- organiser en sous section suivnat les research questions (à voir)\n",
    "- rajouter des cells en markdown qui expliquent nos plots\n",
    "- **essayer de faire des liens avec nos recherches questions dans nos textes pour voir la cohérence de l'ensemble**"
   ]
  }
 ],
 "metadata": {
  "kernelspec": {
   "display_name": "ada",
   "language": "python",
   "name": "python3"
  },
  "language_info": {
   "name": "python",
   "version": "3.11.9"
  }
 },
 "nbformat": 4,
 "nbformat_minor": 2
}
