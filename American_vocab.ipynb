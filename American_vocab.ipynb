{
 "cells": [
  {
   "cell_type": "code",
   "execution_count": 1,
   "metadata": {},
   "outputs": [],
   "source": [
    "# Extract United States \n",
    "import wikipedia\n",
    "import spacy \n",
    "nlp = spacy.load('en_core_web_sm')\n",
    "\n",
    "# Specify the title of the Wikipedia page\n",
    "wiki = wikipedia.page('United States')\n",
    "\n",
    "# Extract the plain text content of the page, excluding images, tables, and other data.\n",
    "text = wiki.content\n",
    "\n",
    "# Replace '==' with '' (an empty string)\n",
    "text = text.replace('==', '')\n",
    "\n",
    "# Replace '\\n' (a new line) with '' & end the string at $1000.\n",
    "text = text.replace('\\n', '')[:-12]\n",
    "\n",
    "encoded_text = nlp(text)"
   ]
  },
  {
   "cell_type": "code",
   "execution_count": 2,
   "metadata": {},
   "outputs": [
    {
     "name": "stdout",
     "output_type": "stream",
     "text": [
      "bla is in the text!\n"
     ]
    }
   ],
   "source": [
    "#encoded_text[1]\n",
    "encoded_text[1].text\n",
    "\n",
    "if any(token.text == \"Hollywood\" for token in encoded_text):\n",
    "    print(f\"bla is in the text!\")"
   ]
  },
  {
   "cell_type": "code",
   "execution_count": 12,
   "metadata": {},
   "outputs": [
    {
     "name": "stdout",
     "output_type": "stream",
     "text": [
      "15317\n"
     ]
    },
    {
     "data": {
      "text/plain": [
       "3675"
      ]
     },
     "execution_count": 12,
     "metadata": {},
     "output_type": "execute_result"
    }
   ],
   "source": [
    "# Words that appear in USa summaries but not in foreign ones \n",
    "american_vocab = [i.text for i in encoded_text]\n",
    "print(len(american_vocab))\n",
    "\n",
    "no_dupli = list(set(american_vocab))\n",
    "len(no_dupli)"
   ]
  },
  {
   "cell_type": "code",
   "execution_count": null,
   "metadata": {},
   "outputs": [],
   "source": []
  }
 ],
 "metadata": {
  "kernelspec": {
   "display_name": "ADA",
   "language": "python",
   "name": "python3"
  },
  "language_info": {
   "codemirror_mode": {
    "name": "ipython",
    "version": 3
   },
   "file_extension": ".py",
   "mimetype": "text/x-python",
   "name": "python",
   "nbconvert_exporter": "python",
   "pygments_lexer": "ipython3",
   "version": "3.11.10"
  }
 },
 "nbformat": 4,
 "nbformat_minor": 2
}
